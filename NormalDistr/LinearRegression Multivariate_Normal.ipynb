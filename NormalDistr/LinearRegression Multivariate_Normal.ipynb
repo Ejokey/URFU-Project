{
 "cells": [
  {
   "cell_type": "markdown",
   "metadata": {},
   "source": [
    "# Exercise 2"
   ]
  },
  {
   "cell_type": "code",
   "execution_count": 13,
   "metadata": {},
   "outputs": [],
   "source": [
    "import numpy as np\n",
    "from sklearn.linear_model import LinearRegression\n",
    "from sklearn.metrics import mean_squared_error\n",
    "from scipy.stats import multivariate_normal\n",
    "%matplotlib inline\n",
    "import matplotlib\n",
    "import matplotlib.pyplot as plt\n",
    "import csv\n",
    "\n",
    "np.random.seed(1234)"
   ]
  },
  {
   "cell_type": "code",
   "execution_count": 14,
   "metadata": {},
   "outputs": [],
   "source": [
    "def make_data(n, p, mean=0, cov=1):\n",
    "    mean_vector = np.full((p,), mean)\n",
    "    \n",
    "    cov_diag = np.full((p,), cov)\n",
    "    cov_matrix = np.diagflat(cov_diag)\n",
    "    \n",
    "    observations_x = np.random.multivariate_normal(mean_vector, cov_matrix, n)\n",
    "    \n",
    "    observations_y = np.random.randn(n)\n",
    "    \n",
    "    return observations_x, observations_y"
   ]
  },
  {
   "cell_type": "code",
   "execution_count": 15,
   "metadata": {},
   "outputs": [],
   "source": [
    "def linear_regression(train_X, train_Y, test_X, test_Y):\n",
    "    regression_model = LinearRegression().fit(train_X, train_Y)\n",
    "\n",
    "    train_results = regression_model.predict(train_X)\n",
    "    test_results = regression_model.predict(test_X)\n",
    "\n",
    "    train_error = mean_squared_error(train_Y, train_results)\n",
    "    test_error = mean_squared_error(test_Y, test_results)\n",
    "    parameters_norm = np.linalg.norm(regression_model.coef_)\n",
    "    \n",
    "    return train_error, test_error, parameters_norm"
   ]
  },
  {
   "cell_type": "code",
   "execution_count": 16,
   "metadata": {},
   "outputs": [],
   "source": [
    "def test_regression(train_X, train_Y, test_X, test_Y, p):\n",
    "    train_X = train_X[:,:p]\n",
    "    test_X = test_X[:,:p]\n",
    "    \n",
    "    train_error, test_error, parameters_norm = linear_regression(train_X, train_Y, test_X, test_Y)\n",
    "    \n",
    "    return train_error, test_error, parameters_norm"
   ]
  },
  {
   "cell_type": "code",
   "execution_count": 17,
   "metadata": {
    "scrolled": true
   },
   "outputs": [
    {
     "name": "stdout",
     "output_type": "stream",
     "text": [
      "p: 1 | train loss: 0.95523; test loss: 1.14754; norm: 0.03021\n",
      "p: 51 | train loss: 0.69986; test loss: 1.41151; norm: 0.54857\n",
      "p: 101 | train loss: 0.47800; test loss: 2.22926; norm: 1.03990\n",
      "p: 151 | train loss: 0.25624; test loss: 4.17347; norm: 1.69356\n",
      "p: 201 | train loss: 0.00000; test loss: 62.79128; norm: 7.94488\n",
      "p: 251 | train loss: 0.00000; test loss: 4.39671; norm: 1.88699\n",
      "p: 301 | train loss: 0.00000; test loss: 2.55745; norm: 1.35683\n",
      "p: 351 | train loss: 0.00000; test loss: 2.28155; norm: 1.10854\n",
      "p: 401 | train loss: 0.00000; test loss: 1.89678; norm: 0.94541\n",
      "p: 451 | train loss: 0.00000; test loss: 2.04608; norm: 0.83389\n",
      "p: 501 | train loss: 0.00000; test loss: 1.93384; norm: 0.80615\n",
      "p: 551 | train loss: 0.00000; test loss: 1.70737; norm: 0.70885\n",
      "p: 601 | train loss: 0.00000; test loss: 1.64745; norm: 0.67047\n",
      "p: 651 | train loss: 0.00000; test loss: 1.64110; norm: 0.62063\n",
      "p: 701 | train loss: 0.00000; test loss: 1.58073; norm: 0.60313\n",
      "p: 751 | train loss: 0.00000; test loss: 1.48195; norm: 0.57847\n",
      "p: 801 | train loss: 0.00000; test loss: 1.43077; norm: 0.56458\n",
      "p: 851 | train loss: 0.00000; test loss: 1.36856; norm: 0.52801\n",
      "p: 901 | train loss: 0.00000; test loss: 1.33972; norm: 0.51609\n",
      "p: 951 | train loss: 0.00000; test loss: 1.29980; norm: 0.49792\n"
     ]
    }
   ],
   "source": [
    "n_train = 200\n",
    "n_test = 100\n",
    "max_features = 1000\n",
    "\n",
    "train_X, train_Y = make_data(n_train, max_features, mean=0, cov=1)\n",
    "test_X, test_Y = make_data(n_test, max_features, mean=0, cov=1)\n",
    "\n",
    "ps = []\n",
    "train_errors = []\n",
    "test_errors = []\n",
    "parameters_norms = []\n",
    "with open('linear_regression_results.csv', 'w', newline='') as fout:\n",
    "    writer = csv.DictWriter(fout, fieldnames=['# parameters', 'train loss', 'test loss', 'parameters norm'])\n",
    "    writer.writeheader()\n",
    "    for p in range(1, max_features, 50):\n",
    "        train_error, test_error, parameters_norm = test_regression(train_X, train_Y, test_X, test_Y, p)\n",
    "        ps.append(p)\n",
    "        train_errors.append(train_error)\n",
    "        test_errors.append(test_error)\n",
    "        parameters_norms.append(parameters_norm)\n",
    "\n",
    "        print('p: {} | train loss: {:.5f}; test loss: {:.5f}; norm: {:.5f}'.format(p, train_error, test_error, parameters_norm))\n",
    "\n",
    "        writer.writerow({\n",
    "            '# parameters': p,\n",
    "            'train loss': train_error,\n",
    "            'test loss': test_error,\n",
    "            'parameters norm': parameters_norm\n",
    "        })"
   ]
  },
  {
   "cell_type": "code",
   "execution_count": 18,
   "metadata": {},
   "outputs": [
    {
     "data": {
      "image/png": "[encoded data removed]",
      "text/plain": [
       "<Figure size 432x288 with 1 Axes>"
      ]
     },
     "metadata": {
      "needs_background": "light"
     },
     "output_type": "display_data"
    }
   ],
   "source": [
    "fig, ax = plt.subplots()\n",
    "ax.plot(ps, train_errors)\n",
    "\n",
    "ax.set(xlabel='Number of Features (p)', ylabel='Mean Squared Loss',\n",
    "       title='Train Loss')\n",
    "ax.grid()"
   ]
  },
  {
   "cell_type": "code",
   "execution_count": 19,
   "metadata": {},
   "outputs": [
    {
     "data": {
      "text/plain": [
       "(0.0, 30.0)"
      ]
     },
     "execution_count": 19,
     "metadata": {},
     "output_type": "execute_result"
    },
    {
     "data": {
      "image/png": "[encoded data removed]",
      "text/plain": [
       "<Figure size 432x288 with 1 Axes>"
      ]
     },
     "metadata": {
      "needs_background": "light"
     },
     "output_type": "display_data"
    }
   ],
   "source": [
    "plt.xlabel('Number of Features (p)')\n",
    "plt.ylabel('Mean Squared Loss')\n",
    "plt.title('Test Loss')\n",
    "plt.plot(ps, test_errors)\n",
    "plt.ylim(0, 30)"
   ]
  },
  {
   "cell_type": "code",
   "execution_count": 20,
   "metadata": {},
   "outputs": [
    {
     "data": {
      "text/plain": [
       "(0.0, 5.0)"
      ]
     },
     "execution_count": 20,
     "metadata": {},
     "output_type": "execute_result"
    },
    {
     "data": {
      "image/png": "[encoded data removed]",
      "text/plain": [
       "<Figure size 432x288 with 1 Axes>"
      ]
     },
     "metadata": {
      "needs_background": "light"
     },
     "output_type": "display_data"
    }
   ],
   "source": [
    "plt.xlabel('Number of Features (p)')\n",
    "plt.ylabel('Norm')\n",
    "plt.title('Norm of Model’s Parameter Vector')\n",
    "plt.plot(ps, parameters_norms)\n",
    "plt.ylim(0, 5)"
   ]
  },
  {
   "cell_type": "code",
   "execution_count": null,
   "metadata": {},
   "outputs": [],
   "source": []
  }
 ],
 "metadata": {
  "kernelspec": {
   "display_name": "Python 3",
   "language": "python",
   "name": "python3"
  },
  "language_info": {
   "codemirror_mode": {
    "name": "ipython",
    "version": 3
   },
   "file_extension": ".py",
   "mimetype": "text/x-python",
   "name": "python",
   "nbconvert_exporter": "python",
   "pygments_lexer": "ipython3",
   "version": "3.8.3"
  }
 },
 "nbformat": 4,
 "nbformat_minor": 2
}
