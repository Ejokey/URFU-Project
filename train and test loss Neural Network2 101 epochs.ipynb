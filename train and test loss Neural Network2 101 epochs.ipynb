{
 "cells": [
  {
   "cell_type": "markdown",
   "metadata": {},
   "source": [
    "# Exercise 2"
   ]
  },
  {
   "cell_type": "markdown",
   "metadata": {},
   "source": [
    "## Instructions \n",
    "\n",
    "1. Generate train and test data.\n",
    "2. Define a class NN of one-hidden neural net. The __init__ function takes 3 parameters (inputsize, hiddensize, outputsize).\n",
    "\n",
    "2. Define a list hidden_size = [2, ...., 33, ....128] with a step 5. Be sure that list contains 33, which corresponds to the case of interpolation threshold, i.e. the number of parameters equals to the number of training points.\n",
    "3. \n",
    "\n",
    "for h in hidden_size:\n",
    "    define model(inputsize, hiddensize, outputsize)\n",
    "    for e in epochs:\n",
    "        forward step: output = model(input)\n",
    "        compute loss \n",
    "        backpropagate loss (use backward)\n",
    "        \n",
    "    get train loss (after training): train_out = model(input)\n",
    "    train_loss = criterion(train_out, labels)\n",
    "    get test_loss: test_out = model(input)\n",
    "    test_loss = criterion(test_out, labels)\n",
    "       \n",
    "4. Plot saved list of train and test losses, x axis reveals each h, y axis is loss values.\n",
    "     "
   ]
  },
  {
   "cell_type": "code",
   "execution_count": 33,
   "metadata": {},
   "outputs": [],
   "source": [
    "import numpy as np\n",
    "from sklearn.linear_model import LinearRegression\n",
    "from sklearn.metrics import mean_squared_error\n",
    "from scipy.stats import multivariate_normal\n",
    "%matplotlib inline\n",
    "import matplotlib\n",
    "import matplotlib.pyplot as plt\n",
    "import csv\n",
    "import torch\n",
    "from torch.autograd import Variable\n",
    "import torch.nn as nn\n",
    "from sklearn import datasets\n",
    "from sklearn.model_selection import train_test_split\n",
    "\n",
    "np.random.seed(1234)"
   ]
  },
  {
   "cell_type": "code",
   "execution_count": 34,
   "metadata": {},
   "outputs": [],
   "source": [
    "x_values = np.random.normal(size = 200)\n",
    "x_vals = np.array(x_values, dtype=np.float32)\n",
    "r = np.random.normal(0, 3, size = 200)\n",
    "\n",
    "y_values = [3*i + 5 for i in x_values] + r\n",
    "y_vals = np.array(y_values, dtype=np.float32)\n"
   ]
  },
  {
   "cell_type": "code",
   "execution_count": 35,
   "metadata": {},
   "outputs": [],
   "source": [
    "x_train, x_test, y_train, y_test = (train_test_split(x_vals, y_vals, test_size=0.2))"
   ]
  },
  {
   "cell_type": "code",
   "execution_count": 36,
   "metadata": {},
   "outputs": [],
   "source": [
    "x_train = (x_train).reshape(-1, 1)\n",
    "x_test = (x_test).reshape(-1, 1)\n",
    "y_train = (y_train).reshape(-1, 1)\n",
    "y_test = (y_test).reshape(-1, 1)"
   ]
  },
  {
   "cell_type": "code",
   "execution_count": 37,
   "metadata": {},
   "outputs": [
    {
     "data": {
      "text/plain": [
       "(200,)"
      ]
     },
     "execution_count": 37,
     "metadata": {},
     "output_type": "execute_result"
    }
   ],
   "source": [
    "x_vals.shape"
   ]
  },
  {
   "cell_type": "code",
   "execution_count": 38,
   "metadata": {},
   "outputs": [
    {
     "name": "stdout",
     "output_type": "stream",
     "text": [
      "(160, 1)\n",
      "(160, 1)\n"
     ]
    }
   ],
   "source": [
    "print(x_train.shape)\n",
    "print(y_train.shape)"
   ]
  },
  {
   "cell_type": "code",
   "execution_count": 39,
   "metadata": {},
   "outputs": [
    {
     "data": {
      "text/plain": [
       "<matplotlib.collections.PathCollection at 0x2024d792a00>"
      ]
     },
     "execution_count": 39,
     "metadata": {},
     "output_type": "execute_result"
    },
    {
     "data": {
      "image/png": "[encoded data removed]",
      "text/plain": [
       "<Figure size 432x288 with 1 Axes>"
      ]
     },
     "metadata": {
      "needs_background": "light"
     },
     "output_type": "display_data"
    }
   ],
   "source": [
    "plt.scatter(x_train, y_train)"
   ]
  },
  {
   "cell_type": "code",
   "execution_count": 40,
   "metadata": {},
   "outputs": [],
   "source": [
    "class NN(torch.nn.Module):\n",
    "    def __init__(self, inputSize, hiddenSize, outputSize):\n",
    "        super(NN, self).__init__()\n",
    "        self.linear = nn.Sequential(torch.nn.Linear(inputSize, hiddenSize),\n",
    "                                    torch.nn.ReLU(),\n",
    "                                    torch.nn.Linear(hiddenSize, outputSize))\n",
    "                                    \n",
    "\n",
    "    def forward(self, x):\n",
    "        out = self.linear(x)\n",
    "        return out"
   ]
  },
  {
   "cell_type": "code",
   "execution_count": 41,
   "metadata": {},
   "outputs": [],
   "source": [
    "inputDim = 1\n",
    "hidden_sizes = 100\n",
    "outputDim = 1      \n",
    "learningRate = 0.01 \n",
    "epochs = 101\n",
    "\n"
   ]
  },
  {
   "cell_type": "code",
   "execution_count": 42,
   "metadata": {
    "scrolled": true
   },
   "outputs": [],
   "source": [
    "criterion = torch.nn.MSELoss() "
   ]
  },
  {
   "cell_type": "code",
   "execution_count": 43,
   "metadata": {},
   "outputs": [
    {
     "name": "stdout",
     "output_type": "stream",
     "text": [
      "h: 2 | epoch: 0, loss: 46.03596878051758\n",
      "h: 2 | epoch: 50, loss: 17.14581298828125\n",
      "h: 2 | epoch: 100, loss: 15.674542427062988\n",
      "h: 3 | epoch: 0, loss: 48.082881927490234\n",
      "h: 3 | epoch: 50, loss: 13.329673767089844\n",
      "h: 3 | epoch: 100, loss: 8.924997329711914\n",
      "h: 4 | epoch: 0, loss: 41.93513107299805\n",
      "h: 4 | epoch: 50, loss: 9.918656349182129\n",
      "h: 4 | epoch: 100, loss: 8.774276733398438\n",
      "h: 5 | epoch: 0, loss: 40.9210090637207\n",
      "h: 5 | epoch: 50, loss: 10.428961753845215\n",
      "h: 5 | epoch: 100, loss: 8.585746765136719\n",
      "h: 6 | epoch: 0, loss: 40.16803741455078\n",
      "h: 6 | epoch: 50, loss: 9.052778244018555\n",
      "h: 6 | epoch: 100, loss: 8.546297073364258\n",
      "h: 7 | epoch: 0, loss: 45.48345947265625\n",
      "h: 7 | epoch: 50, loss: 9.325770378112793\n",
      "h: 7 | epoch: 100, loss: 8.411781311035156\n",
      "h: 8 | epoch: 0, loss: 41.996498107910156\n",
      "h: 8 | epoch: 50, loss: 9.229877471923828\n",
      "h: 8 | epoch: 100, loss: 8.181831359863281\n",
      "h: 9 | epoch: 0, loss: 41.877113342285156\n",
      "h: 9 | epoch: 50, loss: 9.268392562866211\n",
      "h: 9 | epoch: 100, loss: 8.417810440063477\n",
      "h: 10 | epoch: 0, loss: 44.342952728271484\n",
      "h: 10 | epoch: 50, loss: 8.790481567382812\n",
      "h: 10 | epoch: 100, loss: 8.416439056396484\n",
      "h: 11 | epoch: 0, loss: 43.021888732910156\n",
      "h: 11 | epoch: 50, loss: 8.208112716674805\n",
      "h: 11 | epoch: 100, loss: 7.971424102783203\n",
      "h: 12 | epoch: 0, loss: 43.25969314575195\n",
      "h: 12 | epoch: 50, loss: 8.645952224731445\n",
      "h: 12 | epoch: 100, loss: 8.09215259552002\n",
      "h: 13 | epoch: 0, loss: 39.84232711791992\n",
      "h: 13 | epoch: 50, loss: 9.427862167358398\n",
      "h: 13 | epoch: 100, loss: 8.096781730651855\n",
      "h: 14 | epoch: 0, loss: 48.1923828125\n",
      "h: 14 | epoch: 50, loss: 8.830497741699219\n",
      "h: 14 | epoch: 100, loss: 8.122748374938965\n",
      "h: 15 | epoch: 0, loss: 48.63803482055664\n",
      "h: 15 | epoch: 50, loss: 8.721996307373047\n",
      "h: 15 | epoch: 100, loss: 8.190982818603516\n",
      "h: 16 | epoch: 0, loss: 42.25205993652344\n",
      "h: 16 | epoch: 50, loss: 8.855504035949707\n",
      "h: 16 | epoch: 100, loss: 8.247941970825195\n",
      "h: 17 | epoch: 0, loss: 42.30629348754883\n",
      "h: 17 | epoch: 50, loss: 9.081040382385254\n",
      "h: 17 | epoch: 100, loss: 8.433815002441406\n",
      "h: 18 | epoch: 0, loss: 48.79697799682617\n",
      "h: 18 | epoch: 50, loss: 8.566946029663086\n",
      "h: 18 | epoch: 100, loss: 8.081073760986328\n",
      "h: 19 | epoch: 0, loss: 46.05011749267578\n",
      "h: 19 | epoch: 50, loss: 8.74020767211914\n",
      "h: 19 | epoch: 100, loss: 8.423556327819824\n",
      "h: 20 | epoch: 0, loss: 50.905982971191406\n",
      "h: 20 | epoch: 50, loss: 8.99360179901123\n",
      "h: 20 | epoch: 100, loss: 8.401721000671387\n",
      "h: 21 | epoch: 0, loss: 45.0104866027832\n",
      "h: 21 | epoch: 50, loss: 9.18757152557373\n",
      "h: 21 | epoch: 100, loss: 8.114599227905273\n",
      "h: 22 | epoch: 0, loss: 42.66633987426758\n",
      "h: 22 | epoch: 50, loss: 8.488383293151855\n",
      "h: 22 | epoch: 100, loss: 8.030533790588379\n",
      "h: 23 | epoch: 0, loss: 44.90952682495117\n",
      "h: 23 | epoch: 50, loss: 8.432429313659668\n",
      "h: 23 | epoch: 100, loss: 8.025362014770508\n",
      "h: 24 | epoch: 0, loss: 43.76345443725586\n",
      "h: 24 | epoch: 50, loss: 8.67115306854248\n",
      "h: 24 | epoch: 100, loss: 8.108724594116211\n",
      "h: 25 | epoch: 0, loss: 48.21834182739258\n",
      "h: 25 | epoch: 50, loss: 8.959020614624023\n",
      "h: 25 | epoch: 100, loss: 8.118305206298828\n",
      "h: 26 | epoch: 0, loss: 47.3099479675293\n",
      "h: 26 | epoch: 50, loss: 9.354551315307617\n",
      "h: 26 | epoch: 100, loss: 8.11794376373291\n",
      "h: 27 | epoch: 0, loss: 51.68744659423828\n",
      "h: 27 | epoch: 50, loss: 9.028791427612305\n",
      "h: 27 | epoch: 100, loss: 8.079412460327148\n",
      "h: 28 | epoch: 0, loss: 45.71276092529297\n",
      "h: 28 | epoch: 50, loss: 8.865646362304688\n",
      "h: 28 | epoch: 100, loss: 8.211019515991211\n",
      "h: 29 | epoch: 0, loss: 47.904876708984375\n",
      "h: 29 | epoch: 50, loss: 9.043066024780273\n",
      "h: 29 | epoch: 100, loss: 8.13232707977295\n",
      "h: 30 | epoch: 0, loss: 51.804786682128906\n",
      "h: 30 | epoch: 50, loss: 8.912505149841309\n",
      "h: 30 | epoch: 100, loss: 7.998215675354004\n",
      "h: 31 | epoch: 0, loss: 46.323341369628906\n",
      "h: 31 | epoch: 50, loss: 9.113348960876465\n",
      "h: 31 | epoch: 100, loss: 8.072346687316895\n",
      "h: 32 | epoch: 0, loss: 38.56121826171875\n",
      "h: 32 | epoch: 50, loss: 9.068946838378906\n",
      "h: 32 | epoch: 100, loss: 8.263969421386719\n",
      "h: 33 | epoch: 0, loss: 43.73147201538086\n",
      "h: 33 | epoch: 50, loss: 8.62024974822998\n",
      "h: 33 | epoch: 100, loss: 8.101667404174805\n",
      "h: 34 | epoch: 0, loss: 48.08296585083008\n",
      "h: 34 | epoch: 50, loss: 9.516881942749023\n",
      "h: 34 | epoch: 100, loss: 8.117546081542969\n",
      "h: 35 | epoch: 0, loss: 43.40184783935547\n",
      "h: 35 | epoch: 50, loss: 8.360265731811523\n",
      "h: 35 | epoch: 100, loss: 8.09058666229248\n",
      "h: 36 | epoch: 0, loss: 51.18335723876953\n",
      "h: 36 | epoch: 50, loss: 8.26600456237793\n",
      "h: 36 | epoch: 100, loss: 8.040990829467773\n",
      "h: 37 | epoch: 0, loss: 44.75401306152344\n",
      "h: 37 | epoch: 50, loss: 8.889291763305664\n",
      "h: 37 | epoch: 100, loss: 8.44389533996582\n",
      "h: 38 | epoch: 0, loss: 42.06354904174805\n",
      "h: 38 | epoch: 50, loss: 8.620428085327148\n",
      "h: 38 | epoch: 100, loss: 8.389485359191895\n",
      "h: 39 | epoch: 0, loss: 44.51390838623047\n",
      "h: 39 | epoch: 50, loss: 8.540513038635254\n",
      "h: 39 | epoch: 100, loss: 7.988852024078369\n",
      "h: 40 | epoch: 0, loss: 43.655982971191406\n",
      "h: 40 | epoch: 50, loss: 8.815099716186523\n",
      "h: 40 | epoch: 100, loss: 8.31758975982666\n",
      "h: 41 | epoch: 0, loss: 49.82831954956055\n",
      "h: 41 | epoch: 50, loss: 8.500991821289062\n",
      "h: 41 | epoch: 100, loss: 7.986618995666504\n",
      "h: 42 | epoch: 0, loss: 46.2772102355957\n",
      "h: 42 | epoch: 50, loss: 8.253753662109375\n",
      "h: 42 | epoch: 100, loss: 8.006484031677246\n",
      "h: 43 | epoch: 0, loss: 41.20793914794922\n",
      "h: 43 | epoch: 50, loss: 9.207653999328613\n",
      "h: 43 | epoch: 100, loss: 8.062204360961914\n",
      "h: 44 | epoch: 0, loss: 44.57374572753906\n",
      "h: 44 | epoch: 50, loss: 9.193033218383789\n",
      "h: 44 | epoch: 100, loss: 8.261225700378418\n",
      "h: 45 | epoch: 0, loss: 41.83338165283203\n",
      "h: 45 | epoch: 50, loss: 8.550390243530273\n",
      "h: 45 | epoch: 100, loss: 8.124006271362305\n",
      "h: 46 | epoch: 0, loss: 48.0466423034668\n",
      "h: 46 | epoch: 50, loss: 8.931097030639648\n",
      "h: 46 | epoch: 100, loss: 8.072850227355957\n",
      "h: 47 | epoch: 0, loss: 45.752159118652344\n",
      "h: 47 | epoch: 50, loss: 8.602596282958984\n",
      "h: 47 | epoch: 100, loss: 8.0997314453125\n",
      "h: 48 | epoch: 0, loss: 47.83811569213867\n",
      "h: 48 | epoch: 50, loss: 9.281831741333008\n",
      "h: 48 | epoch: 100, loss: 8.053644180297852\n",
      "h: 49 | epoch: 0, loss: 44.346744537353516\n",
      "h: 49 | epoch: 50, loss: 8.31727123260498\n",
      "h: 49 | epoch: 100, loss: 8.181852340698242\n",
      "h: 50 | epoch: 0, loss: 39.39105987548828\n",
      "h: 50 | epoch: 50, loss: 9.346479415893555\n",
      "h: 50 | epoch: 100, loss: 8.386774063110352\n",
      "h: 51 | epoch: 0, loss: 41.305198669433594\n",
      "h: 51 | epoch: 50, loss: 9.116808891296387\n",
      "h: 51 | epoch: 100, loss: 8.422964096069336\n",
      "h: 52 | epoch: 0, loss: 43.567203521728516\n",
      "h: 52 | epoch: 50, loss: 8.857995986938477\n",
      "h: 52 | epoch: 100, loss: 8.270811080932617\n",
      "h: 53 | epoch: 0, loss: 45.53156280517578\n",
      "h: 53 | epoch: 50, loss: 8.594968795776367\n",
      "h: 53 | epoch: 100, loss: 8.243728637695312\n",
      "h: 54 | epoch: 0, loss: 43.74836730957031\n",
      "h: 54 | epoch: 50, loss: 8.740514755249023\n",
      "h: 54 | epoch: 100, loss: 8.052947998046875\n",
      "h: 55 | epoch: 0, loss: 47.33710861206055\n",
      "h: 55 | epoch: 50, loss: 9.502496719360352\n",
      "h: 55 | epoch: 100, loss: 8.394484519958496\n",
      "h: 56 | epoch: 0, loss: 44.79534149169922\n",
      "h: 56 | epoch: 50, loss: 8.6605863571167\n",
      "h: 56 | epoch: 100, loss: 8.31538200378418\n",
      "h: 57 | epoch: 0, loss: 43.381446838378906\n",
      "h: 57 | epoch: 50, loss: 8.755755424499512\n",
      "h: 57 | epoch: 100, loss: 8.343798637390137\n",
      "h: 58 | epoch: 0, loss: 44.273719787597656\n",
      "h: 58 | epoch: 50, loss: 8.937966346740723\n",
      "h: 58 | epoch: 100, loss: 8.401092529296875\n",
      "h: 59 | epoch: 0, loss: 47.25870895385742\n",
      "h: 59 | epoch: 50, loss: 9.67567253112793\n",
      "h: 59 | epoch: 100, loss: 8.367820739746094\n",
      "h: 60 | epoch: 0, loss: 45.027809143066406\n",
      "h: 60 | epoch: 50, loss: 8.742898941040039\n",
      "h: 60 | epoch: 100, loss: 8.445280075073242\n",
      "h: 61 | epoch: 0, loss: 44.83687210083008\n",
      "h: 61 | epoch: 50, loss: 9.049224853515625\n",
      "h: 61 | epoch: 100, loss: 8.104860305786133\n",
      "h: 62 | epoch: 0, loss: 41.78232955932617\n",
      "h: 62 | epoch: 50, loss: 8.828852653503418\n",
      "h: 62 | epoch: 100, loss: 8.255758285522461\n",
      "h: 63 | epoch: 0, loss: 45.62519454956055\n",
      "h: 63 | epoch: 50, loss: 9.293978691101074\n",
      "h: 63 | epoch: 100, loss: 8.287447929382324\n",
      "h: 64 | epoch: 0, loss: 45.26886749267578\n",
      "h: 64 | epoch: 50, loss: 9.271745681762695\n",
      "h: 64 | epoch: 100, loss: 8.407739639282227\n",
      "h: 65 | epoch: 0, loss: 48.3390998840332\n",
      "h: 65 | epoch: 50, loss: 9.159233093261719\n",
      "h: 65 | epoch: 100, loss: 8.413531303405762\n",
      "h: 66 | epoch: 0, loss: 42.00678253173828\n",
      "h: 66 | epoch: 50, loss: 8.909695625305176\n",
      "h: 66 | epoch: 100, loss: 8.40710163116455\n"
     ]
    },
    {
     "name": "stdout",
     "output_type": "stream",
     "text": [
      "h: 67 | epoch: 0, loss: 42.85679244995117\n",
      "h: 67 | epoch: 50, loss: 9.052114486694336\n",
      "h: 67 | epoch: 100, loss: 8.299660682678223\n",
      "h: 68 | epoch: 0, loss: 51.462867736816406\n",
      "h: 68 | epoch: 50, loss: 8.703376770019531\n",
      "h: 68 | epoch: 100, loss: 8.257227897644043\n",
      "h: 69 | epoch: 0, loss: 47.232078552246094\n",
      "h: 69 | epoch: 50, loss: 8.729429244995117\n",
      "h: 69 | epoch: 100, loss: 8.294543266296387\n",
      "h: 70 | epoch: 0, loss: 43.64719772338867\n",
      "h: 70 | epoch: 50, loss: 8.495532989501953\n",
      "h: 70 | epoch: 100, loss: 8.275362014770508\n",
      "h: 71 | epoch: 0, loss: 42.742671966552734\n",
      "h: 71 | epoch: 50, loss: 9.112072944641113\n",
      "h: 71 | epoch: 100, loss: 8.31584358215332\n",
      "h: 72 | epoch: 0, loss: 45.412105560302734\n",
      "h: 72 | epoch: 50, loss: 8.638666152954102\n",
      "h: 72 | epoch: 100, loss: 8.329191207885742\n",
      "h: 73 | epoch: 0, loss: 44.5247688293457\n",
      "h: 73 | epoch: 50, loss: 9.808392524719238\n",
      "h: 73 | epoch: 100, loss: 8.377039909362793\n",
      "h: 74 | epoch: 0, loss: 47.24657440185547\n",
      "h: 74 | epoch: 50, loss: 8.871252059936523\n",
      "h: 74 | epoch: 100, loss: 8.32682991027832\n",
      "h: 75 | epoch: 0, loss: 43.5161018371582\n",
      "h: 75 | epoch: 50, loss: 8.772439956665039\n",
      "h: 75 | epoch: 100, loss: 8.348345756530762\n",
      "h: 76 | epoch: 0, loss: 44.12910842895508\n",
      "h: 76 | epoch: 50, loss: 8.703790664672852\n",
      "h: 76 | epoch: 100, loss: 8.322625160217285\n",
      "h: 77 | epoch: 0, loss: 47.26243209838867\n",
      "h: 77 | epoch: 50, loss: 9.085533142089844\n",
      "h: 77 | epoch: 100, loss: 8.307265281677246\n",
      "h: 78 | epoch: 0, loss: 41.81261444091797\n",
      "h: 78 | epoch: 50, loss: 8.745920181274414\n",
      "h: 78 | epoch: 100, loss: 8.422445297241211\n",
      "h: 79 | epoch: 0, loss: 44.155120849609375\n",
      "h: 79 | epoch: 50, loss: 8.916226387023926\n",
      "h: 79 | epoch: 100, loss: 8.301755905151367\n",
      "h: 80 | epoch: 0, loss: 46.931705474853516\n",
      "h: 80 | epoch: 50, loss: 9.2887601852417\n",
      "h: 80 | epoch: 100, loss: 8.277132034301758\n",
      "h: 81 | epoch: 0, loss: 39.44093704223633\n",
      "h: 81 | epoch: 50, loss: 9.146451950073242\n",
      "h: 81 | epoch: 100, loss: 8.254460334777832\n",
      "h: 82 | epoch: 0, loss: 43.69672393798828\n",
      "h: 82 | epoch: 50, loss: 8.8230562210083\n",
      "h: 82 | epoch: 100, loss: 8.169801712036133\n",
      "h: 83 | epoch: 0, loss: 39.13249969482422\n",
      "h: 83 | epoch: 50, loss: 8.937487602233887\n",
      "h: 83 | epoch: 100, loss: 8.182690620422363\n",
      "h: 84 | epoch: 0, loss: 45.41841506958008\n",
      "h: 84 | epoch: 50, loss: 8.562638282775879\n",
      "h: 84 | epoch: 100, loss: 8.209602355957031\n",
      "h: 85 | epoch: 0, loss: 43.760948181152344\n",
      "h: 85 | epoch: 50, loss: 8.682339668273926\n",
      "h: 85 | epoch: 100, loss: 8.2545166015625\n",
      "h: 86 | epoch: 0, loss: 42.50326919555664\n",
      "h: 86 | epoch: 50, loss: 8.644815444946289\n",
      "h: 86 | epoch: 100, loss: 8.249715805053711\n",
      "h: 87 | epoch: 0, loss: 43.221885681152344\n",
      "h: 87 | epoch: 50, loss: 8.649431228637695\n",
      "h: 87 | epoch: 100, loss: 8.165521621704102\n",
      "h: 88 | epoch: 0, loss: 42.49943161010742\n",
      "h: 88 | epoch: 50, loss: 8.6412992477417\n",
      "h: 88 | epoch: 100, loss: 8.179112434387207\n",
      "h: 89 | epoch: 0, loss: 47.18634796142578\n",
      "h: 89 | epoch: 50, loss: 8.978602409362793\n",
      "h: 89 | epoch: 100, loss: 8.328149795532227\n",
      "h: 90 | epoch: 0, loss: 38.79435729980469\n",
      "h: 90 | epoch: 50, loss: 8.862568855285645\n",
      "h: 90 | epoch: 100, loss: 8.266481399536133\n",
      "h: 91 | epoch: 0, loss: 38.51658248901367\n",
      "h: 91 | epoch: 50, loss: 8.474361419677734\n",
      "h: 91 | epoch: 100, loss: 8.240344047546387\n",
      "h: 92 | epoch: 0, loss: 42.238441467285156\n",
      "h: 92 | epoch: 50, loss: 8.685401916503906\n",
      "h: 92 | epoch: 100, loss: 8.29499626159668\n",
      "h: 93 | epoch: 0, loss: 41.624576568603516\n",
      "h: 93 | epoch: 50, loss: 9.008615493774414\n",
      "h: 93 | epoch: 100, loss: 8.281170845031738\n",
      "h: 94 | epoch: 0, loss: 43.102413177490234\n",
      "h: 94 | epoch: 50, loss: 8.679483413696289\n",
      "h: 94 | epoch: 100, loss: 8.157476425170898\n",
      "h: 95 | epoch: 0, loss: 43.15398406982422\n",
      "h: 95 | epoch: 50, loss: 8.594590187072754\n",
      "h: 95 | epoch: 100, loss: 8.223316192626953\n",
      "h: 96 | epoch: 0, loss: 45.57617950439453\n",
      "h: 96 | epoch: 50, loss: 8.545278549194336\n",
      "h: 96 | epoch: 100, loss: 8.27286434173584\n",
      "h: 97 | epoch: 0, loss: 42.76351547241211\n",
      "h: 97 | epoch: 50, loss: 9.26743221282959\n",
      "h: 97 | epoch: 100, loss: 8.269758224487305\n",
      "h: 98 | epoch: 0, loss: 47.04076385498047\n",
      "h: 98 | epoch: 50, loss: 8.993782997131348\n",
      "h: 98 | epoch: 100, loss: 8.31950569152832\n",
      "h: 99 | epoch: 0, loss: 44.1016960144043\n",
      "h: 99 | epoch: 50, loss: 8.777424812316895\n",
      "h: 99 | epoch: 100, loss: 8.181699752807617\n"
     ]
    }
   ],
   "source": [
    "#!!! Note that training in the code below done outside of epoch loop.\n",
    "hs = []\n",
    "train_losses = []\n",
    "test_losses = []\n",
    "for h in range(2, hidden_sizes, 1):\n",
    "    hs.append(h)\n",
    "    model = NN(inputDim, h, outputDim)\n",
    "    optimizer = torch.optim.SGD(model.parameters(), lr=learningRate, momentum=0.95)\n",
    "    for epoch in range(epochs):\n",
    "        if torch.cuda.is_available():\n",
    "            inputs_train = Variable(torch.from_numpy(x_train).cuda())\n",
    "            labels_train = Variable(torch.from_numpy(y_train).cuda())\n",
    "        else:\n",
    "            inputs_train = Variable(torch.from_numpy(x_train))\n",
    "            labels_train = Variable(torch.from_numpy(y_train))\n",
    "        if torch.cuda.is_available():\n",
    "            inputs_test = Variable(torch.from_numpy(x_test).cuda())\n",
    "            labels_test = Variable(torch.from_numpy(y_test).cuda())\n",
    "        else:\n",
    "            inputs_test = Variable(torch.from_numpy(x_test))\n",
    "            labels_test = Variable(torch.from_numpy(y_test))\n",
    "        optimizer.zero_grad()\n",
    "        outputs = model(inputs_train)\n",
    "        loss = criterion(outputs, labels_train)\n",
    "        loss.backward()\n",
    "        optimizer.step()\n",
    "        if epoch % 50 == 0:\n",
    "            print('h: {} | epoch: {}, loss: {}'.format(h, epoch, loss.item()))  \n",
    "    outputs_train = model(inputs_train)\n",
    "    train_loss = criterion(outputs_train, labels_train)\n",
    "    train_losses.append(train_loss)\n",
    "    outputs_test = model(inputs_test)\n",
    "    test_loss = criterion(outputs_test, labels_test)\n",
    "    test_losses.append(test_loss)"
   ]
  },
  {
   "cell_type": "code",
   "execution_count": 44,
   "metadata": {
    "scrolled": true
   },
   "outputs": [
    {
     "name": "stdout",
     "output_type": "stream",
     "text": [
      "[[ 8.441964  ]\n",
      " [ 2.9946406 ]\n",
      " [ 4.2080507 ]\n",
      " [ 5.98738   ]\n",
      " [ 7.6251025 ]\n",
      " [ 0.19140315]\n",
      " [ 8.582272  ]\n",
      " [ 5.3693476 ]\n",
      " [ 6.241005  ]\n",
      " [ 6.4541974 ]\n",
      " [ 3.4234335 ]\n",
      " [ 3.1693583 ]\n",
      " [ 7.220561  ]\n",
      " [ 4.052005  ]\n",
      " [ 5.127862  ]\n",
      " [ 2.9134061 ]\n",
      " [ 7.627179  ]\n",
      " [ 9.025843  ]\n",
      " [ 6.6271896 ]\n",
      " [ 4.1907673 ]\n",
      " [ 0.62052345]\n",
      " [ 0.0967567 ]\n",
      " [ 5.835269  ]\n",
      " [ 3.5238025 ]\n",
      " [ 0.36055565]\n",
      " [ 4.21277   ]\n",
      " [ 5.0831265 ]\n",
      " [ 7.800187  ]\n",
      " [ 5.526209  ]\n",
      " [ 6.652381  ]\n",
      " [ 0.4748323 ]\n",
      " [ 6.1499147 ]\n",
      " [ 5.831605  ]\n",
      " [ 8.30644   ]\n",
      " [ 2.5282187 ]\n",
      " [ 2.6846268 ]\n",
      " [-0.08406568]\n",
      " [ 8.171083  ]\n",
      " [ 7.092597  ]\n",
      " [ 6.404343  ]\n",
      " [ 6.8208895 ]\n",
      " [ 6.441437  ]\n",
      " [ 5.971283  ]\n",
      " [ 6.341963  ]\n",
      " [ 6.7488894 ]\n",
      " [ 7.283132  ]\n",
      " [-0.19602275]\n",
      " [ 6.9579287 ]\n",
      " [ 7.7657895 ]\n",
      " [ 4.2760024 ]\n",
      " [ 5.9888477 ]\n",
      " [ 2.72352   ]\n",
      " [-0.13157463]\n",
      " [ 6.25694   ]\n",
      " [11.757656  ]\n",
      " [ 2.5717654 ]\n",
      " [ 6.194023  ]\n",
      " [ 5.004831  ]\n",
      " [ 8.741248  ]\n",
      " [ 6.825588  ]\n",
      " [ 0.09544659]\n",
      " [ 5.767874  ]\n",
      " [ 7.218671  ]\n",
      " [ 4.7057824 ]\n",
      " [ 6.2393026 ]\n",
      " [ 5.2656446 ]\n",
      " [ 5.671527  ]\n",
      " [ 4.469978  ]\n",
      " [ 1.5040576 ]\n",
      " [ 8.095199  ]\n",
      " [ 4.4621916 ]\n",
      " [ 7.1493664 ]\n",
      " [-0.2798841 ]\n",
      " [ 5.145893  ]\n",
      " [ 4.7545233 ]\n",
      " [ 1.9829423 ]\n",
      " [11.387439  ]\n",
      " [ 0.52228856]\n",
      " [ 0.56354976]\n",
      " [ 6.7576237 ]\n",
      " [ 4.00639   ]\n",
      " [ 7.0096273 ]\n",
      " [ 6.007763  ]\n",
      " [ 6.020134  ]\n",
      " [ 6.1796875 ]\n",
      " [ 2.3571773 ]\n",
      " [ 6.375349  ]\n",
      " [ 6.8303194 ]\n",
      " [ 6.4342575 ]\n",
      " [ 1.3218117 ]\n",
      " [ 3.7554982 ]\n",
      " [ 5.651127  ]\n",
      " [ 4.832178  ]\n",
      " [ 8.582447  ]\n",
      " [ 6.0810914 ]\n",
      " [ 7.5374913 ]\n",
      " [ 4.7450275 ]\n",
      " [ 7.3496847 ]\n",
      " [ 3.8522856 ]\n",
      " [ 4.351758  ]\n",
      " [ 7.6471243 ]\n",
      " [ 5.3327284 ]\n",
      " [ 7.5350904 ]\n",
      " [ 6.08534   ]\n",
      " [ 3.7592437 ]\n",
      " [ 3.6645203 ]\n",
      " [ 6.4988813 ]\n",
      " [ 0.7762394 ]\n",
      " [ 5.877201  ]\n",
      " [ 5.618331  ]\n",
      " [ 0.99089694]\n",
      " [ 5.2054014 ]\n",
      " [ 6.1547804 ]\n",
      " [-0.42010808]\n",
      " [ 1.8113065 ]\n",
      " [ 5.702236  ]\n",
      " [ 1.8841103 ]\n",
      " [ 7.2714114 ]\n",
      " [ 9.553611  ]\n",
      " [ 3.595318  ]\n",
      " [ 5.938469  ]\n",
      " [ 6.1105185 ]\n",
      " [ 8.266224  ]\n",
      " [ 7.8048363 ]\n",
      " [ 0.5150132 ]\n",
      " [ 5.496231  ]\n",
      " [ 6.3032074 ]\n",
      " [ 6.9756784 ]\n",
      " [ 5.675421  ]\n",
      " [ 5.419944  ]\n",
      " [-0.14067268]\n",
      " [11.866248  ]\n",
      " [ 5.9280643 ]\n",
      " [ 1.1442683 ]\n",
      " [ 0.6023195 ]\n",
      " [13.461712  ]\n",
      " [ 6.763378  ]\n",
      " [ 5.8750925 ]\n",
      " [ 6.356044  ]\n",
      " [ 7.6363134 ]\n",
      " [ 1.4632552 ]\n",
      " [ 4.782202  ]\n",
      " [ 3.9102645 ]\n",
      " [ 4.4089003 ]\n",
      " [ 7.3553467 ]\n",
      " [ 5.572733  ]\n",
      " [ 0.16947246]\n",
      " [ 6.8317175 ]\n",
      " [ 8.57239   ]\n",
      " [12.310167  ]\n",
      " [13.581549  ]\n",
      " [ 5.7072988 ]\n",
      " [ 6.0821657 ]\n",
      " [ 5.8950734 ]\n",
      " [ 8.985811  ]\n",
      " [ 4.7036753 ]\n",
      " [ 8.718122  ]\n",
      " [ 2.448772  ]\n",
      " [ 4.171331  ]\n",
      " [ 6.4976873 ]]\n"
     ]
    }
   ],
   "source": [
    "with torch.no_grad(): \n",
    "    if torch.cuda.is_available():\n",
    "        predicted = model(Variable(torch.from_numpy(x_train).cuda())).cpu().data.numpy()\n",
    "    else:\n",
    "        predicted = model(Variable(torch.from_numpy(x_train))).data.numpy()\n",
    "    print(predicted)"
   ]
  },
  {
   "cell_type": "code",
   "execution_count": 45,
   "metadata": {},
   "outputs": [
    {
     "data": {
      "image/png": "[encoded data removed]",
      "text/plain": [
       "<Figure size 432x288 with 1 Axes>"
      ]
     },
     "metadata": {
      "needs_background": "light"
     },
     "output_type": "display_data"
    }
   ],
   "source": [
    "plt.clf()\n",
    "plt.plot(x_train, y_train, 'go', label='True data', alpha=0.5)\n",
    "plt.plot(x_train, predicted, '--', label='Predictions', alpha=0.5)\n",
    "plt.legend(loc='best')\n",
    "plt.show()"
   ]
  },
  {
   "cell_type": "markdown",
   "metadata": {},
   "source": [
    "### Interpolation threshold.\n",
    "Plot the interpolation threshold (n=p) as a vertical line.\n",
    "The number of parameters is $p = (d+1)*H + (H+1)*K$, where H is a number of neurons in a hidden layer;\n",
    "d is a dimension of input and K is a dimension of output (K=1 in the case of regression).\n",
    "The X-axis on the plot below reveals the size of H.\n",
    "1. What will be the value of H for the case n=p?\n",
    "2. Plot the interpolation threshold. Does it correspond to a test loss pick?"
   ]
  },
  {
   "cell_type": "code",
   "execution_count": 46,
   "metadata": {},
   "outputs": [
    {
     "data": {
      "text/plain": [
       "(0.0, 100.0)"
      ]
     },
     "execution_count": 46,
     "metadata": {},
     "output_type": "execute_result"
    },
    {
     "data": {
      "image/png": "[encoded data removed]",
      "text/plain": [
       "<Figure size 432x288 with 1 Axes>"
      ]
     },
     "metadata": {
      "needs_background": "light"
     },
     "output_type": "display_data"
    }
   ],
   "source": [
    "plt.plot(hs, train_losses, label='Train Loss')\n",
    "plt.plot(hs, test_losses, label='Test loss')\n",
    "plt.axvline(53, color = 'r', linestyle = '--', label = 'Interp. Threshold')\n",
    "plt.legend(loc='best')\n",
    "plt.xlim(0, 100)"
   ]
  },
  {
   "cell_type": "code",
   "execution_count": 47,
   "metadata": {},
   "outputs": [
    {
     "data": {
      "text/plain": [
       "(0.0, 100.0)"
      ]
     },
     "execution_count": 47,
     "metadata": {},
     "output_type": "execute_result"
    },
    {
     "data": {
      "image/png": "[encoded data removed]",
      "text/plain": [
       "<Figure size 432x288 with 1 Axes>"
      ]
     },
     "metadata": {
      "needs_background": "light"
     },
     "output_type": "display_data"
    }
   ],
   "source": [
    "plt.plot(hs, train_losses)\n",
    "plt.title('Train Loss')\n",
    "plt.xlim(0, 100)"
   ]
  },
  {
   "cell_type": "code",
   "execution_count": 48,
   "metadata": {},
   "outputs": [
    {
     "data": {
      "text/plain": [
       "(0.0, 100.0)"
      ]
     },
     "execution_count": 48,
     "metadata": {},
     "output_type": "execute_result"
    },
    {
     "data": {
      "image/png": "[encoded data removed]",
      "text/plain": [
       "<Figure size 432x288 with 1 Axes>"
      ]
     },
     "metadata": {
      "needs_background": "light"
     },
     "output_type": "display_data"
    }
   ],
   "source": [
    "plt.plot(hs, test_losses)\n",
    "plt.title('Test Loss')\n",
    "plt.xlim(0, 100)"
   ]
  },
  {
   "cell_type": "code",
   "execution_count": null,
   "metadata": {},
   "outputs": [],
   "source": []
  },
  {
   "cell_type": "code",
   "execution_count": null,
   "metadata": {},
   "outputs": [],
   "source": []
  },
  {
   "cell_type": "code",
   "execution_count": null,
   "metadata": {},
   "outputs": [],
   "source": []
  },
  {
   "cell_type": "code",
   "execution_count": null,
   "metadata": {},
   "outputs": [],
   "source": []
  },
  {
   "cell_type": "code",
   "execution_count": null,
   "metadata": {},
   "outputs": [],
   "source": []
  }
 ],
 "metadata": {
  "kernelspec": {
   "display_name": "Python 3",
   "language": "python",
   "name": "python3"
  },
  "language_info": {
   "codemirror_mode": {
    "name": "ipython",
    "version": 3
   },
   "file_extension": ".py",
   "mimetype": "text/x-python",
   "name": "python",
   "nbconvert_exporter": "python",
   "pygments_lexer": "ipython3",
   "version": "3.8.3"
  }
 },
 "nbformat": 4,
 "nbformat_minor": 2
}
