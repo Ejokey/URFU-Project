{
 "cells": [
  {
   "cell_type": "markdown",
   "metadata": {},
   "source": [
    "# Exercise 2"
   ]
  },
  {
   "cell_type": "markdown",
   "metadata": {},
   "source": [
    "## Instructions \n",
    "\n",
    "1. Generate train and test data.\n",
    "2. Define a class NN of one-hidden neural net. The __init__ function takes 3 parameters (inputsize, hiddensize, outputsize).\n",
    "\n",
    "2. Define a list hidden_size = [2, ...., 33, ....128] with a step 5. Be sure that list contains 33, which corresponds to the case of interpolation threshold, i.e. the number of parameters equals to the number of training points.\n",
    "3. \n",
    "\n",
    "for h in hidden_size:\n",
    "    define model(inputsize, hiddensize, outputsize)\n",
    "    for e in epochs:\n",
    "        forward step: output = model(input)\n",
    "        compute loss \n",
    "        backpropagate loss (use backward)\n",
    "        \n",
    "    get train loss (after training): train_out = model(input)\n",
    "    train_loss = criterion(train_out, labels)\n",
    "    get test_loss: test_out = model(input)\n",
    "    test_loss = criterion(test_out, labels)\n",
    "       \n",
    "4. Plot saved list of train and test losses, x axis reveals each h, y axis is loss values.\n",
    "     "
   ]
  },
  {
   "cell_type": "code",
   "execution_count": 82,
   "metadata": {},
   "outputs": [],
   "source": [
    "import numpy as np\n",
    "from sklearn.linear_model import LinearRegression\n",
    "from sklearn.metrics import mean_squared_error\n",
    "from scipy.stats import multivariate_normal\n",
    "%matplotlib inline\n",
    "import matplotlib\n",
    "import matplotlib.pyplot as plt\n",
    "import csv\n",
    "import torch\n",
    "from torch.autograd import Variable\n",
    "import torch.nn as nn\n",
    "from sklearn import datasets\n",
    "from sklearn.model_selection import train_test_split\n",
    "\n",
    "np.random.seed(1234)"
   ]
  },
  {
   "cell_type": "code",
   "execution_count": 83,
   "metadata": {},
   "outputs": [],
   "source": [
    "x_values = np.random.normal(size = 200)\n",
    "x_vals = np.array(x_values, dtype=np.float32)\n",
    "r = np.random.normal(0, 3, size = 200)\n",
    "\n",
    "y_values = [3*i + 5 for i in x_values] + r\n",
    "y_vals = np.array(y_values, dtype=np.float32)\n"
   ]
  },
  {
   "cell_type": "code",
   "execution_count": 84,
   "metadata": {},
   "outputs": [],
   "source": [
    "x_train, x_test, y_train, y_test = (train_test_split(x_vals, y_vals, test_size=0.2))"
   ]
  },
  {
   "cell_type": "code",
   "execution_count": 85,
   "metadata": {},
   "outputs": [],
   "source": [
    "x_train = (x_train).reshape(-1, 1)\n",
    "x_test = (x_test).reshape(-1, 1)\n",
    "y_train = (y_train).reshape(-1, 1)\n",
    "y_test = (y_test).reshape(-1, 1)"
   ]
  },
  {
   "cell_type": "code",
   "execution_count": 86,
   "metadata": {},
   "outputs": [
    {
     "data": {
      "text/plain": [
       "(200,)"
      ]
     },
     "execution_count": 86,
     "metadata": {},
     "output_type": "execute_result"
    }
   ],
   "source": [
    "x_vals.shape"
   ]
  },
  {
   "cell_type": "code",
   "execution_count": 87,
   "metadata": {},
   "outputs": [
    {
     "name": "stdout",
     "output_type": "stream",
     "text": [
      "(160, 1)\n",
      "(160, 1)\n"
     ]
    }
   ],
   "source": [
    "print(x_train.shape)\n",
    "print(y_train.shape)"
   ]
  },
  {
   "cell_type": "code",
   "execution_count": 88,
   "metadata": {},
   "outputs": [
    {
     "data": {
      "text/plain": [
       "<matplotlib.collections.PathCollection at 0x1ff507909d0>"
      ]
     },
     "execution_count": 88,
     "metadata": {},
     "output_type": "execute_result"
    },
    {
     "data": {
      "image/png": "[encoded data removed]",
      "text/plain": [
       "<Figure size 432x288 with 1 Axes>"
      ]
     },
     "metadata": {
      "needs_background": "light"
     },
     "output_type": "display_data"
    }
   ],
   "source": [
    "plt.scatter(x_train, y_train)"
   ]
  },
  {
   "cell_type": "code",
   "execution_count": 89,
   "metadata": {},
   "outputs": [],
   "source": [
    "class NN(torch.nn.Module):\n",
    "    def __init__(self, inputSize, hiddenSize, outputSize):\n",
    "        super(NN, self).__init__()\n",
    "        self.linear = nn.Sequential(torch.nn.Linear(inputSize, hiddenSize),\n",
    "                                    torch.nn.ReLU(),\n",
    "                                    torch.nn.Linear(hiddenSize, outputSize))\n",
    "                                    \n",
    "\n",
    "    def forward(self, x):\n",
    "        out = self.linear(x)\n",
    "        return out"
   ]
  },
  {
   "cell_type": "code",
   "execution_count": 90,
   "metadata": {},
   "outputs": [],
   "source": [
    "inputDim = 1\n",
    "hidden_sizes = 128\n",
    "outputDim = 1      \n",
    "learningRate = 0.001 \n",
    "epochs = 101\n",
    "\n"
   ]
  },
  {
   "cell_type": "code",
   "execution_count": 91,
   "metadata": {
    "scrolled": true
   },
   "outputs": [],
   "source": [
    "criterion = torch.nn.MSELoss() "
   ]
  },
  {
   "cell_type": "code",
   "execution_count": 92,
   "metadata": {},
   "outputs": [
    {
     "name": "stdout",
     "output_type": "stream",
     "text": [
      "h: 2 | epoch: 0, loss: 40.89262390136719\n",
      "h: 2 | epoch: 50, loss: 36.376800537109375\n",
      "h: 2 | epoch: 100, loss: 32.76222229003906\n",
      "h: 3 | epoch: 0, loss: 40.11450958251953\n",
      "h: 3 | epoch: 50, loss: 34.98048400878906\n",
      "h: 3 | epoch: 100, loss: 30.228164672851562\n",
      "h: 4 | epoch: 0, loss: 41.034725189208984\n",
      "h: 4 | epoch: 50, loss: 35.18669128417969\n",
      "h: 4 | epoch: 100, loss: 28.807348251342773\n",
      "h: 5 | epoch: 0, loss: 43.07526397705078\n",
      "h: 5 | epoch: 50, loss: 33.68544387817383\n",
      "h: 5 | epoch: 100, loss: 23.76742935180664\n",
      "h: 6 | epoch: 0, loss: 42.22687911987305\n",
      "h: 6 | epoch: 50, loss: 31.51410484313965\n",
      "h: 6 | epoch: 100, loss: 20.578317642211914\n",
      "h: 7 | epoch: 0, loss: 44.51708221435547\n",
      "h: 7 | epoch: 50, loss: 36.36765670776367\n",
      "h: 7 | epoch: 100, loss: 28.869781494140625\n",
      "h: 8 | epoch: 0, loss: 48.51008987426758\n",
      "h: 8 | epoch: 50, loss: 30.661540985107422\n",
      "h: 8 | epoch: 100, loss: 18.276123046875\n",
      "h: 9 | epoch: 0, loss: 52.10231399536133\n",
      "h: 9 | epoch: 50, loss: 31.78194808959961\n",
      "h: 9 | epoch: 100, loss: 18.02928352355957\n",
      "h: 10 | epoch: 0, loss: 43.67317581176758\n",
      "h: 10 | epoch: 50, loss: 34.36052703857422\n",
      "h: 10 | epoch: 100, loss: 26.25140380859375\n",
      "h: 11 | epoch: 0, loss: 43.87376022338867\n",
      "h: 11 | epoch: 50, loss: 29.399057388305664\n",
      "h: 11 | epoch: 100, loss: 17.23250961303711\n",
      "h: 12 | epoch: 0, loss: 38.28889465332031\n",
      "h: 12 | epoch: 50, loss: 21.565553665161133\n",
      "h: 12 | epoch: 100, loss: 12.433598518371582\n",
      "h: 13 | epoch: 0, loss: 40.04950714111328\n",
      "h: 13 | epoch: 50, loss: 19.691387176513672\n",
      "h: 13 | epoch: 100, loss: 11.834763526916504\n",
      "h: 14 | epoch: 0, loss: 41.8801383972168\n",
      "h: 14 | epoch: 50, loss: 24.35772132873535\n",
      "h: 14 | epoch: 100, loss: 13.499293327331543\n",
      "h: 15 | epoch: 0, loss: 47.12806701660156\n",
      "h: 15 | epoch: 50, loss: 26.15517234802246\n",
      "h: 15 | epoch: 100, loss: 13.865407943725586\n",
      "h: 16 | epoch: 0, loss: 38.76516342163086\n",
      "h: 16 | epoch: 50, loss: 22.679763793945312\n",
      "h: 16 | epoch: 100, loss: 13.015220642089844\n",
      "h: 17 | epoch: 0, loss: 43.87880325317383\n",
      "h: 17 | epoch: 50, loss: 31.81390953063965\n",
      "h: 17 | epoch: 100, loss: 22.268672943115234\n",
      "h: 18 | epoch: 0, loss: 43.392757415771484\n",
      "h: 18 | epoch: 50, loss: 26.486003875732422\n",
      "h: 18 | epoch: 100, loss: 15.160621643066406\n",
      "h: 19 | epoch: 0, loss: 45.16313171386719\n",
      "h: 19 | epoch: 50, loss: 23.310447692871094\n",
      "h: 19 | epoch: 100, loss: 12.900769233703613\n",
      "h: 20 | epoch: 0, loss: 44.575313568115234\n",
      "h: 20 | epoch: 50, loss: 23.79155158996582\n",
      "h: 20 | epoch: 100, loss: 12.85963249206543\n",
      "h: 21 | epoch: 0, loss: 44.04556655883789\n",
      "h: 21 | epoch: 50, loss: 26.322463989257812\n",
      "h: 21 | epoch: 100, loss: 14.661099433898926\n",
      "h: 22 | epoch: 0, loss: 45.8880615234375\n",
      "h: 22 | epoch: 50, loss: 22.5675048828125\n",
      "h: 22 | epoch: 100, loss: 12.333298683166504\n",
      "h: 23 | epoch: 0, loss: 46.623939514160156\n",
      "h: 23 | epoch: 50, loss: 22.000106811523438\n",
      "h: 23 | epoch: 100, loss: 12.326458930969238\n",
      "h: 24 | epoch: 0, loss: 46.245086669921875\n",
      "h: 24 | epoch: 50, loss: 19.429149627685547\n",
      "h: 24 | epoch: 100, loss: 10.993230819702148\n",
      "h: 25 | epoch: 0, loss: 44.95343017578125\n",
      "h: 25 | epoch: 50, loss: 17.08938217163086\n",
      "h: 25 | epoch: 100, loss: 10.063128471374512\n",
      "h: 26 | epoch: 0, loss: 41.39036178588867\n",
      "h: 26 | epoch: 50, loss: 19.912616729736328\n",
      "h: 26 | epoch: 100, loss: 11.475618362426758\n",
      "h: 27 | epoch: 0, loss: 41.958641052246094\n",
      "h: 27 | epoch: 50, loss: 16.590864181518555\n",
      "h: 27 | epoch: 100, loss: 10.18702220916748\n",
      "h: 28 | epoch: 0, loss: 39.623844146728516\n",
      "h: 28 | epoch: 50, loss: 15.574633598327637\n",
      "h: 28 | epoch: 100, loss: 9.834304809570312\n",
      "h: 29 | epoch: 0, loss: 40.43888473510742\n",
      "h: 29 | epoch: 50, loss: 14.765493392944336\n",
      "h: 29 | epoch: 100, loss: 9.626007080078125\n",
      "h: 30 | epoch: 0, loss: 47.91744613647461\n",
      "h: 30 | epoch: 50, loss: 25.491649627685547\n",
      "h: 30 | epoch: 100, loss: 14.8238525390625\n",
      "h: 31 | epoch: 0, loss: 47.56008529663086\n",
      "h: 31 | epoch: 50, loss: 15.203404426574707\n",
      "h: 31 | epoch: 100, loss: 9.551641464233398\n",
      "h: 32 | epoch: 0, loss: 44.892616271972656\n",
      "h: 32 | epoch: 50, loss: 13.913350105285645\n",
      "h: 32 | epoch: 100, loss: 9.264425277709961\n",
      "h: 33 | epoch: 0, loss: 41.68730926513672\n",
      "h: 33 | epoch: 50, loss: 16.497676849365234\n",
      "h: 33 | epoch: 100, loss: 9.843446731567383\n",
      "h: 34 | epoch: 0, loss: 43.79822540283203\n",
      "h: 34 | epoch: 50, loss: 18.225940704345703\n",
      "h: 34 | epoch: 100, loss: 10.834222793579102\n",
      "h: 35 | epoch: 0, loss: 43.24076461791992\n",
      "h: 35 | epoch: 50, loss: 14.48370361328125\n",
      "h: 35 | epoch: 100, loss: 9.72592544555664\n",
      "h: 36 | epoch: 0, loss: 44.350738525390625\n",
      "h: 36 | epoch: 50, loss: 12.51835823059082\n",
      "h: 36 | epoch: 100, loss: 9.051335334777832\n",
      "h: 37 | epoch: 0, loss: 42.63581085205078\n",
      "h: 37 | epoch: 50, loss: 15.798385620117188\n",
      "h: 37 | epoch: 100, loss: 10.06157398223877\n",
      "h: 38 | epoch: 0, loss: 43.413387298583984\n",
      "h: 38 | epoch: 50, loss: 13.823107719421387\n",
      "h: 38 | epoch: 100, loss: 9.639769554138184\n",
      "h: 39 | epoch: 0, loss: 42.02336502075195\n",
      "h: 39 | epoch: 50, loss: 12.20316219329834\n",
      "h: 39 | epoch: 100, loss: 9.162140846252441\n",
      "h: 40 | epoch: 0, loss: 43.830116271972656\n",
      "h: 40 | epoch: 50, loss: 13.860328674316406\n",
      "h: 40 | epoch: 100, loss: 9.459999084472656\n",
      "h: 41 | epoch: 0, loss: 47.641807556152344\n",
      "h: 41 | epoch: 50, loss: 12.836484909057617\n",
      "h: 41 | epoch: 100, loss: 9.227518081665039\n",
      "h: 42 | epoch: 0, loss: 41.08301544189453\n",
      "h: 42 | epoch: 50, loss: 10.992551803588867\n",
      "h: 42 | epoch: 100, loss: 8.923057556152344\n",
      "h: 43 | epoch: 0, loss: 44.05978012084961\n",
      "h: 43 | epoch: 50, loss: 16.55286407470703\n",
      "h: 43 | epoch: 100, loss: 10.147425651550293\n",
      "h: 44 | epoch: 0, loss: 49.53258514404297\n",
      "h: 44 | epoch: 50, loss: 12.152792930603027\n",
      "h: 44 | epoch: 100, loss: 9.016383171081543\n",
      "h: 45 | epoch: 0, loss: 45.92312240600586\n",
      "h: 45 | epoch: 50, loss: 14.055208206176758\n",
      "h: 45 | epoch: 100, loss: 9.898024559020996\n",
      "h: 46 | epoch: 0, loss: 43.28921890258789\n",
      "h: 46 | epoch: 50, loss: 11.287656784057617\n",
      "h: 46 | epoch: 100, loss: 9.199414253234863\n",
      "h: 47 | epoch: 0, loss: 45.67234420776367\n",
      "h: 47 | epoch: 50, loss: 19.263450622558594\n",
      "h: 47 | epoch: 100, loss: 11.339509963989258\n",
      "h: 48 | epoch: 0, loss: 43.30082321166992\n",
      "h: 48 | epoch: 50, loss: 12.1289701461792\n",
      "h: 48 | epoch: 100, loss: 9.05925178527832\n",
      "h: 49 | epoch: 0, loss: 43.087215423583984\n",
      "h: 49 | epoch: 50, loss: 14.876930236816406\n",
      "h: 49 | epoch: 100, loss: 10.081533432006836\n",
      "h: 50 | epoch: 0, loss: 42.00853729248047\n",
      "h: 50 | epoch: 50, loss: 15.100259780883789\n",
      "h: 50 | epoch: 100, loss: 9.75563907623291\n",
      "h: 51 | epoch: 0, loss: 45.706058502197266\n",
      "h: 51 | epoch: 50, loss: 17.723594665527344\n",
      "h: 51 | epoch: 100, loss: 10.815420150756836\n",
      "h: 52 | epoch: 0, loss: 44.4996452331543\n",
      "h: 52 | epoch: 50, loss: 11.47080135345459\n",
      "h: 52 | epoch: 100, loss: 9.230173110961914\n",
      "h: 53 | epoch: 0, loss: 45.114871978759766\n",
      "h: 53 | epoch: 50, loss: 13.519536972045898\n",
      "h: 53 | epoch: 100, loss: 9.310266494750977\n",
      "h: 54 | epoch: 0, loss: 47.16150665283203\n",
      "h: 54 | epoch: 50, loss: 15.302350997924805\n",
      "h: 54 | epoch: 100, loss: 9.857416152954102\n",
      "h: 55 | epoch: 0, loss: 45.17802047729492\n",
      "h: 55 | epoch: 50, loss: 12.736272811889648\n",
      "h: 55 | epoch: 100, loss: 9.402633666992188\n",
      "h: 56 | epoch: 0, loss: 43.84177780151367\n",
      "h: 56 | epoch: 50, loss: 11.595118522644043\n",
      "h: 56 | epoch: 100, loss: 9.287674903869629\n",
      "h: 57 | epoch: 0, loss: 45.26689910888672\n",
      "h: 57 | epoch: 50, loss: 14.162080764770508\n",
      "h: 57 | epoch: 100, loss: 9.564821243286133\n",
      "h: 58 | epoch: 0, loss: 43.62697219848633\n",
      "h: 58 | epoch: 50, loss: 12.980502128601074\n",
      "h: 58 | epoch: 100, loss: 9.520059585571289\n",
      "h: 59 | epoch: 0, loss: 49.446964263916016\n",
      "h: 59 | epoch: 50, loss: 13.429031372070312\n",
      "h: 59 | epoch: 100, loss: 9.352235794067383\n",
      "h: 60 | epoch: 0, loss: 40.968204498291016\n",
      "h: 60 | epoch: 50, loss: 14.270988464355469\n",
      "h: 60 | epoch: 100, loss: 9.787063598632812\n",
      "h: 61 | epoch: 0, loss: 47.332122802734375\n",
      "h: 61 | epoch: 50, loss: 10.721542358398438\n",
      "h: 61 | epoch: 100, loss: 9.0212984085083\n",
      "h: 62 | epoch: 0, loss: 46.009925842285156\n",
      "h: 62 | epoch: 50, loss: 13.580891609191895\n",
      "h: 62 | epoch: 100, loss: 9.594849586486816\n",
      "h: 63 | epoch: 0, loss: 44.57645034790039\n",
      "h: 63 | epoch: 50, loss: 15.557563781738281\n",
      "h: 63 | epoch: 100, loss: 10.120595932006836\n",
      "h: 64 | epoch: 0, loss: 42.10962677001953\n",
      "h: 64 | epoch: 50, loss: 11.901524543762207\n",
      "h: 64 | epoch: 100, loss: 9.301514625549316\n",
      "h: 65 | epoch: 0, loss: 42.89275360107422\n",
      "h: 65 | epoch: 50, loss: 12.6445951461792\n",
      "h: 65 | epoch: 100, loss: 9.462011337280273\n"
     ]
    },
    {
     "name": "stdout",
     "output_type": "stream",
     "text": [
      "h: 66 | epoch: 0, loss: 41.850189208984375\n",
      "h: 66 | epoch: 50, loss: 10.838932991027832\n",
      "h: 66 | epoch: 100, loss: 9.150130271911621\n",
      "h: 67 | epoch: 0, loss: 37.800994873046875\n",
      "h: 67 | epoch: 50, loss: 11.659713745117188\n",
      "h: 67 | epoch: 100, loss: 9.652835845947266\n",
      "h: 68 | epoch: 0, loss: 46.753746032714844\n",
      "h: 68 | epoch: 50, loss: 11.756872177124023\n",
      "h: 68 | epoch: 100, loss: 9.174539566040039\n",
      "h: 69 | epoch: 0, loss: 42.97294616699219\n",
      "h: 69 | epoch: 50, loss: 10.277928352355957\n",
      "h: 69 | epoch: 100, loss: 9.00672721862793\n",
      "h: 70 | epoch: 0, loss: 40.51333236694336\n",
      "h: 70 | epoch: 50, loss: 12.255406379699707\n",
      "h: 70 | epoch: 100, loss: 9.431709289550781\n",
      "h: 71 | epoch: 0, loss: 48.32328414916992\n",
      "h: 71 | epoch: 50, loss: 11.168936729431152\n",
      "h: 71 | epoch: 100, loss: 9.052412033081055\n",
      "h: 72 | epoch: 0, loss: 44.228111267089844\n",
      "h: 72 | epoch: 50, loss: 12.417367935180664\n",
      "h: 72 | epoch: 100, loss: 9.423481941223145\n",
      "h: 73 | epoch: 0, loss: 41.05350875854492\n",
      "h: 73 | epoch: 50, loss: 12.740776062011719\n",
      "h: 73 | epoch: 100, loss: 9.649755477905273\n",
      "h: 74 | epoch: 0, loss: 43.48036193847656\n",
      "h: 74 | epoch: 50, loss: 13.395541191101074\n",
      "h: 74 | epoch: 100, loss: 9.50997543334961\n",
      "h: 75 | epoch: 0, loss: 44.34235763549805\n",
      "h: 75 | epoch: 50, loss: 10.143592834472656\n",
      "h: 75 | epoch: 100, loss: 8.830045700073242\n",
      "h: 76 | epoch: 0, loss: 43.80485916137695\n",
      "h: 76 | epoch: 50, loss: 11.698911666870117\n",
      "h: 76 | epoch: 100, loss: 9.50361442565918\n",
      "h: 77 | epoch: 0, loss: 49.171756744384766\n",
      "h: 77 | epoch: 50, loss: 10.172887802124023\n",
      "h: 77 | epoch: 100, loss: 8.711921691894531\n",
      "h: 78 | epoch: 0, loss: 44.990360260009766\n",
      "h: 78 | epoch: 50, loss: 11.97859001159668\n",
      "h: 78 | epoch: 100, loss: 9.268241882324219\n",
      "h: 79 | epoch: 0, loss: 44.10852813720703\n",
      "h: 79 | epoch: 50, loss: 10.335892677307129\n",
      "h: 79 | epoch: 100, loss: 8.953880310058594\n",
      "h: 80 | epoch: 0, loss: 41.53460693359375\n",
      "h: 80 | epoch: 50, loss: 10.397642135620117\n",
      "h: 80 | epoch: 100, loss: 9.128626823425293\n",
      "h: 81 | epoch: 0, loss: 45.45294189453125\n",
      "h: 81 | epoch: 50, loss: 10.220841407775879\n",
      "h: 81 | epoch: 100, loss: 9.001910209655762\n",
      "h: 82 | epoch: 0, loss: 40.72509002685547\n",
      "h: 82 | epoch: 50, loss: 9.2531099319458\n",
      "h: 82 | epoch: 100, loss: 8.836726188659668\n",
      "h: 83 | epoch: 0, loss: 40.663185119628906\n",
      "h: 83 | epoch: 50, loss: 9.699071884155273\n",
      "h: 83 | epoch: 100, loss: 8.82944393157959\n",
      "h: 84 | epoch: 0, loss: 42.4984130859375\n",
      "h: 84 | epoch: 50, loss: 11.046839714050293\n",
      "h: 84 | epoch: 100, loss: 9.057113647460938\n",
      "h: 85 | epoch: 0, loss: 44.94181442260742\n",
      "h: 85 | epoch: 50, loss: 10.952779769897461\n",
      "h: 85 | epoch: 100, loss: 9.087518692016602\n",
      "h: 86 | epoch: 0, loss: 46.708370208740234\n",
      "h: 86 | epoch: 50, loss: 11.024168014526367\n",
      "h: 86 | epoch: 100, loss: 8.990236282348633\n",
      "h: 87 | epoch: 0, loss: 45.36969757080078\n",
      "h: 87 | epoch: 50, loss: 10.49725341796875\n",
      "h: 87 | epoch: 100, loss: 9.038620948791504\n",
      "h: 88 | epoch: 0, loss: 45.396488189697266\n",
      "h: 88 | epoch: 50, loss: 11.034521102905273\n",
      "h: 88 | epoch: 100, loss: 9.100549697875977\n",
      "h: 89 | epoch: 0, loss: 44.3560791015625\n",
      "h: 89 | epoch: 50, loss: 12.87964916229248\n",
      "h: 89 | epoch: 100, loss: 9.322819709777832\n",
      "h: 90 | epoch: 0, loss: 42.270992279052734\n",
      "h: 90 | epoch: 50, loss: 11.505768775939941\n",
      "h: 90 | epoch: 100, loss: 9.397196769714355\n",
      "h: 91 | epoch: 0, loss: 41.00837707519531\n",
      "h: 91 | epoch: 50, loss: 9.797212600708008\n",
      "h: 91 | epoch: 100, loss: 8.885656356811523\n",
      "h: 92 | epoch: 0, loss: 46.44425964355469\n",
      "h: 92 | epoch: 50, loss: 9.196927070617676\n",
      "h: 92 | epoch: 100, loss: 8.815391540527344\n",
      "h: 93 | epoch: 0, loss: 47.21170425415039\n",
      "h: 93 | epoch: 50, loss: 9.348169326782227\n",
      "h: 93 | epoch: 100, loss: 8.757940292358398\n",
      "h: 94 | epoch: 0, loss: 45.3880500793457\n",
      "h: 94 | epoch: 50, loss: 9.253986358642578\n",
      "h: 94 | epoch: 100, loss: 8.916585922241211\n",
      "h: 95 | epoch: 0, loss: 41.135921478271484\n",
      "h: 95 | epoch: 50, loss: 9.678589820861816\n",
      "h: 95 | epoch: 100, loss: 8.924328804016113\n",
      "h: 96 | epoch: 0, loss: 39.63618850708008\n",
      "h: 96 | epoch: 50, loss: 10.224847793579102\n",
      "h: 96 | epoch: 100, loss: 9.111443519592285\n",
      "h: 97 | epoch: 0, loss: 46.39218521118164\n",
      "h: 97 | epoch: 50, loss: 10.031228065490723\n",
      "h: 97 | epoch: 100, loss: 9.09811019897461\n",
      "h: 98 | epoch: 0, loss: 44.090633392333984\n",
      "h: 98 | epoch: 50, loss: 10.250216484069824\n",
      "h: 98 | epoch: 100, loss: 9.15980052947998\n",
      "h: 99 | epoch: 0, loss: 46.07194137573242\n",
      "h: 99 | epoch: 50, loss: 9.723952293395996\n",
      "h: 99 | epoch: 100, loss: 8.680492401123047\n",
      "h: 100 | epoch: 0, loss: 44.288734436035156\n",
      "h: 100 | epoch: 50, loss: 9.811383247375488\n",
      "h: 100 | epoch: 100, loss: 8.930679321289062\n",
      "h: 101 | epoch: 0, loss: 42.24332046508789\n",
      "h: 101 | epoch: 50, loss: 9.089479446411133\n",
      "h: 101 | epoch: 100, loss: 8.763965606689453\n",
      "h: 102 | epoch: 0, loss: 48.846927642822266\n",
      "h: 102 | epoch: 50, loss: 11.087242126464844\n",
      "h: 102 | epoch: 100, loss: 9.200907707214355\n",
      "h: 103 | epoch: 0, loss: 43.6345100402832\n",
      "h: 103 | epoch: 50, loss: 10.05472469329834\n",
      "h: 103 | epoch: 100, loss: 8.88310432434082\n",
      "h: 104 | epoch: 0, loss: 46.00446319580078\n",
      "h: 104 | epoch: 50, loss: 10.506061553955078\n",
      "h: 104 | epoch: 100, loss: 9.028000831604004\n",
      "h: 105 | epoch: 0, loss: 47.75971221923828\n",
      "h: 105 | epoch: 50, loss: 9.753628730773926\n",
      "h: 105 | epoch: 100, loss: 8.769891738891602\n",
      "h: 106 | epoch: 0, loss: 43.30329513549805\n",
      "h: 106 | epoch: 50, loss: 9.407663345336914\n",
      "h: 106 | epoch: 100, loss: 8.759283065795898\n",
      "h: 107 | epoch: 0, loss: 39.8128547668457\n",
      "h: 107 | epoch: 50, loss: 10.600071907043457\n",
      "h: 107 | epoch: 100, loss: 9.0388822555542\n",
      "h: 108 | epoch: 0, loss: 42.994346618652344\n",
      "h: 108 | epoch: 50, loss: 9.564642906188965\n",
      "h: 108 | epoch: 100, loss: 8.740078926086426\n",
      "h: 109 | epoch: 0, loss: 42.662689208984375\n",
      "h: 109 | epoch: 50, loss: 9.782537460327148\n",
      "h: 109 | epoch: 100, loss: 8.99059009552002\n",
      "h: 110 | epoch: 0, loss: 41.546852111816406\n",
      "h: 110 | epoch: 50, loss: 9.751445770263672\n",
      "h: 110 | epoch: 100, loss: 9.034210205078125\n",
      "h: 111 | epoch: 0, loss: 46.45180130004883\n",
      "h: 111 | epoch: 50, loss: 10.282366752624512\n",
      "h: 111 | epoch: 100, loss: 8.94044017791748\n",
      "h: 112 | epoch: 0, loss: 48.088565826416016\n",
      "h: 112 | epoch: 50, loss: 9.27295970916748\n",
      "h: 112 | epoch: 100, loss: 8.832525253295898\n",
      "h: 113 | epoch: 0, loss: 45.6636962890625\n",
      "h: 113 | epoch: 50, loss: 10.103113174438477\n",
      "h: 113 | epoch: 100, loss: 9.018362045288086\n",
      "h: 114 | epoch: 0, loss: 41.518306732177734\n",
      "h: 114 | epoch: 50, loss: 9.653773307800293\n",
      "h: 114 | epoch: 100, loss: 9.151155471801758\n",
      "h: 115 | epoch: 0, loss: 43.24262619018555\n",
      "h: 115 | epoch: 50, loss: 9.209906578063965\n",
      "h: 115 | epoch: 100, loss: 8.901670455932617\n",
      "h: 116 | epoch: 0, loss: 47.40837478637695\n",
      "h: 116 | epoch: 50, loss: 9.85460090637207\n",
      "h: 116 | epoch: 100, loss: 9.127287864685059\n",
      "h: 117 | epoch: 0, loss: 52.349037170410156\n",
      "h: 117 | epoch: 50, loss: 10.255906105041504\n",
      "h: 117 | epoch: 100, loss: 8.947202682495117\n",
      "h: 118 | epoch: 0, loss: 46.524330139160156\n",
      "h: 118 | epoch: 50, loss: 10.841591835021973\n",
      "h: 118 | epoch: 100, loss: 9.09302806854248\n",
      "h: 119 | epoch: 0, loss: 44.924949645996094\n",
      "h: 119 | epoch: 50, loss: 10.975927352905273\n",
      "h: 119 | epoch: 100, loss: 8.79072380065918\n",
      "h: 120 | epoch: 0, loss: 43.6925163269043\n",
      "h: 120 | epoch: 50, loss: 9.706925392150879\n",
      "h: 120 | epoch: 100, loss: 9.17817211151123\n",
      "h: 121 | epoch: 0, loss: 39.2856330871582\n",
      "h: 121 | epoch: 50, loss: 10.34188461303711\n",
      "h: 121 | epoch: 100, loss: 9.234444618225098\n",
      "h: 122 | epoch: 0, loss: 39.282249450683594\n",
      "h: 122 | epoch: 50, loss: 10.352861404418945\n",
      "h: 122 | epoch: 100, loss: 8.988133430480957\n",
      "h: 123 | epoch: 0, loss: 46.08094024658203\n",
      "h: 123 | epoch: 50, loss: 10.50346565246582\n",
      "h: 123 | epoch: 100, loss: 8.782804489135742\n",
      "h: 124 | epoch: 0, loss: 44.883811950683594\n",
      "h: 124 | epoch: 50, loss: 10.556279182434082\n",
      "h: 124 | epoch: 100, loss: 9.25931167602539\n",
      "h: 125 | epoch: 0, loss: 45.6297607421875\n",
      "h: 125 | epoch: 50, loss: 9.467629432678223\n",
      "h: 125 | epoch: 100, loss: 9.117746353149414\n",
      "h: 126 | epoch: 0, loss: 43.397518157958984\n",
      "h: 126 | epoch: 50, loss: 9.596853256225586\n",
      "h: 126 | epoch: 100, loss: 8.953498840332031\n",
      "h: 127 | epoch: 0, loss: 50.63555145263672\n",
      "h: 127 | epoch: 50, loss: 9.087091445922852\n",
      "h: 127 | epoch: 100, loss: 8.754098892211914\n"
     ]
    }
   ],
   "source": [
    "#!!! Note that training in the code below done outside of epoch loop.\n",
    "hs = []\n",
    "train_losses = []\n",
    "test_losses = []\n",
    "for h in range(2, hidden_sizes, 1):\n",
    "    hs.append(h)\n",
    "    model = NN(inputDim, h, outputDim)\n",
    "    optimizer = torch.optim.SGD(model.parameters(), lr=learningRate)\n",
    "    for epoch in range(epochs):\n",
    "        if torch.cuda.is_available():\n",
    "            inputs_train = Variable(torch.from_numpy(x_train).cuda())\n",
    "            labels_train = Variable(torch.from_numpy(y_train).cuda())\n",
    "        else:\n",
    "            inputs_train = Variable(torch.from_numpy(x_train))\n",
    "            labels_train = Variable(torch.from_numpy(y_train))\n",
    "        if torch.cuda.is_available():\n",
    "            inputs_test = Variable(torch.from_numpy(x_test).cuda())\n",
    "            labels_test = Variable(torch.from_numpy(y_test).cuda())\n",
    "        else:\n",
    "            inputs_test = Variable(torch.from_numpy(x_test))\n",
    "            labels_test = Variable(torch.from_numpy(y_test))\n",
    "        optimizer.zero_grad()\n",
    "        outputs = model(inputs_train)\n",
    "        loss = criterion(outputs, labels_train)\n",
    "        loss.backward()\n",
    "        optimizer.step()\n",
    "        if epoch % 50 == 0:\n",
    "            print('h: {} | epoch: {}, loss: {}'.format(h, epoch, loss.item()))  \n",
    "    outputs_train = model(inputs_train)\n",
    "    train_loss = criterion(outputs_train, labels_train)\n",
    "    train_losses.append(train_loss)\n",
    "    outputs_test = model(inputs_test)\n",
    "    test_loss = criterion(outputs_test, labels_test)\n",
    "    test_losses.append(test_loss)"
   ]
  },
  {
   "cell_type": "code",
   "execution_count": 93,
   "metadata": {
    "scrolled": true
   },
   "outputs": [
    {
     "name": "stdout",
     "output_type": "stream",
     "text": [
      "[[ 8.980052 ]\n",
      " [ 2.8185399]\n",
      " [ 3.5982327]\n",
      " [ 5.509731 ]\n",
      " [ 7.9751782]\n",
      " [ 1.596123 ]\n",
      " [ 9.154981 ]\n",
      " [ 4.5229397]\n",
      " [ 6.030737 ]\n",
      " [ 6.4876404]\n",
      " [ 3.0577695]\n",
      " [ 2.9121735]\n",
      " [ 7.4901886]\n",
      " [ 3.4882636]\n",
      " [ 4.2836533]\n",
      " [ 2.7752972]\n",
      " [ 7.9776745]\n",
      " [ 9.555977 ]\n",
      " [ 6.7871466]\n",
      " [ 3.5858967]\n",
      " [ 1.8512007]\n",
      " [ 1.5109844]\n",
      " [ 5.2070236]\n",
      " [ 3.1232991]\n",
      " [ 1.7294595]\n",
      " [ 3.6016016]\n",
      " [ 4.2439575]\n",
      " [ 8.185083 ]\n",
      " [ 4.697767 ]\n",
      " [ 6.822424 ]\n",
      " [ 1.7913289]\n",
      " [ 5.8405585]\n",
      " [ 5.1999035]\n",
      " [ 8.808875 ]\n",
      " [ 2.5701704]\n",
      " [ 2.6531663]\n",
      " [ 1.3765547]\n",
      " [ 8.640722 ]\n",
      " [ 7.3380394]\n",
      " [ 6.379281 ]\n",
      " [ 7.0208044]\n",
      " [ 6.4599056]\n",
      " [ 5.47704  ]\n",
      " [ 6.243855 ]\n",
      " [ 6.9380965]\n",
      " [ 7.564792 ]\n",
      " [ 1.3023292]\n",
      " [ 7.179749 ]\n",
      " [ 8.143974 ]\n",
      " [ 3.6467338]\n",
      " [ 5.5127115]\n",
      " [ 2.6738992]\n",
      " [ 1.3450571]\n",
      " [ 6.0641594]\n",
      " [11.657995 ]\n",
      " [ 2.5931003]\n",
      " [ 5.9331703]\n",
      " [ 4.1744833]\n",
      " [ 9.30716  ]\n",
      " [ 7.0262537]\n",
      " [ 1.5097946]\n",
      " [ 5.0776668]\n",
      " [ 7.4879413]\n",
      " [ 3.9488049]\n",
      " [ 6.027166 ]\n",
      " [ 4.414653 ]\n",
      " [ 4.896964 ]\n",
      " [ 3.7843528]\n",
      " [ 2.129598 ]\n",
      " [ 8.547001 ]\n",
      " [ 3.7789226]\n",
      " [ 7.4055376]\n",
      " [ 1.2467306]\n",
      " [ 4.2996526]\n",
      " [ 3.982801 ]\n",
      " [ 2.3022752]\n",
      " [11.364528 ]\n",
      " [ 1.8142242]\n",
      " [ 1.8310064]\n",
      " [ 6.9479637]\n",
      " [ 3.456542 ]\n",
      " [ 7.2397118]\n",
      " [ 5.551127 ]\n",
      " [ 5.576251 ]\n",
      " [ 5.903346 ]\n",
      " [ 2.478262 ]\n",
      " [ 6.3162622]\n",
      " [ 7.031741 ]\n",
      " [ 6.4443   ]\n",
      " [ 2.0707965]\n",
      " [ 3.281948 ]\n",
      " [ 4.8592124]\n",
      " [ 4.038055 ]\n",
      " [ 9.155169 ]\n",
      " [ 5.7000527]\n",
      " [ 7.8699083]\n",
      " [ 3.9761744]\n",
      " [ 7.6443205]\n",
      " [ 3.34929  ]\n",
      " [ 3.700805 ]\n",
      " [ 8.001639 ]\n",
      " [ 4.4822574]\n",
      " [ 7.8670235]\n",
      " [ 5.708681 ]\n",
      " [ 3.2845535]\n",
      " [ 3.218731 ]\n",
      " [ 6.5847626]\n",
      " [ 1.8973528]\n",
      " [ 5.289469 ]\n",
      " [ 4.813348 ]\n",
      " [ 1.9622502]\n",
      " [ 4.355963 ]\n",
      " [ 5.8506956]\n",
      " [ 1.1741244]\n",
      " [ 2.2327836]\n",
      " [ 4.9546423]\n",
      " [ 2.2622602]\n",
      " [ 7.5507874]\n",
      " [ 9.966053 ]\n",
      " [ 3.171103 ]\n",
      " [ 5.410782 ]\n",
      " [ 5.759817 ]\n",
      " [ 8.758915 ]\n",
      " [ 8.19076  ]\n",
      " [ 1.8110746]\n",
      " [ 4.6600313]\n",
      " [ 6.161758 ]\n",
      " [ 7.2003355]\n",
      " [ 4.9043436]\n",
      " [ 4.578371 ]\n",
      " [ 1.3390253]\n",
      " [11.744055 ]\n",
      " [ 5.3901806]\n",
      " [ 2.0110452]\n",
      " [ 1.8448778]\n",
      " [13.021898 ]\n",
      " [ 6.9544644]\n",
      " [ 5.2852945]\n",
      " [ 6.2743025]\n",
      " [ 7.9886494]\n",
      " [ 2.1174014]\n",
      " [ 4.0028195]\n",
      " [ 3.3896413]\n",
      " [ 3.7415357]\n",
      " [ 7.651086 ]\n",
      " [ 4.75633  ]\n",
      " [ 1.5764954]\n",
      " [ 7.033363 ]\n",
      " [ 9.144373 ]\n",
      " [12.097092 ]\n",
      " [13.118139 ]\n",
      " [ 4.9641333]\n",
      " [ 5.7022343]\n",
      " [ 5.324857 ]\n",
      " [ 9.520851 ]\n",
      " [ 3.947335 ]\n",
      " [ 9.286747 ]\n",
      " [ 2.5280685]\n",
      " [ 3.572024 ]\n",
      " [ 6.5821657]]\n"
     ]
    }
   ],
   "source": [
    "with torch.no_grad(): \n",
    "    if torch.cuda.is_available():\n",
    "        predicted = model(Variable(torch.from_numpy(x_train).cuda())).cpu().data.numpy()\n",
    "    else:\n",
    "        predicted = model(Variable(torch.from_numpy(x_train))).data.numpy()\n",
    "    print(predicted)"
   ]
  },
  {
   "cell_type": "code",
   "execution_count": 94,
   "metadata": {},
   "outputs": [
    {
     "data": {
      "image/png": "[encoded data removed]",
      "text/plain": [
       "<Figure size 432x288 with 1 Axes>"
      ]
     },
     "metadata": {
      "needs_background": "light"
     },
     "output_type": "display_data"
    }
   ],
   "source": [
    "x_train = (x_train).reshape(160,)\n",
    "y_train = (y_train).reshape(160,)\n",
    "\n",
    "z = np.polyfit(x_train, y_train, 3)\n",
    "p = np.poly1d(z)\n",
    "xp = np.linspace(x_train.min(), x_train.max(), 100)\n",
    "\n",
    "plt.plot(x_train, y_train, '.', xp, p(xp), '-')\n",
    "plt.show()"
   ]
  },
  {
   "cell_type": "code",
   "execution_count": 95,
   "metadata": {},
   "outputs": [
    {
     "data": {
      "image/png": "[encoded data removed]",
      "text/plain": [
       "<Figure size 432x288 with 1 Axes>"
      ]
     },
     "metadata": {
      "needs_background": "light"
     },
     "output_type": "display_data"
    }
   ],
   "source": [
    "x_test = (x_test).reshape(40,)\n",
    "y_test = (y_test).reshape(40,)\n",
    "\n",
    "z = np.polyfit(x_test, y_test, 3)\n",
    "p = np.poly1d(z)\n",
    "xp = np.linspace(x_test.min(), x_test.max(), 100)\n",
    "\n",
    "plt.plot(x_test, y_test, '.', xp, p(xp), '-')\n",
    "plt.show()"
   ]
  },
  {
   "cell_type": "code",
   "execution_count": 96,
   "metadata": {},
   "outputs": [
    {
     "data": {
      "text/plain": [
       "(0.0, 100.0)"
      ]
     },
     "execution_count": 96,
     "metadata": {},
     "output_type": "execute_result"
    },
    {
     "data": {
      "image/png": "[encoded data removed]",
      "text/plain": [
       "<Figure size 432x288 with 1 Axes>"
      ]
     },
     "metadata": {
      "needs_background": "light"
     },
     "output_type": "display_data"
    }
   ],
   "source": [
    "plt.plot(hs, train_losses, label='Train Loss')\n",
    "plt.plot(hs, test_losses, label='Test loss')\n",
    "plt.legend(loc='best')\n",
    "plt.xlim(0, 100)"
   ]
  },
  {
   "cell_type": "code",
   "execution_count": 97,
   "metadata": {},
   "outputs": [
    {
     "data": {
      "text/plain": [
       "(0.0, 100.0)"
      ]
     },
     "execution_count": 97,
     "metadata": {},
     "output_type": "execute_result"
    },
    {
     "data": {
      "image/png": "[encoded data removed]",
      "text/plain": [
       "<Figure size 432x288 with 1 Axes>"
      ]
     },
     "metadata": {
      "needs_background": "light"
     },
     "output_type": "display_data"
    }
   ],
   "source": [
    "plt.plot(hs, train_losses)\n",
    "plt.title('Train Loss')\n",
    "plt.xlim(0, 100)"
   ]
  },
  {
   "cell_type": "code",
   "execution_count": 98,
   "metadata": {},
   "outputs": [
    {
     "data": {
      "text/plain": [
       "(0.0, 100.0)"
      ]
     },
     "execution_count": 98,
     "metadata": {},
     "output_type": "execute_result"
    },
    {
     "data": {
      "image/png": "[encoded data removed]",
      "text/plain": [
       "<Figure size 432x288 with 1 Axes>"
      ]
     },
     "metadata": {
      "needs_background": "light"
     },
     "output_type": "display_data"
    }
   ],
   "source": [
    "plt.plot(hs, test_losses)\n",
    "plt.title('Test Loss')\n",
    "plt.xlim(0, 100)"
   ]
  },
  {
   "cell_type": "code",
   "execution_count": null,
   "metadata": {},
   "outputs": [],
   "source": []
  },
  {
   "cell_type": "code",
   "execution_count": null,
   "metadata": {},
   "outputs": [],
   "source": []
  },
  {
   "cell_type": "code",
   "execution_count": null,
   "metadata": {},
   "outputs": [],
   "source": []
  },
  {
   "cell_type": "code",
   "execution_count": null,
   "metadata": {},
   "outputs": [],
   "source": []
  },
  {
   "cell_type": "code",
   "execution_count": null,
   "metadata": {},
   "outputs": [],
   "source": []
  }
 ],
 "metadata": {
  "kernelspec": {
   "display_name": "Python 3",
   "language": "python",
   "name": "python3"
  },
  "language_info": {
   "codemirror_mode": {
    "name": "ipython",
    "version": 3
   },
   "file_extension": ".py",
   "mimetype": "text/x-python",
   "name": "python",
   "nbconvert_exporter": "python",
   "pygments_lexer": "ipython3",
   "version": "3.8.3"
  }
 },
 "nbformat": 4,
 "nbformat_minor": 2
}
