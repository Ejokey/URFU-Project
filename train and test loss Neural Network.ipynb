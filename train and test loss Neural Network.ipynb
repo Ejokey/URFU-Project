{
 "cells": [
  {
   "cell_type": "markdown",
   "metadata": {},
   "source": [
    "# Exercise 2"
   ]
  },
  {
   "cell_type": "markdown",
   "metadata": {},
   "source": [
    "## Instructions \n",
    "\n",
    "1. Generate train and test data.\n",
    "2. Define a class NN of one-hidden neural net. The __init__ function takes 3 parameters (inputsize, hiddensize, outputsize).\n",
    "\n",
    "2. Define a list hidden_size = [2, ...., 33, ....128] with a step 5. Be sure that list contains 33, which corresponds to the case of interpolation threshold, i.e. the number of parameters equals to the number of training points.\n",
    "3. \n",
    "\n",
    "for h in hidden_size:\n",
    "    define model(inputsize, hiddensize, outputsize)\n",
    "    for e in epochs:\n",
    "        forward step: output = model(input)\n",
    "        compute loss \n",
    "        backpropagate loss (use backward)\n",
    "        \n",
    "    get train loss (after training): train_out = model(input)\n",
    "    train_loss = criterion(train_out, labels)\n",
    "    get test_loss: test_out = model(input)\n",
    "    test_loss = criterion(test_out, labels)\n",
    "       \n",
    "4. Plot saved list of train and test losses, x axis reveals each h, y axis is loss values.\n",
    "     "
   ]
  },
  {
   "cell_type": "code",
   "execution_count": 1,
   "metadata": {},
   "outputs": [],
   "source": [
    "import numpy as np\n",
    "from sklearn.linear_model import LinearRegression\n",
    "from sklearn.metrics import mean_squared_error\n",
    "from scipy.stats import multivariate_normal\n",
    "%matplotlib inline\n",
    "import matplotlib\n",
    "import matplotlib.pyplot as plt\n",
    "import csv\n",
    "import torch\n",
    "from torch.autograd import Variable\n",
    "import torch.nn as nn\n",
    "from sklearn import datasets\n",
    "from sklearn.model_selection import train_test_split\n",
    "\n",
    "np.random.seed(1234)"
   ]
  },
  {
   "cell_type": "code",
   "execution_count": 2,
   "metadata": {},
   "outputs": [],
   "source": [
    "x_values = np.random.normal(size = 200)\n",
    "x_vals = np.array(x_values, dtype=np.float32)\n",
    "r = np.random.normal(0, 3, size = 200)\n",
    "\n",
    "y_values = [3*i + 5 for i in x_values] + r\n",
    "y_vals = np.array(y_values, dtype=np.float32)\n"
   ]
  },
  {
   "cell_type": "code",
   "execution_count": 3,
   "metadata": {},
   "outputs": [],
   "source": [
    "x_train, x_test, y_train, y_test = (train_test_split(x_vals, y_vals, test_size=0.2))"
   ]
  },
  {
   "cell_type": "code",
   "execution_count": 4,
   "metadata": {},
   "outputs": [],
   "source": [
    "x_train = (x_train).reshape(-1, 1)\n",
    "x_test = (x_test).reshape(-1, 1)\n",
    "y_train = (y_train).reshape(-1, 1)\n",
    "y_test = (y_test).reshape(-1, 1)"
   ]
  },
  {
   "cell_type": "code",
   "execution_count": 5,
   "metadata": {},
   "outputs": [
    {
     "data": {
      "text/plain": [
       "(160, 1)"
      ]
     },
     "execution_count": 5,
     "metadata": {},
     "output_type": "execute_result"
    }
   ],
   "source": [
    "x_train.shape"
   ]
  },
  {
   "cell_type": "code",
   "execution_count": 6,
   "metadata": {},
   "outputs": [
    {
     "name": "stdout",
     "output_type": "stream",
     "text": [
      "(160, 1)\n",
      "(160, 1)\n"
     ]
    }
   ],
   "source": [
    "print(x_train.shape)\n",
    "print(y_train.shape)"
   ]
  },
  {
   "cell_type": "code",
   "execution_count": 7,
   "metadata": {},
   "outputs": [
    {
     "data": {
      "text/plain": [
       "<matplotlib.collections.PathCollection at 0x1cc879cdaf0>"
      ]
     },
     "execution_count": 7,
     "metadata": {},
     "output_type": "execute_result"
    },
    {
     "data": {
      "image/png": "[encoded data removed]",
      "text/plain": [
       "<Figure size 432x288 with 1 Axes>"
      ]
     },
     "metadata": {
      "needs_background": "light"
     },
     "output_type": "display_data"
    }
   ],
   "source": [
    "plt.scatter(x_train, y_train)"
   ]
  },
  {
   "cell_type": "code",
   "execution_count": 8,
   "metadata": {},
   "outputs": [],
   "source": [
    "class NN(torch.nn.Module):\n",
    "    def __init__(self, inputSize, hiddenSize, outputSize):\n",
    "        super(NN, self).__init__()\n",
    "        self.linear = nn.Sequential(torch.nn.Linear(inputSize, hiddenSize),\n",
    "                                    torch.nn.Linear(hiddenSize, outputSize))\n",
    "                                    \n",
    "\n",
    "    def forward(self, x):\n",
    "        out = self.linear(x)\n",
    "        return out"
   ]
  },
  {
   "cell_type": "code",
   "execution_count": 9,
   "metadata": {},
   "outputs": [],
   "source": [
    "inputDim = 1\n",
    "hidden_sizes = 128\n",
    "outputDim = 1      \n",
    "learningRate = 0.001 \n",
    "epochs = 101\n",
    "\n"
   ]
  },
  {
   "cell_type": "code",
   "execution_count": 10,
   "metadata": {
    "scrolled": true
   },
   "outputs": [],
   "source": [
    "criterion = torch.nn.MSELoss() "
   ]
  },
  {
   "cell_type": "code",
   "execution_count": 20,
   "metadata": {},
   "outputs": [
    {
     "name": "stdout",
     "output_type": "stream",
     "text": [
      "h: 2 | epoch: 0, loss: 46.66217041015625\n",
      "h: 2 | epoch: 50, loss: 35.861759185791016\n",
      "h: 2 | epoch: 100, loss: 23.60149574279785\n",
      "h: 3 | epoch: 0, loss: 42.599403381347656\n",
      "h: 3 | epoch: 50, loss: 20.34744644165039\n",
      "h: 3 | epoch: 100, loss: 10.889514923095703\n",
      "h: 4 | epoch: 0, loss: 41.765716552734375\n",
      "h: 4 | epoch: 50, loss: 27.003503799438477\n",
      "h: 4 | epoch: 100, loss: 16.428096771240234\n",
      "h: 5 | epoch: 0, loss: 49.22309875488281\n",
      "h: 5 | epoch: 50, loss: 31.464801788330078\n",
      "h: 5 | epoch: 100, loss: 18.74629783630371\n",
      "h: 6 | epoch: 0, loss: 51.87255859375\n",
      "h: 6 | epoch: 50, loss: 26.910547256469727\n",
      "h: 6 | epoch: 100, loss: 13.874338150024414\n",
      "h: 7 | epoch: 0, loss: 43.19805145263672\n",
      "h: 7 | epoch: 50, loss: 23.649572372436523\n",
      "h: 7 | epoch: 100, loss: 13.069067001342773\n",
      "h: 8 | epoch: 0, loss: 43.209877014160156\n",
      "h: 8 | epoch: 50, loss: 24.613428115844727\n",
      "h: 8 | epoch: 100, loss: 12.9339017868042\n",
      "h: 9 | epoch: 0, loss: 44.25224304199219\n",
      "h: 9 | epoch: 50, loss: 26.414987564086914\n",
      "h: 9 | epoch: 100, loss: 14.831588745117188\n",
      "h: 10 | epoch: 0, loss: 47.99103546142578\n",
      "h: 10 | epoch: 50, loss: 21.02774429321289\n",
      "h: 10 | epoch: 100, loss: 11.055658340454102\n",
      "h: 11 | epoch: 0, loss: 45.820491790771484\n",
      "h: 11 | epoch: 50, loss: 18.571712493896484\n",
      "h: 11 | epoch: 100, loss: 10.045084953308105\n",
      "h: 12 | epoch: 0, loss: 42.174217224121094\n",
      "h: 12 | epoch: 50, loss: 20.369152069091797\n",
      "h: 12 | epoch: 100, loss: 10.978738784790039\n",
      "h: 13 | epoch: 0, loss: 46.047203063964844\n",
      "h: 13 | epoch: 50, loss: 21.339754104614258\n",
      "h: 13 | epoch: 100, loss: 11.098154067993164\n",
      "h: 14 | epoch: 0, loss: 44.19123458862305\n",
      "h: 14 | epoch: 50, loss: 20.053913116455078\n",
      "h: 14 | epoch: 100, loss: 10.855618476867676\n",
      "h: 15 | epoch: 0, loss: 44.1405029296875\n",
      "h: 15 | epoch: 50, loss: 20.894018173217773\n",
      "h: 15 | epoch: 100, loss: 11.609380722045898\n",
      "h: 16 | epoch: 0, loss: 40.3099479675293\n",
      "h: 16 | epoch: 50, loss: 11.993287086486816\n",
      "h: 16 | epoch: 100, loss: 8.780157089233398\n",
      "h: 17 | epoch: 0, loss: 41.289588928222656\n",
      "h: 17 | epoch: 50, loss: 17.543771743774414\n",
      "h: 17 | epoch: 100, loss: 10.045958518981934\n",
      "h: 18 | epoch: 0, loss: 48.295310974121094\n",
      "h: 18 | epoch: 50, loss: 18.072795867919922\n",
      "h: 18 | epoch: 100, loss: 9.81673812866211\n",
      "h: 19 | epoch: 0, loss: 45.02222442626953\n",
      "h: 19 | epoch: 50, loss: 15.426704406738281\n",
      "h: 19 | epoch: 100, loss: 9.323455810546875\n",
      "h: 20 | epoch: 0, loss: 44.93053436279297\n",
      "h: 20 | epoch: 50, loss: 19.152240753173828\n",
      "h: 20 | epoch: 100, loss: 10.248075485229492\n",
      "h: 21 | epoch: 0, loss: 40.505104064941406\n",
      "h: 21 | epoch: 50, loss: 14.258976936340332\n",
      "h: 21 | epoch: 100, loss: 9.128034591674805\n",
      "h: 22 | epoch: 0, loss: 48.15391159057617\n",
      "h: 22 | epoch: 50, loss: 14.158244132995605\n",
      "h: 22 | epoch: 100, loss: 9.060555458068848\n",
      "h: 23 | epoch: 0, loss: 46.14337921142578\n",
      "h: 23 | epoch: 50, loss: 17.997180938720703\n",
      "h: 23 | epoch: 100, loss: 10.445001602172852\n",
      "h: 24 | epoch: 0, loss: 50.26421356201172\n",
      "h: 24 | epoch: 50, loss: 15.949729919433594\n",
      "h: 24 | epoch: 100, loss: 9.363638877868652\n",
      "h: 25 | epoch: 0, loss: 47.71881103515625\n",
      "h: 25 | epoch: 50, loss: 12.443412780761719\n",
      "h: 25 | epoch: 100, loss: 8.76832389831543\n",
      "h: 26 | epoch: 0, loss: 43.70963668823242\n",
      "h: 26 | epoch: 50, loss: 16.732494354248047\n",
      "h: 26 | epoch: 100, loss: 9.636064529418945\n",
      "h: 27 | epoch: 0, loss: 34.43479919433594\n",
      "h: 27 | epoch: 50, loss: 10.400388717651367\n",
      "h: 27 | epoch: 100, loss: 8.680766105651855\n",
      "h: 28 | epoch: 0, loss: 39.203208923339844\n",
      "h: 28 | epoch: 50, loss: 13.1489896774292\n",
      "h: 28 | epoch: 100, loss: 8.979604721069336\n",
      "h: 29 | epoch: 0, loss: 40.0960807800293\n",
      "h: 29 | epoch: 50, loss: 9.960403442382812\n",
      "h: 29 | epoch: 100, loss: 8.597073554992676\n",
      "h: 30 | epoch: 0, loss: 49.26555633544922\n",
      "h: 30 | epoch: 50, loss: 12.553892135620117\n",
      "h: 30 | epoch: 100, loss: 8.937501907348633\n",
      "h: 31 | epoch: 0, loss: 53.15077590942383\n",
      "h: 31 | epoch: 50, loss: 11.484150886535645\n",
      "h: 31 | epoch: 100, loss: 8.672499656677246\n",
      "h: 32 | epoch: 0, loss: 43.07467269897461\n",
      "h: 32 | epoch: 50, loss: 11.311347961425781\n",
      "h: 32 | epoch: 100, loss: 8.698389053344727\n",
      "h: 33 | epoch: 0, loss: 45.786598205566406\n",
      "h: 33 | epoch: 50, loss: 10.372261047363281\n",
      "h: 33 | epoch: 100, loss: 8.606202125549316\n",
      "h: 34 | epoch: 0, loss: 41.65390396118164\n",
      "h: 34 | epoch: 50, loss: 10.77385139465332\n",
      "h: 34 | epoch: 100, loss: 8.696842193603516\n",
      "h: 35 | epoch: 0, loss: 52.45965576171875\n",
      "h: 35 | epoch: 50, loss: 11.640329360961914\n",
      "h: 35 | epoch: 100, loss: 8.69495964050293\n",
      "h: 36 | epoch: 0, loss: 47.278263092041016\n",
      "h: 36 | epoch: 50, loss: 10.62608528137207\n",
      "h: 36 | epoch: 100, loss: 8.651922225952148\n",
      "h: 37 | epoch: 0, loss: 47.17448806762695\n",
      "h: 37 | epoch: 50, loss: 14.367677688598633\n",
      "h: 37 | epoch: 100, loss: 9.06019401550293\n",
      "h: 38 | epoch: 0, loss: 46.680450439453125\n",
      "h: 38 | epoch: 50, loss: 9.789325714111328\n",
      "h: 38 | epoch: 100, loss: 8.578691482543945\n",
      "h: 39 | epoch: 0, loss: 42.782875061035156\n",
      "h: 39 | epoch: 50, loss: 10.154053688049316\n",
      "h: 39 | epoch: 100, loss: 8.596633911132812\n",
      "h: 40 | epoch: 0, loss: 39.49894714355469\n",
      "h: 40 | epoch: 50, loss: 11.074299812316895\n",
      "h: 40 | epoch: 100, loss: 8.680886268615723\n",
      "h: 41 | epoch: 0, loss: 39.4730339050293\n",
      "h: 41 | epoch: 50, loss: 9.914588928222656\n",
      "h: 41 | epoch: 100, loss: 8.592480659484863\n",
      "h: 42 | epoch: 0, loss: 45.68927764892578\n",
      "h: 42 | epoch: 50, loss: 9.39151668548584\n",
      "h: 42 | epoch: 100, loss: 8.562582015991211\n",
      "h: 43 | epoch: 0, loss: 45.17100143432617\n",
      "h: 43 | epoch: 50, loss: 9.019740104675293\n",
      "h: 43 | epoch: 100, loss: 8.556795120239258\n",
      "h: 44 | epoch: 0, loss: 37.957786560058594\n",
      "h: 44 | epoch: 50, loss: 10.001504898071289\n",
      "h: 44 | epoch: 100, loss: 8.600765228271484\n",
      "h: 45 | epoch: 0, loss: 51.302101135253906\n",
      "h: 45 | epoch: 50, loss: 10.39072036743164\n",
      "h: 45 | epoch: 100, loss: 8.602479934692383\n",
      "h: 46 | epoch: 0, loss: 41.469398498535156\n",
      "h: 46 | epoch: 50, loss: 8.965095520019531\n",
      "h: 46 | epoch: 100, loss: 8.554052352905273\n",
      "h: 47 | epoch: 0, loss: 41.36125183105469\n",
      "h: 47 | epoch: 50, loss: 9.652761459350586\n",
      "h: 47 | epoch: 100, loss: 8.576078414916992\n",
      "h: 48 | epoch: 0, loss: 49.941383361816406\n",
      "h: 48 | epoch: 50, loss: 8.836858749389648\n",
      "h: 48 | epoch: 100, loss: 8.551485061645508\n",
      "h: 49 | epoch: 0, loss: 47.68806457519531\n",
      "h: 49 | epoch: 50, loss: 11.064066886901855\n",
      "h: 49 | epoch: 100, loss: 8.6641845703125\n",
      "h: 50 | epoch: 0, loss: 45.89182662963867\n",
      "h: 50 | epoch: 50, loss: 9.489214897155762\n",
      "h: 50 | epoch: 100, loss: 8.568337440490723\n",
      "h: 51 | epoch: 0, loss: 47.92290496826172\n",
      "h: 51 | epoch: 50, loss: 9.20977783203125\n",
      "h: 51 | epoch: 100, loss: 8.560604095458984\n",
      "h: 52 | epoch: 0, loss: 39.60515594482422\n",
      "h: 52 | epoch: 50, loss: 9.067575454711914\n",
      "h: 52 | epoch: 100, loss: 8.5570707321167\n",
      "h: 53 | epoch: 0, loss: 47.9846305847168\n",
      "h: 53 | epoch: 50, loss: 9.245721817016602\n",
      "h: 53 | epoch: 100, loss: 8.558403015136719\n",
      "h: 54 | epoch: 0, loss: 40.37677764892578\n",
      "h: 54 | epoch: 50, loss: 8.926562309265137\n",
      "h: 54 | epoch: 100, loss: 8.55284309387207\n",
      "h: 55 | epoch: 0, loss: 40.47475814819336\n",
      "h: 55 | epoch: 50, loss: 8.833197593688965\n",
      "h: 55 | epoch: 100, loss: 8.553224563598633\n",
      "h: 56 | epoch: 0, loss: 46.5102424621582\n",
      "h: 56 | epoch: 50, loss: 8.728826522827148\n",
      "h: 56 | epoch: 100, loss: 8.55021858215332\n",
      "h: 57 | epoch: 0, loss: 46.384864807128906\n",
      "h: 57 | epoch: 50, loss: 9.599225997924805\n",
      "h: 57 | epoch: 100, loss: 8.570408821105957\n",
      "h: 58 | epoch: 0, loss: 44.223697662353516\n",
      "h: 58 | epoch: 50, loss: 9.706360816955566\n",
      "h: 58 | epoch: 100, loss: 8.578473091125488\n",
      "h: 59 | epoch: 0, loss: 47.381004333496094\n",
      "h: 59 | epoch: 50, loss: 8.853296279907227\n",
      "h: 59 | epoch: 100, loss: 8.551345825195312\n",
      "h: 60 | epoch: 0, loss: 52.79661178588867\n",
      "h: 60 | epoch: 50, loss: 9.156896591186523\n",
      "h: 60 | epoch: 100, loss: 8.55545425415039\n",
      "h: 61 | epoch: 0, loss: 47.22370147705078\n",
      "h: 61 | epoch: 50, loss: 8.928994178771973\n",
      "h: 61 | epoch: 100, loss: 8.552268028259277\n",
      "h: 62 | epoch: 0, loss: 44.08662033081055\n",
      "h: 62 | epoch: 50, loss: 8.931619644165039\n",
      "h: 62 | epoch: 100, loss: 8.553549766540527\n",
      "h: 63 | epoch: 0, loss: 44.7459831237793\n",
      "h: 63 | epoch: 50, loss: 8.807415962219238\n",
      "h: 63 | epoch: 100, loss: 8.551092147827148\n",
      "h: 64 | epoch: 0, loss: 42.92586135864258\n",
      "h: 64 | epoch: 50, loss: 9.173645973205566\n",
      "h: 64 | epoch: 100, loss: 8.558923721313477\n",
      "h: 65 | epoch: 0, loss: 40.750492095947266\n",
      "h: 65 | epoch: 50, loss: 9.056035041809082\n",
      "h: 65 | epoch: 100, loss: 8.556390762329102\n",
      "h: 66 | epoch: 0, loss: 43.272891998291016\n",
      "h: 66 | epoch: 50, loss: 8.707284927368164\n"
     ]
    },
    {
     "name": "stdout",
     "output_type": "stream",
     "text": [
      "h: 66 | epoch: 100, loss: 8.550302505493164\n",
      "h: 67 | epoch: 0, loss: 42.88895797729492\n",
      "h: 67 | epoch: 50, loss: 8.740864753723145\n",
      "h: 67 | epoch: 100, loss: 8.550801277160645\n",
      "h: 68 | epoch: 0, loss: 43.62236022949219\n",
      "h: 68 | epoch: 50, loss: 8.870248794555664\n",
      "h: 68 | epoch: 100, loss: 8.552288055419922\n",
      "h: 69 | epoch: 0, loss: 44.53953552246094\n",
      "h: 69 | epoch: 50, loss: 8.778243064880371\n",
      "h: 69 | epoch: 100, loss: 8.55119800567627\n",
      "h: 70 | epoch: 0, loss: 39.531253814697266\n",
      "h: 70 | epoch: 50, loss: 9.056614875793457\n",
      "h: 70 | epoch: 100, loss: 8.555925369262695\n",
      "h: 71 | epoch: 0, loss: 51.64796829223633\n",
      "h: 71 | epoch: 50, loss: 9.35888385772705\n",
      "h: 71 | epoch: 100, loss: 8.561914443969727\n",
      "h: 72 | epoch: 0, loss: 43.24747085571289\n",
      "h: 72 | epoch: 50, loss: 8.625143051147461\n",
      "h: 72 | epoch: 100, loss: 8.54999828338623\n",
      "h: 73 | epoch: 0, loss: 41.03076171875\n",
      "h: 73 | epoch: 50, loss: 8.66767692565918\n",
      "h: 73 | epoch: 100, loss: 8.550271034240723\n",
      "h: 74 | epoch: 0, loss: 46.67884063720703\n",
      "h: 74 | epoch: 50, loss: 8.600642204284668\n",
      "h: 74 | epoch: 100, loss: 8.549667358398438\n",
      "h: 75 | epoch: 0, loss: 39.07599639892578\n",
      "h: 75 | epoch: 50, loss: 8.752178192138672\n",
      "h: 75 | epoch: 100, loss: 8.550615310668945\n",
      "h: 76 | epoch: 0, loss: 39.821800231933594\n",
      "h: 76 | epoch: 50, loss: 8.79947566986084\n",
      "h: 76 | epoch: 100, loss: 8.55106258392334\n",
      "h: 77 | epoch: 0, loss: 52.912200927734375\n",
      "h: 77 | epoch: 50, loss: 8.682769775390625\n",
      "h: 77 | epoch: 100, loss: 8.550153732299805\n",
      "h: 78 | epoch: 0, loss: 43.71180725097656\n",
      "h: 78 | epoch: 50, loss: 8.743227005004883\n",
      "h: 78 | epoch: 100, loss: 8.55163288116455\n",
      "h: 79 | epoch: 0, loss: 44.93828582763672\n",
      "h: 79 | epoch: 50, loss: 8.61771297454834\n",
      "h: 79 | epoch: 100, loss: 8.549749374389648\n",
      "h: 80 | epoch: 0, loss: 49.23792266845703\n",
      "h: 80 | epoch: 50, loss: 8.75348949432373\n",
      "h: 80 | epoch: 100, loss: 8.550626754760742\n",
      "h: 81 | epoch: 0, loss: 39.544254302978516\n",
      "h: 81 | epoch: 50, loss: 8.623263359069824\n",
      "h: 81 | epoch: 100, loss: 8.549715042114258\n",
      "h: 82 | epoch: 0, loss: 51.701148986816406\n",
      "h: 82 | epoch: 50, loss: 8.587499618530273\n",
      "h: 82 | epoch: 100, loss: 8.549600601196289\n",
      "h: 83 | epoch: 0, loss: 45.02576446533203\n",
      "h: 83 | epoch: 50, loss: 8.571633338928223\n",
      "h: 83 | epoch: 100, loss: 8.549588203430176\n",
      "h: 84 | epoch: 0, loss: 46.6059455871582\n",
      "h: 84 | epoch: 50, loss: 8.633715629577637\n",
      "h: 84 | epoch: 100, loss: 8.54987621307373\n",
      "h: 85 | epoch: 0, loss: 42.16015625\n",
      "h: 85 | epoch: 50, loss: 8.577280044555664\n",
      "h: 85 | epoch: 100, loss: 8.549614906311035\n",
      "h: 86 | epoch: 0, loss: 39.56243133544922\n",
      "h: 86 | epoch: 50, loss: 8.581979751586914\n",
      "h: 86 | epoch: 100, loss: 8.549665451049805\n",
      "h: 87 | epoch: 0, loss: 46.137840270996094\n",
      "h: 87 | epoch: 50, loss: 8.602994918823242\n",
      "h: 87 | epoch: 100, loss: 8.549644470214844\n",
      "h: 88 | epoch: 0, loss: 42.326210021972656\n",
      "h: 88 | epoch: 50, loss: 8.642626762390137\n",
      "h: 88 | epoch: 100, loss: 8.549783706665039\n",
      "h: 89 | epoch: 0, loss: 38.13249206542969\n",
      "h: 89 | epoch: 50, loss: 8.587839126586914\n",
      "h: 89 | epoch: 100, loss: 8.549681663513184\n",
      "h: 90 | epoch: 0, loss: 47.78943634033203\n",
      "h: 90 | epoch: 50, loss: 8.560357093811035\n",
      "h: 90 | epoch: 100, loss: 8.54958438873291\n",
      "h: 91 | epoch: 0, loss: 42.244964599609375\n",
      "h: 91 | epoch: 50, loss: 8.556231498718262\n",
      "h: 91 | epoch: 100, loss: 8.54957389831543\n",
      "h: 92 | epoch: 0, loss: 43.748863220214844\n",
      "h: 92 | epoch: 50, loss: 8.572062492370605\n",
      "h: 92 | epoch: 100, loss: 8.549588203430176\n",
      "h: 93 | epoch: 0, loss: 48.33317947387695\n",
      "h: 93 | epoch: 50, loss: 8.613251686096191\n",
      "h: 93 | epoch: 100, loss: 8.549654960632324\n",
      "h: 94 | epoch: 0, loss: 43.8946418762207\n",
      "h: 94 | epoch: 50, loss: 8.578744888305664\n",
      "h: 94 | epoch: 100, loss: 8.549613952636719\n",
      "h: 95 | epoch: 0, loss: 46.761898040771484\n",
      "h: 95 | epoch: 50, loss: 8.620709419250488\n",
      "h: 95 | epoch: 100, loss: 8.549737930297852\n",
      "h: 96 | epoch: 0, loss: 48.57170867919922\n",
      "h: 96 | epoch: 50, loss: 8.670147895812988\n",
      "h: 96 | epoch: 100, loss: 8.54990005493164\n",
      "h: 97 | epoch: 0, loss: 41.873966217041016\n",
      "h: 97 | epoch: 50, loss: 8.64013671875\n",
      "h: 97 | epoch: 100, loss: 8.549787521362305\n",
      "h: 98 | epoch: 0, loss: 43.10893249511719\n",
      "h: 98 | epoch: 50, loss: 8.56932258605957\n",
      "h: 98 | epoch: 100, loss: 8.549588203430176\n",
      "h: 99 | epoch: 0, loss: 39.08880615234375\n",
      "h: 99 | epoch: 50, loss: 8.5806245803833\n",
      "h: 99 | epoch: 100, loss: 8.549609184265137\n",
      "h: 100 | epoch: 0, loss: 41.43252182006836\n",
      "h: 100 | epoch: 50, loss: 8.591426849365234\n",
      "h: 100 | epoch: 100, loss: 8.549616813659668\n",
      "h: 101 | epoch: 0, loss: 38.11506271362305\n",
      "h: 101 | epoch: 50, loss: 8.56626033782959\n",
      "h: 101 | epoch: 100, loss: 8.54959487915039\n",
      "h: 102 | epoch: 0, loss: 49.90132141113281\n",
      "h: 102 | epoch: 50, loss: 8.586965560913086\n",
      "h: 102 | epoch: 100, loss: 8.549627304077148\n",
      "h: 103 | epoch: 0, loss: 50.518150329589844\n",
      "h: 103 | epoch: 50, loss: 8.582630157470703\n",
      "h: 103 | epoch: 100, loss: 8.54959487915039\n",
      "h: 104 | epoch: 0, loss: 52.46730422973633\n",
      "h: 104 | epoch: 50, loss: 8.626157760620117\n",
      "h: 104 | epoch: 100, loss: 8.549871444702148\n",
      "h: 105 | epoch: 0, loss: 48.242618560791016\n",
      "h: 105 | epoch: 50, loss: 8.559237480163574\n",
      "h: 105 | epoch: 100, loss: 8.549576759338379\n",
      "h: 106 | epoch: 0, loss: 42.607486724853516\n",
      "h: 106 | epoch: 50, loss: 8.562779426574707\n",
      "h: 106 | epoch: 100, loss: 8.549577713012695\n",
      "h: 107 | epoch: 0, loss: 38.840797424316406\n",
      "h: 107 | epoch: 50, loss: 8.563460350036621\n",
      "h: 107 | epoch: 100, loss: 8.549579620361328\n",
      "h: 108 | epoch: 0, loss: 44.69445037841797\n",
      "h: 108 | epoch: 50, loss: 8.561422348022461\n",
      "h: 108 | epoch: 100, loss: 8.549575805664062\n",
      "h: 109 | epoch: 0, loss: 50.22980499267578\n",
      "h: 109 | epoch: 50, loss: 8.55337142944336\n",
      "h: 109 | epoch: 100, loss: 8.54957389831543\n",
      "h: 110 | epoch: 0, loss: 44.299072265625\n",
      "h: 110 | epoch: 50, loss: 8.554973602294922\n",
      "h: 110 | epoch: 100, loss: 8.54957389831543\n",
      "h: 111 | epoch: 0, loss: 45.00627136230469\n",
      "h: 111 | epoch: 50, loss: 8.576559066772461\n",
      "h: 111 | epoch: 100, loss: 8.549589157104492\n",
      "h: 112 | epoch: 0, loss: 50.766929626464844\n",
      "h: 112 | epoch: 50, loss: 8.555870056152344\n",
      "h: 112 | epoch: 100, loss: 8.54957389831543\n",
      "h: 113 | epoch: 0, loss: 42.95210647583008\n",
      "h: 113 | epoch: 50, loss: 8.559383392333984\n",
      "h: 113 | epoch: 100, loss: 8.549575805664062\n",
      "h: 114 | epoch: 0, loss: 40.686702728271484\n",
      "h: 114 | epoch: 50, loss: 8.555523872375488\n",
      "h: 114 | epoch: 100, loss: 8.54957389831543\n",
      "h: 115 | epoch: 0, loss: 45.07189178466797\n",
      "h: 115 | epoch: 50, loss: 8.557808876037598\n",
      "h: 115 | epoch: 100, loss: 8.549577713012695\n",
      "h: 116 | epoch: 0, loss: 49.38355255126953\n",
      "h: 116 | epoch: 50, loss: 8.553071975708008\n",
      "h: 116 | epoch: 100, loss: 8.54957389831543\n",
      "h: 117 | epoch: 0, loss: 37.78627014160156\n",
      "h: 117 | epoch: 50, loss: 8.553317070007324\n",
      "h: 117 | epoch: 100, loss: 8.549572944641113\n",
      "h: 118 | epoch: 0, loss: 50.85100173950195\n",
      "h: 118 | epoch: 50, loss: 8.55902099609375\n",
      "h: 118 | epoch: 100, loss: 8.549574851989746\n",
      "h: 119 | epoch: 0, loss: 42.26961135864258\n",
      "h: 119 | epoch: 50, loss: 8.55328369140625\n",
      "h: 119 | epoch: 100, loss: 8.54957389831543\n",
      "h: 120 | epoch: 0, loss: 45.3159065246582\n",
      "h: 120 | epoch: 50, loss: 8.57533073425293\n",
      "h: 120 | epoch: 100, loss: 8.549588203430176\n",
      "h: 121 | epoch: 0, loss: 42.186344146728516\n",
      "h: 121 | epoch: 50, loss: 8.562823295593262\n",
      "h: 121 | epoch: 100, loss: 8.549577713012695\n",
      "h: 122 | epoch: 0, loss: 39.837547302246094\n",
      "h: 122 | epoch: 50, loss: 8.552619934082031\n",
      "h: 122 | epoch: 100, loss: 8.549572944641113\n",
      "h: 123 | epoch: 0, loss: 42.51712417602539\n",
      "h: 123 | epoch: 50, loss: 8.55475902557373\n",
      "h: 123 | epoch: 100, loss: 8.54957389831543\n",
      "h: 124 | epoch: 0, loss: 47.669960021972656\n",
      "h: 124 | epoch: 50, loss: 8.56230354309082\n",
      "h: 124 | epoch: 100, loss: 8.549588203430176\n",
      "h: 125 | epoch: 0, loss: 53.13379669189453\n",
      "h: 125 | epoch: 50, loss: 8.551777839660645\n",
      "h: 125 | epoch: 100, loss: 8.549572944641113\n",
      "h: 126 | epoch: 0, loss: 45.49059295654297\n",
      "h: 126 | epoch: 50, loss: 8.554412841796875\n",
      "h: 126 | epoch: 100, loss: 8.54957389831543\n",
      "h: 127 | epoch: 0, loss: 47.57079315185547\n",
      "h: 127 | epoch: 50, loss: 8.55577278137207\n",
      "h: 127 | epoch: 100, loss: 8.54957389831543\n"
     ]
    }
   ],
   "source": [
    "#!!! Note that training in the code below done outside of epoch loop.\n",
    "hs = []\n",
    "train_losses = []\n",
    "test_losses = []\n",
    "for h in range(2, hidden_sizes, 1):\n",
    "    hs.append(h)\n",
    "    model = NN(inputDim, h, outputDim)\n",
    "    optimizer = torch.optim.SGD(model.parameters(), lr=learningRate)\n",
    "    for epoch in range(epochs):\n",
    "        if torch.cuda.is_available():\n",
    "            inputs_train = Variable(torch.from_numpy(x_train).cuda())\n",
    "            labels_train = Variable(torch.from_numpy(y_train).cuda())\n",
    "        else:\n",
    "            inputs_train = Variable(torch.from_numpy(x_train))\n",
    "            labels_train = Variable(torch.from_numpy(y_train))\n",
    "        if torch.cuda.is_available():\n",
    "            inputs_test = Variable(torch.from_numpy(x_test).cuda())\n",
    "            labels_test = Variable(torch.from_numpy(y_test).cuda())\n",
    "        else:\n",
    "            inputs_test = Variable(torch.from_numpy(x_test))\n",
    "            labels_test = Variable(torch.from_numpy(y_test))\n",
    "        optimizer.zero_grad()\n",
    "        outputs = model(inputs_train)\n",
    "        loss = criterion(outputs, labels_train)\n",
    "        loss.backward()\n",
    "        optimizer.step()\n",
    "        if epoch % 50 == 0:\n",
    "            print('h: {} | epoch: {}, loss: {}'.format(h, epoch, loss.item()))  \n",
    "    outputs_train = model(inputs_train)\n",
    "    train_loss = criterion(inputs_train, labels_train)\n",
    "    train_losses.append(train_loss)\n",
    "    outputs_test = model(inputs_test)\n",
    "    test_loss = criterion(inputs_test, labels_test)\n",
    "    test_losses.append(test_loss)"
   ]
  },
  {
   "cell_type": "code",
   "execution_count": 21,
   "metadata": {
    "scrolled": true
   },
   "outputs": [
    {
     "name": "stdout",
     "output_type": "stream",
     "text": [
      "[[ 8.754229  ]\n",
      " [ 3.191471  ]\n",
      " [ 4.046038  ]\n",
      " [ 5.9255576 ]\n",
      " [ 7.975143  ]\n",
      " [ 0.69024026]\n",
      " [ 8.885903  ]\n",
      " [ 4.985613  ]\n",
      " [ 6.3820195 ]\n",
      " [ 6.7657127 ]\n",
      " [ 3.468689  ]\n",
      " [ 3.303938  ]\n",
      " [ 7.589898  ]\n",
      " [ 3.9309459 ]\n",
      " [ 4.7510543 ]\n",
      " [ 3.1390328 ]\n",
      " [ 7.9771204 ]\n",
      " [ 9.187587  ]\n",
      " [ 7.0143876 ]\n",
      " [ 4.033291  ]\n",
      " [ 1.5248362 ]\n",
      " [ 0.4028564 ]\n",
      " [ 5.651797  ]\n",
      " [ 3.541445  ]\n",
      " [ 1.1330533 ]\n",
      " [ 4.0495186 ]\n",
      " [ 4.711803  ]\n",
      " [ 8.142067  ]\n",
      " [ 5.16141   ]\n",
      " [ 7.043736  ]\n",
      " [ 1.3325212 ]\n",
      " [ 6.21808   ]\n",
      " [ 5.6452026 ]\n",
      " [ 8.624958  ]\n",
      " [ 2.8894637 ]\n",
      " [ 2.990803  ]\n",
      " [-0.14921461]\n",
      " [ 8.495849  ]\n",
      " [ 7.4680376 ]\n",
      " [ 6.6759877 ]\n",
      " [ 7.209375  ]\n",
      " [ 6.742747  ]\n",
      " [ 5.8965883 ]\n",
      " [ 6.5637174 ]\n",
      " [ 7.140839  ]\n",
      " [ 7.649484  ]\n",
      " [-0.4914422 ]\n",
      " [ 7.3398213 ]\n",
      " [ 8.109257  ]\n",
      " [ 4.096156  ]\n",
      " [ 5.9282    ]\n",
      " [ 3.0160027 ]\n",
      " [-0.29443884]\n",
      " [ 6.4106984 ]\n",
      " [10.742301  ]\n",
      " [ 2.9176784 ]\n",
      " [ 6.297464  ]\n",
      " [ 4.643106  ]\n",
      " [ 9.000455  ]\n",
      " [ 7.2138476 ]\n",
      " [ 0.39887804]\n",
      " [ 5.530502  ]\n",
      " [ 7.588098  ]\n",
      " [ 4.413142  ]\n",
      " [ 6.3789554 ]\n",
      " [ 4.879083  ]\n",
      " [ 5.3571014 ]\n",
      " [ 4.239223  ]\n",
      " [ 2.2258935 ]\n",
      " [ 8.423465  ]\n",
      " [ 4.233481  ]\n",
      " [ 7.5221    ]\n",
      " [-0.7477876 ]\n",
      " [ 4.7668743 ]\n",
      " [ 4.4490914 ]\n",
      " [ 2.5361705 ]\n",
      " [10.532542  ]\n",
      " [ 1.406336  ]\n",
      " [ 1.4604418 ]\n",
      " [ 7.1491523 ]\n",
      " [ 3.8972778 ]\n",
      " [ 7.389033  ]\n",
      " [ 5.9622426 ]\n",
      " [ 5.984506  ]\n",
      " [ 6.2716637 ]\n",
      " [ 2.7786431 ]\n",
      " [ 6.6238055 ]\n",
      " [ 7.218351  ]\n",
      " [ 6.7298255 ]\n",
      " [ 2.0952082 ]\n",
      " [ 3.7119727 ]\n",
      " [ 5.3203974 ]\n",
      " [ 4.506366  ]\n",
      " [ 8.886045  ]\n",
      " [ 6.0942154 ]\n",
      " [ 7.8917103 ]\n",
      " [ 4.4420877 ]\n",
      " [ 7.7128634 ]\n",
      " [ 3.7834458 ]\n",
      " [ 4.15203   ]\n",
      " [ 7.9961143 ]\n",
      " [ 4.9448853 ]\n",
      " [ 7.889425  ]\n",
      " [ 6.1018615 ]\n",
      " [ 3.7147384 ]\n",
      " [ 3.6448772 ]\n",
      " [ 6.846133  ]\n",
      " [ 1.6720014 ]\n",
      " [ 5.727264  ]\n",
      " [ 5.274792  ]\n",
      " [ 1.8515604 ]\n",
      " [ 4.8222117 ]\n",
      " [ 6.2268376 ]\n",
      " [-1.1742704 ]\n",
      " [ 2.4249647 ]\n",
      " [ 5.41237   ]\n",
      " [ 2.4721355 ]\n",
      " [ 7.6383233 ]\n",
      " [ 9.492919  ]\n",
      " [ 3.5940113 ]\n",
      " [ 5.8375306 ]\n",
      " [ 6.1471767 ]\n",
      " [ 8.586598  ]\n",
      " [ 8.146501  ]\n",
      " [ 1.3961811 ]\n",
      " [ 5.1245136 ]\n",
      " [ 6.493969  ]\n",
      " [ 7.356717  ]\n",
      " [ 5.3641105 ]\n",
      " [ 5.0418677 ]\n",
      " [-0.3222497 ]\n",
      " [10.803829  ]\n",
      " [ 5.818805  ]\n",
      " [ 1.9651945 ]\n",
      " [ 1.5046746 ]\n",
      " [11.709852  ]\n",
      " [ 7.15463   ]\n",
      " [ 5.7234693 ]\n",
      " [ 6.5890617 ]\n",
      " [ 7.985819  ]\n",
      " [ 2.1987863 ]\n",
      " [ 4.469506  ]\n",
      " [ 3.826273  ]\n",
      " [ 4.1941752 ]\n",
      " [ 7.7182546 ]\n",
      " [ 5.2186713 ]\n",
      " [ 0.62365067]\n",
      " [ 7.2196817 ]\n",
      " [ 8.877917  ]\n",
      " [11.055467  ]\n",
      " [11.777951  ]\n",
      " [ 5.4214826 ]\n",
      " [ 6.0961485 ]\n",
      " [ 5.75943   ]\n",
      " [ 9.161307  ]\n",
      " [ 4.411588  ]\n",
      " [ 8.985089  ]\n",
      " [ 2.8379889 ]\n",
      " [ 4.018955  ]\n",
      " [ 6.843983  ]]\n"
     ]
    }
   ],
   "source": [
    "with torch.no_grad(): \n",
    "    if torch.cuda.is_available():\n",
    "        predicted = model(Variable(torch.from_numpy(x_train).cuda())).cpu().data.numpy()\n",
    "    else:\n",
    "        predicted = model(Variable(torch.from_numpy(x_train))).data.numpy()\n",
    "    print(predicted)"
   ]
  },
  {
   "cell_type": "code",
   "execution_count": 22,
   "metadata": {},
   "outputs": [
    {
     "data": {
      "image/png": "[encoded data removed]",
      "text/plain": [
       "<Figure size 432x288 with 1 Axes>"
      ]
     },
     "metadata": {
      "needs_background": "light"
     },
     "output_type": "display_data"
    }
   ],
   "source": [
    "plt.clf()\n",
    "plt.plot(x_train, y_train, 'go', label='True data', alpha=0.5)\n",
    "plt.plot(x_train, predicted, '--', label='Predictions', alpha=0.5)\n",
    "plt.legend(loc='best')\n",
    "plt.show()"
   ]
  },
  {
   "cell_type": "code",
   "execution_count": null,
   "metadata": {},
   "outputs": [],
   "source": []
  },
  {
   "cell_type": "code",
   "execution_count": 23,
   "metadata": {},
   "outputs": [
    {
     "data": {
      "text/plain": [
       "(0.0, 100.0)"
      ]
     },
     "execution_count": 23,
     "metadata": {},
     "output_type": "execute_result"
    },
    {
     "data": {
      "image/png": "[encoded data removed]",
      "text/plain": [
       "<Figure size 432x288 with 1 Axes>"
      ]
     },
     "metadata": {
      "needs_background": "light"
     },
     "output_type": "display_data"
    }
   ],
   "source": [
    "plt.plot(hs, train_losses, label='Train Loss')\n",
    "plt.plot(hs, test_losses, label='Test loss')\n",
    "plt.legend(loc='best')\n",
    "plt.xlim(0, 100)"
   ]
  },
  {
   "cell_type": "code",
   "execution_count": 24,
   "metadata": {},
   "outputs": [
    {
     "data": {
      "text/plain": [
       "(0.0, 100.0)"
      ]
     },
     "execution_count": 24,
     "metadata": {},
     "output_type": "execute_result"
    },
    {
     "data": {
      "image/png": "[encoded data removed]",
      "text/plain": [
       "<Figure size 432x288 with 1 Axes>"
      ]
     },
     "metadata": {
      "needs_background": "light"
     },
     "output_type": "display_data"
    }
   ],
   "source": [
    "plt.plot(hs, train_losses)\n",
    "plt.title('Train Loss')\n",
    "plt.xlim(0, 100)"
   ]
  },
  {
   "cell_type": "code",
   "execution_count": 25,
   "metadata": {},
   "outputs": [
    {
     "data": {
      "text/plain": [
       "(0.0, 100.0)"
      ]
     },
     "execution_count": 25,
     "metadata": {},
     "output_type": "execute_result"
    },
    {
     "data": {
      "image/png": "[encoded data removed]",
      "text/plain": [
       "<Figure size 432x288 with 1 Axes>"
      ]
     },
     "metadata": {
      "needs_background": "light"
     },
     "output_type": "display_data"
    }
   ],
   "source": [
    "plt.plot(hs, test_losses)\n",
    "plt.title('Test Loss')\n",
    "plt.xlim(0, 100)"
   ]
  },
  {
   "cell_type": "code",
   "execution_count": null,
   "metadata": {},
   "outputs": [],
   "source": []
  },
  {
   "cell_type": "code",
   "execution_count": null,
   "metadata": {},
   "outputs": [],
   "source": []
  },
  {
   "cell_type": "code",
   "execution_count": 51,
   "metadata": {},
   "outputs": [
    {
     "data": {
      "text/plain": [
       "[]"
      ]
     },
     "execution_count": 51,
     "metadata": {},
     "output_type": "execute_result"
    }
   ],
   "source": []
  },
  {
   "cell_type": "code",
   "execution_count": null,
   "metadata": {},
   "outputs": [],
   "source": []
  },
  {
   "cell_type": "code",
   "execution_count": null,
   "metadata": {},
   "outputs": [],
   "source": []
  }
 ],
 "metadata": {
  "kernelspec": {
   "display_name": "Python 3",
   "language": "python",
   "name": "python3"
  },
  "language_info": {
   "codemirror_mode": {
    "name": "ipython",
    "version": 3
   },
   "file_extension": ".py",
   "mimetype": "text/x-python",
   "name": "python",
   "nbconvert_exporter": "python",
   "pygments_lexer": "ipython3",
   "version": "3.8.3"
  }
 },
 "nbformat": 4,
 "nbformat_minor": 2
}
