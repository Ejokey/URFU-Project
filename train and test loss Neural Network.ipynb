{
 "cells": [
  {
   "cell_type": "markdown",
   "metadata": {},
   "source": [
    "# Exercise 2"
   ]
  },
  {
   "cell_type": "markdown",
   "metadata": {},
   "source": [
    "## Instructions \n",
    "\n",
    "1. Generate train and test data.\n",
    "2. Define a class NN of one-hidden neural net. The __init__ function takes 3 parameters (inputsize, hiddensize, outputsize).\n",
    "\n",
    "2. Define a list hidden_size = [2, ...., 33, ....128] with a step 5. Be sure that list contains 33, which corresponds to the case of interpolation threshold, i.e. the number of parameters equals to the number of training points.\n",
    "3. \n",
    "\n",
    "for h in hidden_size:\n",
    "    define model(inputsize, hiddensize, outputsize)\n",
    "    for e in epochs:\n",
    "        forward step: output = model(input)\n",
    "        compute loss \n",
    "        backpropagate loss (use backward)\n",
    "        \n",
    "    get train loss (after training): train_out = model(input)\n",
    "    train_loss = criterion(train_out, labels)\n",
    "    get test_loss: test_out = model(input)\n",
    "    test_loss = criterion(test_out, labels)\n",
    "       \n",
    "4. Plot saved list of train and test losses, x axis reveals each h, y axis is loss values.\n",
    "     "
   ]
  },
  {
   "cell_type": "code",
   "execution_count": 77,
   "metadata": {},
   "outputs": [],
   "source": [
    "import numpy as np\n",
    "from sklearn.linear_model import LinearRegression\n",
    "from sklearn.metrics import mean_squared_error\n",
    "from scipy.stats import multivariate_normal\n",
    "%matplotlib inline\n",
    "import matplotlib\n",
    "import matplotlib.pyplot as plt\n",
    "import csv\n",
    "import torch\n",
    "from torch.autograd import Variable\n",
    "import torch.nn as nn\n",
    "from sklearn import datasets\n",
    "from sklearn.model_selection import train_test_split\n",
    "\n",
    "np.random.seed(1234)"
   ]
  },
  {
   "cell_type": "code",
   "execution_count": 78,
   "metadata": {},
   "outputs": [],
   "source": [
    "x_values = np.random.normal(size = 200)\n",
    "x_vals = np.array(x_values, dtype=np.float32)\n",
    "r = np.random.normal(0, 3, size = 200)\n",
    "\n",
    "y_values = [3*i + 5 for i in x_values] + r\n",
    "y_vals = np.array(y_values, dtype=np.float32)\n"
   ]
  },
  {
   "cell_type": "code",
   "execution_count": 79,
   "metadata": {},
   "outputs": [],
   "source": [
    "x_train, x_test, y_train, y_test = (train_test_split(x_vals, y_vals, test_size=0.2))"
   ]
  },
  {
   "cell_type": "code",
   "execution_count": 80,
   "metadata": {},
   "outputs": [],
   "source": [
    "x_train = (x_train).reshape(-1, 1)\n",
    "x_test = (x_test).reshape(-1, 1)\n",
    "y_train = (y_train).reshape(-1, 1)\n",
    "y_test = (y_test).reshape(-1, 1)"
   ]
  },
  {
   "cell_type": "code",
   "execution_count": 81,
   "metadata": {},
   "outputs": [
    {
     "data": {
      "text/plain": [
       "(160, 1)"
      ]
     },
     "execution_count": 81,
     "metadata": {},
     "output_type": "execute_result"
    }
   ],
   "source": [
    "x_train.shape"
   ]
  },
  {
   "cell_type": "code",
   "execution_count": 82,
   "metadata": {},
   "outputs": [
    {
     "name": "stdout",
     "output_type": "stream",
     "text": [
      "(160, 1)\n",
      "(160, 1)\n"
     ]
    }
   ],
   "source": [
    "print(x_train.shape)\n",
    "print(y_train.shape)"
   ]
  },
  {
   "cell_type": "code",
   "execution_count": 83,
   "metadata": {},
   "outputs": [
    {
     "data": {
      "text/plain": [
       "<matplotlib.collections.PathCollection at 0x2227f507a60>"
      ]
     },
     "execution_count": 83,
     "metadata": {},
     "output_type": "execute_result"
    },
    {
     "data": {
      "image/png": "[encoded data removed]",
      "text/plain": [
       "<Figure size 432x288 with 1 Axes>"
      ]
     },
     "metadata": {
      "needs_background": "light"
     },
     "output_type": "display_data"
    }
   ],
   "source": [
    "plt.scatter(x_train, y_train)"
   ]
  },
  {
   "cell_type": "code",
   "execution_count": 84,
   "metadata": {},
   "outputs": [],
   "source": [
    "class NN(torch.nn.Module):\n",
    "    def __init__(self, inputSize, hiddenSize, outputSize):\n",
    "        super(NN, self).__init__()\n",
    "        self.linear = nn.Sequential(torch.nn.Linear(inputSize, hiddenSize),\n",
    "                                    torch.nn.Linear(hiddenSize, outputSize))\n",
    "                                    \n",
    "\n",
    "    def forward(self, x):\n",
    "        out = self.linear(x)\n",
    "        return out"
   ]
  },
  {
   "cell_type": "code",
   "execution_count": 85,
   "metadata": {},
   "outputs": [],
   "source": [
    "inputDim = 1\n",
    "hidden_sizes = 128\n",
    "outputDim = 1      \n",
    "learningRate = 0.001 \n",
    "epochs = 101\n",
    "\n"
   ]
  },
  {
   "cell_type": "code",
   "execution_count": 86,
   "metadata": {
    "scrolled": true
   },
   "outputs": [],
   "source": [
    "criterion = torch.nn.MSELoss() "
   ]
  },
  {
   "cell_type": "code",
   "execution_count": 87,
   "metadata": {},
   "outputs": [
    {
     "name": "stdout",
     "output_type": "stream",
     "text": [
      "h: 2 | epoch: 0, loss: 31.939983367919922\n",
      "h: 2 | epoch: 50, loss: 31.939983367919922\n",
      "h: 2 | epoch: 100, loss: 31.939983367919922\n",
      "h: 3 | epoch: 0, loss: 15.365534782409668\n",
      "h: 3 | epoch: 50, loss: 15.365534782409668\n",
      "h: 3 | epoch: 100, loss: 15.365534782409668\n",
      "h: 4 | epoch: 0, loss: 18.908344268798828\n",
      "h: 4 | epoch: 50, loss: 18.908344268798828\n",
      "h: 4 | epoch: 100, loss: 18.908344268798828\n",
      "h: 5 | epoch: 0, loss: 13.41929817199707\n",
      "h: 5 | epoch: 50, loss: 13.41929817199707\n",
      "h: 5 | epoch: 100, loss: 13.41929817199707\n",
      "h: 6 | epoch: 0, loss: 13.214320182800293\n",
      "h: 6 | epoch: 50, loss: 13.214320182800293\n",
      "h: 6 | epoch: 100, loss: 13.214320182800293\n",
      "h: 7 | epoch: 0, loss: 16.748470306396484\n",
      "h: 7 | epoch: 50, loss: 16.748470306396484\n",
      "h: 7 | epoch: 100, loss: 16.748470306396484\n",
      "h: 8 | epoch: 0, loss: 11.094555854797363\n",
      "h: 8 | epoch: 50, loss: 11.094555854797363\n",
      "h: 8 | epoch: 100, loss: 11.094555854797363\n",
      "h: 9 | epoch: 0, loss: 10.628715515136719\n",
      "h: 9 | epoch: 50, loss: 10.628715515136719\n",
      "h: 9 | epoch: 100, loss: 10.628715515136719\n",
      "h: 10 | epoch: 0, loss: 11.112502098083496\n",
      "h: 10 | epoch: 50, loss: 11.112502098083496\n",
      "h: 10 | epoch: 100, loss: 11.112502098083496\n",
      "h: 11 | epoch: 0, loss: 11.387048721313477\n",
      "h: 11 | epoch: 50, loss: 11.387048721313477\n",
      "h: 11 | epoch: 100, loss: 11.387048721313477\n",
      "h: 12 | epoch: 0, loss: 11.318437576293945\n",
      "h: 12 | epoch: 50, loss: 11.318437576293945\n",
      "h: 12 | epoch: 100, loss: 11.318437576293945\n",
      "h: 13 | epoch: 0, loss: 10.036160469055176\n",
      "h: 13 | epoch: 50, loss: 10.036160469055176\n",
      "h: 13 | epoch: 100, loss: 10.036160469055176\n",
      "h: 14 | epoch: 0, loss: 9.981298446655273\n",
      "h: 14 | epoch: 50, loss: 9.981298446655273\n",
      "h: 14 | epoch: 100, loss: 9.981298446655273\n",
      "h: 15 | epoch: 0, loss: 12.266861915588379\n",
      "h: 15 | epoch: 50, loss: 12.266861915588379\n",
      "h: 15 | epoch: 100, loss: 12.266861915588379\n",
      "h: 16 | epoch: 0, loss: 9.167537689208984\n",
      "h: 16 | epoch: 50, loss: 9.167537689208984\n",
      "h: 16 | epoch: 100, loss: 9.167537689208984\n",
      "h: 17 | epoch: 0, loss: 9.158268928527832\n",
      "h: 17 | epoch: 50, loss: 9.158268928527832\n",
      "h: 17 | epoch: 100, loss: 9.158268928527832\n",
      "h: 18 | epoch: 0, loss: 8.708002090454102\n",
      "h: 18 | epoch: 50, loss: 8.708002090454102\n",
      "h: 18 | epoch: 100, loss: 8.708002090454102\n",
      "h: 19 | epoch: 0, loss: 9.305559158325195\n",
      "h: 19 | epoch: 50, loss: 9.305559158325195\n",
      "h: 19 | epoch: 100, loss: 9.305559158325195\n",
      "h: 20 | epoch: 0, loss: 9.652058601379395\n",
      "h: 20 | epoch: 50, loss: 9.652058601379395\n",
      "h: 20 | epoch: 100, loss: 9.652058601379395\n",
      "h: 21 | epoch: 0, loss: 9.447134971618652\n",
      "h: 21 | epoch: 50, loss: 9.447134971618652\n",
      "h: 21 | epoch: 100, loss: 9.447134971618652\n",
      "h: 22 | epoch: 0, loss: 9.430013656616211\n",
      "h: 22 | epoch: 50, loss: 9.430013656616211\n",
      "h: 22 | epoch: 100, loss: 9.430013656616211\n",
      "h: 23 | epoch: 0, loss: 8.97434139251709\n",
      "h: 23 | epoch: 50, loss: 8.97434139251709\n",
      "h: 23 | epoch: 100, loss: 8.97434139251709\n",
      "h: 24 | epoch: 0, loss: 9.500001907348633\n",
      "h: 24 | epoch: 50, loss: 9.500001907348633\n",
      "h: 24 | epoch: 100, loss: 9.500001907348633\n",
      "h: 25 | epoch: 0, loss: 8.99205207824707\n",
      "h: 25 | epoch: 50, loss: 8.99205207824707\n",
      "h: 25 | epoch: 100, loss: 8.99205207824707\n",
      "h: 26 | epoch: 0, loss: 8.897292137145996\n",
      "h: 26 | epoch: 50, loss: 8.897292137145996\n",
      "h: 26 | epoch: 100, loss: 8.897292137145996\n",
      "h: 27 | epoch: 0, loss: 8.829156875610352\n",
      "h: 27 | epoch: 50, loss: 8.829156875610352\n",
      "h: 27 | epoch: 100, loss: 8.829156875610352\n",
      "h: 28 | epoch: 0, loss: 8.6162109375\n",
      "h: 28 | epoch: 50, loss: 8.6162109375\n",
      "h: 28 | epoch: 100, loss: 8.6162109375\n",
      "h: 29 | epoch: 0, loss: 9.079301834106445\n",
      "h: 29 | epoch: 50, loss: 9.079301834106445\n",
      "h: 29 | epoch: 100, loss: 9.079301834106445\n",
      "h: 30 | epoch: 0, loss: 8.777496337890625\n",
      "h: 30 | epoch: 50, loss: 8.777496337890625\n",
      "h: 30 | epoch: 100, loss: 8.777496337890625\n",
      "h: 31 | epoch: 0, loss: 9.888653755187988\n",
      "h: 31 | epoch: 50, loss: 9.888653755187988\n",
      "h: 31 | epoch: 100, loss: 9.888653755187988\n",
      "h: 32 | epoch: 0, loss: 8.611355781555176\n",
      "h: 32 | epoch: 50, loss: 8.611355781555176\n",
      "h: 32 | epoch: 100, loss: 8.611355781555176\n",
      "h: 33 | epoch: 0, loss: 8.682500839233398\n",
      "h: 33 | epoch: 50, loss: 8.682500839233398\n",
      "h: 33 | epoch: 100, loss: 8.682500839233398\n",
      "h: 34 | epoch: 0, loss: 8.839394569396973\n",
      "h: 34 | epoch: 50, loss: 8.839394569396973\n",
      "h: 34 | epoch: 100, loss: 8.839394569396973\n",
      "h: 35 | epoch: 0, loss: 8.61385726928711\n",
      "h: 35 | epoch: 50, loss: 8.61385726928711\n",
      "h: 35 | epoch: 100, loss: 8.61385726928711\n",
      "h: 36 | epoch: 0, loss: 8.566292762756348\n",
      "h: 36 | epoch: 50, loss: 8.566292762756348\n",
      "h: 36 | epoch: 100, loss: 8.566292762756348\n",
      "h: 37 | epoch: 0, loss: 8.632878303527832\n",
      "h: 37 | epoch: 50, loss: 8.632878303527832\n",
      "h: 37 | epoch: 100, loss: 8.632878303527832\n",
      "h: 38 | epoch: 0, loss: 8.56558609008789\n",
      "h: 38 | epoch: 50, loss: 8.56558609008789\n",
      "h: 38 | epoch: 100, loss: 8.56558609008789\n",
      "h: 39 | epoch: 0, loss: 8.606245040893555\n",
      "h: 39 | epoch: 50, loss: 8.606245040893555\n",
      "h: 39 | epoch: 100, loss: 8.606245040893555\n",
      "h: 40 | epoch: 0, loss: 8.808073043823242\n",
      "h: 40 | epoch: 50, loss: 8.808073043823242\n",
      "h: 40 | epoch: 100, loss: 8.808073043823242\n",
      "h: 41 | epoch: 0, loss: 8.655145645141602\n",
      "h: 41 | epoch: 50, loss: 8.655145645141602\n",
      "h: 41 | epoch: 100, loss: 8.655145645141602\n",
      "h: 42 | epoch: 0, loss: 8.672187805175781\n",
      "h: 42 | epoch: 50, loss: 8.672187805175781\n",
      "h: 42 | epoch: 100, loss: 8.672187805175781\n",
      "h: 43 | epoch: 0, loss: 8.597458839416504\n",
      "h: 43 | epoch: 50, loss: 8.597458839416504\n",
      "h: 43 | epoch: 100, loss: 8.597458839416504\n",
      "h: 44 | epoch: 0, loss: 8.551053047180176\n",
      "h: 44 | epoch: 50, loss: 8.551053047180176\n",
      "h: 44 | epoch: 100, loss: 8.551053047180176\n",
      "h: 45 | epoch: 0, loss: 8.57124137878418\n",
      "h: 45 | epoch: 50, loss: 8.57124137878418\n",
      "h: 45 | epoch: 100, loss: 8.57124137878418\n",
      "h: 46 | epoch: 0, loss: 8.584165573120117\n",
      "h: 46 | epoch: 50, loss: 8.584165573120117\n",
      "h: 46 | epoch: 100, loss: 8.584165573120117\n",
      "h: 47 | epoch: 0, loss: 8.561830520629883\n",
      "h: 47 | epoch: 50, loss: 8.561830520629883\n",
      "h: 47 | epoch: 100, loss: 8.561830520629883\n",
      "h: 48 | epoch: 0, loss: 8.552519798278809\n",
      "h: 48 | epoch: 50, loss: 8.552519798278809\n",
      "h: 48 | epoch: 100, loss: 8.552519798278809\n",
      "h: 49 | epoch: 0, loss: 8.560111999511719\n",
      "h: 49 | epoch: 50, loss: 8.560111999511719\n",
      "h: 49 | epoch: 100, loss: 8.560111999511719\n",
      "h: 50 | epoch: 0, loss: 8.577202796936035\n",
      "h: 50 | epoch: 50, loss: 8.577202796936035\n",
      "h: 50 | epoch: 100, loss: 8.577202796936035\n",
      "h: 51 | epoch: 0, loss: 8.564549446105957\n",
      "h: 51 | epoch: 50, loss: 8.564549446105957\n",
      "h: 51 | epoch: 100, loss: 8.564549446105957\n",
      "h: 52 | epoch: 0, loss: 8.571187973022461\n",
      "h: 52 | epoch: 50, loss: 8.571187973022461\n",
      "h: 52 | epoch: 100, loss: 8.571187973022461\n",
      "h: 53 | epoch: 0, loss: 8.552412033081055\n",
      "h: 53 | epoch: 50, loss: 8.552412033081055\n",
      "h: 53 | epoch: 100, loss: 8.552412033081055\n",
      "h: 54 | epoch: 0, loss: 8.552716255187988\n",
      "h: 54 | epoch: 50, loss: 8.552716255187988\n",
      "h: 54 | epoch: 100, loss: 8.552716255187988\n",
      "h: 55 | epoch: 0, loss: 8.553131103515625\n",
      "h: 55 | epoch: 50, loss: 8.553131103515625\n",
      "h: 55 | epoch: 100, loss: 8.553131103515625\n",
      "h: 56 | epoch: 0, loss: 8.55562686920166\n",
      "h: 56 | epoch: 50, loss: 8.55562686920166\n",
      "h: 56 | epoch: 100, loss: 8.55562686920166\n",
      "h: 57 | epoch: 0, loss: 8.566142082214355\n",
      "h: 57 | epoch: 50, loss: 8.566142082214355\n",
      "h: 57 | epoch: 100, loss: 8.566142082214355\n",
      "h: 58 | epoch: 0, loss: 8.551324844360352\n",
      "h: 58 | epoch: 50, loss: 8.551324844360352\n",
      "h: 58 | epoch: 100, loss: 8.551324844360352\n",
      "h: 59 | epoch: 0, loss: 8.569252967834473\n",
      "h: 59 | epoch: 50, loss: 8.569252967834473\n",
      "h: 59 | epoch: 100, loss: 8.569252967834473\n",
      "h: 60 | epoch: 0, loss: 8.550532341003418\n",
      "h: 60 | epoch: 50, loss: 8.550532341003418\n",
      "h: 60 | epoch: 100, loss: 8.550532341003418\n",
      "h: 61 | epoch: 0, loss: 8.555280685424805\n",
      "h: 61 | epoch: 50, loss: 8.555280685424805\n",
      "h: 61 | epoch: 100, loss: 8.555280685424805\n",
      "h: 62 | epoch: 0, loss: 8.552101135253906\n",
      "h: 62 | epoch: 50, loss: 8.552101135253906\n",
      "h: 62 | epoch: 100, loss: 8.552101135253906\n",
      "h: 63 | epoch: 0, loss: 8.572667121887207\n",
      "h: 63 | epoch: 50, loss: 8.572667121887207\n",
      "h: 63 | epoch: 100, loss: 8.572667121887207\n",
      "h: 64 | epoch: 0, loss: 8.55023193359375\n",
      "h: 64 | epoch: 50, loss: 8.55023193359375\n",
      "h: 64 | epoch: 100, loss: 8.55023193359375\n",
      "h: 65 | epoch: 0, loss: 8.551102638244629\n",
      "h: 65 | epoch: 50, loss: 8.551102638244629\n",
      "h: 65 | epoch: 100, loss: 8.551102638244629\n",
      "h: 66 | epoch: 0, loss: 8.559463500976562\n"
     ]
    },
    {
     "name": "stdout",
     "output_type": "stream",
     "text": [
      "h: 66 | epoch: 50, loss: 8.559463500976562\n",
      "h: 66 | epoch: 100, loss: 8.559463500976562\n",
      "h: 67 | epoch: 0, loss: 8.550897598266602\n",
      "h: 67 | epoch: 50, loss: 8.550897598266602\n",
      "h: 67 | epoch: 100, loss: 8.550897598266602\n",
      "h: 68 | epoch: 0, loss: 8.551054000854492\n",
      "h: 68 | epoch: 50, loss: 8.551054000854492\n",
      "h: 68 | epoch: 100, loss: 8.551054000854492\n",
      "h: 69 | epoch: 0, loss: 8.55237102508545\n",
      "h: 69 | epoch: 50, loss: 8.55237102508545\n",
      "h: 69 | epoch: 100, loss: 8.55237102508545\n",
      "h: 70 | epoch: 0, loss: 8.549725532531738\n",
      "h: 70 | epoch: 50, loss: 8.549725532531738\n",
      "h: 70 | epoch: 100, loss: 8.549725532531738\n",
      "h: 71 | epoch: 0, loss: 8.551214218139648\n",
      "h: 71 | epoch: 50, loss: 8.551214218139648\n",
      "h: 71 | epoch: 100, loss: 8.551214218139648\n",
      "h: 72 | epoch: 0, loss: 8.554049491882324\n",
      "h: 72 | epoch: 50, loss: 8.554049491882324\n",
      "h: 72 | epoch: 100, loss: 8.554049491882324\n",
      "h: 73 | epoch: 0, loss: 8.549886703491211\n",
      "h: 73 | epoch: 50, loss: 8.549886703491211\n",
      "h: 73 | epoch: 100, loss: 8.549886703491211\n",
      "h: 74 | epoch: 0, loss: 8.5524263381958\n",
      "h: 74 | epoch: 50, loss: 8.5524263381958\n",
      "h: 74 | epoch: 100, loss: 8.5524263381958\n",
      "h: 75 | epoch: 0, loss: 8.550004959106445\n",
      "h: 75 | epoch: 50, loss: 8.550004959106445\n",
      "h: 75 | epoch: 100, loss: 8.550004959106445\n",
      "h: 76 | epoch: 0, loss: 8.554719924926758\n",
      "h: 76 | epoch: 50, loss: 8.554719924926758\n",
      "h: 76 | epoch: 100, loss: 8.554719924926758\n",
      "h: 77 | epoch: 0, loss: 8.549896240234375\n",
      "h: 77 | epoch: 50, loss: 8.549896240234375\n",
      "h: 77 | epoch: 100, loss: 8.549896240234375\n",
      "h: 78 | epoch: 0, loss: 8.549591064453125\n",
      "h: 78 | epoch: 50, loss: 8.549591064453125\n",
      "h: 78 | epoch: 100, loss: 8.549591064453125\n",
      "h: 79 | epoch: 0, loss: 8.549684524536133\n",
      "h: 79 | epoch: 50, loss: 8.549684524536133\n",
      "h: 79 | epoch: 100, loss: 8.549684524536133\n",
      "h: 80 | epoch: 0, loss: 8.549871444702148\n",
      "h: 80 | epoch: 50, loss: 8.549871444702148\n",
      "h: 80 | epoch: 100, loss: 8.549871444702148\n",
      "h: 81 | epoch: 0, loss: 8.54987907409668\n",
      "h: 81 | epoch: 50, loss: 8.54987907409668\n",
      "h: 81 | epoch: 100, loss: 8.54987907409668\n",
      "h: 82 | epoch: 0, loss: 8.549827575683594\n",
      "h: 82 | epoch: 50, loss: 8.549827575683594\n",
      "h: 82 | epoch: 100, loss: 8.549827575683594\n",
      "h: 83 | epoch: 0, loss: 8.550028800964355\n",
      "h: 83 | epoch: 50, loss: 8.550028800964355\n",
      "h: 83 | epoch: 100, loss: 8.550028800964355\n",
      "h: 84 | epoch: 0, loss: 8.550141334533691\n",
      "h: 84 | epoch: 50, loss: 8.550141334533691\n",
      "h: 84 | epoch: 100, loss: 8.550141334533691\n",
      "h: 85 | epoch: 0, loss: 8.550203323364258\n",
      "h: 85 | epoch: 50, loss: 8.550203323364258\n",
      "h: 85 | epoch: 100, loss: 8.550203323364258\n",
      "h: 86 | epoch: 0, loss: 8.549686431884766\n",
      "h: 86 | epoch: 50, loss: 8.549686431884766\n",
      "h: 86 | epoch: 100, loss: 8.549686431884766\n",
      "h: 87 | epoch: 0, loss: 8.550024032592773\n",
      "h: 87 | epoch: 50, loss: 8.550024032592773\n",
      "h: 87 | epoch: 100, loss: 8.550024032592773\n",
      "h: 88 | epoch: 0, loss: 8.549638748168945\n",
      "h: 88 | epoch: 50, loss: 8.549638748168945\n",
      "h: 88 | epoch: 100, loss: 8.549638748168945\n",
      "h: 89 | epoch: 0, loss: 8.54967212677002\n",
      "h: 89 | epoch: 50, loss: 8.54967212677002\n",
      "h: 89 | epoch: 100, loss: 8.54967212677002\n",
      "h: 90 | epoch: 0, loss: 8.550046920776367\n",
      "h: 90 | epoch: 50, loss: 8.550046920776367\n",
      "h: 90 | epoch: 100, loss: 8.550046920776367\n",
      "h: 91 | epoch: 0, loss: 8.549646377563477\n",
      "h: 91 | epoch: 50, loss: 8.549646377563477\n",
      "h: 91 | epoch: 100, loss: 8.549646377563477\n",
      "h: 92 | epoch: 0, loss: 8.549636840820312\n",
      "h: 92 | epoch: 50, loss: 8.549636840820312\n",
      "h: 92 | epoch: 100, loss: 8.549636840820312\n",
      "h: 93 | epoch: 0, loss: 8.549581527709961\n",
      "h: 93 | epoch: 50, loss: 8.549581527709961\n",
      "h: 93 | epoch: 100, loss: 8.549581527709961\n",
      "h: 94 | epoch: 0, loss: 8.549592018127441\n",
      "h: 94 | epoch: 50, loss: 8.549592018127441\n",
      "h: 94 | epoch: 100, loss: 8.549592018127441\n",
      "h: 95 | epoch: 0, loss: 8.549739837646484\n",
      "h: 95 | epoch: 50, loss: 8.549739837646484\n",
      "h: 95 | epoch: 100, loss: 8.549739837646484\n",
      "h: 96 | epoch: 0, loss: 8.549577713012695\n",
      "h: 96 | epoch: 50, loss: 8.549577713012695\n",
      "h: 96 | epoch: 100, loss: 8.549577713012695\n",
      "h: 97 | epoch: 0, loss: 8.549617767333984\n",
      "h: 97 | epoch: 50, loss: 8.549617767333984\n",
      "h: 97 | epoch: 100, loss: 8.549617767333984\n",
      "h: 98 | epoch: 0, loss: 8.549607276916504\n",
      "h: 98 | epoch: 50, loss: 8.549607276916504\n",
      "h: 98 | epoch: 100, loss: 8.549607276916504\n",
      "h: 99 | epoch: 0, loss: 8.54964542388916\n",
      "h: 99 | epoch: 50, loss: 8.54964542388916\n",
      "h: 99 | epoch: 100, loss: 8.54964542388916\n",
      "h: 100 | epoch: 0, loss: 8.549604415893555\n",
      "h: 100 | epoch: 50, loss: 8.549604415893555\n",
      "h: 100 | epoch: 100, loss: 8.549604415893555\n",
      "h: 101 | epoch: 0, loss: 8.549702644348145\n",
      "h: 101 | epoch: 50, loss: 8.549702644348145\n",
      "h: 101 | epoch: 100, loss: 8.549702644348145\n",
      "h: 102 | epoch: 0, loss: 8.549599647521973\n",
      "h: 102 | epoch: 50, loss: 8.549599647521973\n",
      "h: 102 | epoch: 100, loss: 8.549599647521973\n",
      "h: 103 | epoch: 0, loss: 8.549581527709961\n",
      "h: 103 | epoch: 50, loss: 8.549581527709961\n",
      "h: 103 | epoch: 100, loss: 8.549581527709961\n",
      "h: 104 | epoch: 0, loss: 8.549576759338379\n",
      "h: 104 | epoch: 50, loss: 8.549576759338379\n",
      "h: 104 | epoch: 100, loss: 8.549576759338379\n",
      "h: 105 | epoch: 0, loss: 8.549577713012695\n",
      "h: 105 | epoch: 50, loss: 8.549577713012695\n",
      "h: 105 | epoch: 100, loss: 8.549577713012695\n",
      "h: 106 | epoch: 0, loss: 8.549576759338379\n",
      "h: 106 | epoch: 50, loss: 8.549576759338379\n",
      "h: 106 | epoch: 100, loss: 8.549576759338379\n",
      "h: 107 | epoch: 0, loss: 8.549580574035645\n",
      "h: 107 | epoch: 50, loss: 8.549580574035645\n",
      "h: 107 | epoch: 100, loss: 8.549580574035645\n",
      "h: 108 | epoch: 0, loss: 8.549576759338379\n",
      "h: 108 | epoch: 50, loss: 8.549576759338379\n",
      "h: 108 | epoch: 100, loss: 8.549576759338379\n",
      "h: 109 | epoch: 0, loss: 8.549727439880371\n",
      "h: 109 | epoch: 50, loss: 8.549727439880371\n",
      "h: 109 | epoch: 100, loss: 8.549727439880371\n",
      "h: 110 | epoch: 0, loss: 8.549583435058594\n",
      "h: 110 | epoch: 50, loss: 8.549583435058594\n",
      "h: 110 | epoch: 100, loss: 8.549583435058594\n",
      "h: 111 | epoch: 0, loss: 8.549577713012695\n",
      "h: 111 | epoch: 50, loss: 8.549577713012695\n",
      "h: 111 | epoch: 100, loss: 8.549577713012695\n",
      "h: 112 | epoch: 0, loss: 8.549589157104492\n",
      "h: 112 | epoch: 50, loss: 8.549589157104492\n",
      "h: 112 | epoch: 100, loss: 8.549589157104492\n",
      "h: 113 | epoch: 0, loss: 8.54957389831543\n",
      "h: 113 | epoch: 50, loss: 8.54957389831543\n",
      "h: 113 | epoch: 100, loss: 8.54957389831543\n",
      "h: 114 | epoch: 0, loss: 8.549589157104492\n",
      "h: 114 | epoch: 50, loss: 8.549589157104492\n",
      "h: 114 | epoch: 100, loss: 8.549589157104492\n",
      "h: 115 | epoch: 0, loss: 8.549577713012695\n",
      "h: 115 | epoch: 50, loss: 8.549577713012695\n",
      "h: 115 | epoch: 100, loss: 8.549577713012695\n",
      "h: 116 | epoch: 0, loss: 8.549590110778809\n",
      "h: 116 | epoch: 50, loss: 8.549590110778809\n",
      "h: 116 | epoch: 100, loss: 8.549590110778809\n",
      "h: 117 | epoch: 0, loss: 8.54957389831543\n",
      "h: 117 | epoch: 50, loss: 8.54957389831543\n",
      "h: 117 | epoch: 100, loss: 8.54957389831543\n",
      "h: 118 | epoch: 0, loss: 8.549575805664062\n",
      "h: 118 | epoch: 50, loss: 8.549575805664062\n",
      "h: 118 | epoch: 100, loss: 8.549575805664062\n",
      "h: 119 | epoch: 0, loss: 8.549572944641113\n",
      "h: 119 | epoch: 50, loss: 8.549572944641113\n",
      "h: 119 | epoch: 100, loss: 8.549572944641113\n",
      "h: 120 | epoch: 0, loss: 8.549589157104492\n",
      "h: 120 | epoch: 50, loss: 8.549589157104492\n",
      "h: 120 | epoch: 100, loss: 8.549589157104492\n",
      "h: 121 | epoch: 0, loss: 8.54957389831543\n",
      "h: 121 | epoch: 50, loss: 8.54957389831543\n",
      "h: 121 | epoch: 100, loss: 8.54957389831543\n",
      "h: 122 | epoch: 0, loss: 8.549572944641113\n",
      "h: 122 | epoch: 50, loss: 8.549572944641113\n",
      "h: 122 | epoch: 100, loss: 8.549572944641113\n",
      "h: 123 | epoch: 0, loss: 8.549578666687012\n",
      "h: 123 | epoch: 50, loss: 8.549578666687012\n",
      "h: 123 | epoch: 100, loss: 8.549578666687012\n",
      "h: 124 | epoch: 0, loss: 8.54957389831543\n",
      "h: 124 | epoch: 50, loss: 8.54957389831543\n",
      "h: 124 | epoch: 100, loss: 8.54957389831543\n",
      "h: 125 | epoch: 0, loss: 8.549572944641113\n",
      "h: 125 | epoch: 50, loss: 8.549572944641113\n",
      "h: 125 | epoch: 100, loss: 8.549572944641113\n",
      "h: 126 | epoch: 0, loss: 8.54957389831543\n",
      "h: 126 | epoch: 50, loss: 8.54957389831543\n",
      "h: 126 | epoch: 100, loss: 8.54957389831543\n",
      "h: 127 | epoch: 0, loss: 8.54957389831543\n",
      "h: 127 | epoch: 50, loss: 8.54957389831543\n",
      "h: 127 | epoch: 100, loss: 8.54957389831543\n"
     ]
    }
   ],
   "source": [
    "#!!! Note that training in the code below done outside of epoch loop.\n",
    "hs = []\n",
    "train_losses = []\n",
    "test_losses = []\n",
    "for h in range(2, hidden_sizes, 1):\n",
    "    hs.append(h)\n",
    "    model = NN(inputDim, h, outputDim)\n",
    "    optimizer = torch.optim.SGD(model.parameters(), lr=learningRate)\n",
    "    for epoch in range(epochs):\n",
    "        if torch.cuda.is_available():\n",
    "            inputs_train = Variable(torch.from_numpy(x_train).cuda())\n",
    "            labels_train = Variable(torch.from_numpy(y_train).cuda())\n",
    "        else:\n",
    "            inputs_train = Variable(torch.from_numpy(x_train))\n",
    "            labels_train = Variable(torch.from_numpy(y_train))\n",
    "        if torch.cuda.is_available():\n",
    "            inputs_test = Variable(torch.from_numpy(x_test).cuda())\n",
    "            labels_test = Variable(torch.from_numpy(y_test).cuda())\n",
    "        else:\n",
    "            inputs_test = Variable(torch.from_numpy(x_test))\n",
    "            labels_test = Variable(torch.from_numpy(y_test))\n",
    "        optimizer.zero_grad()\n",
    "        outputs = model(inputs_train)\n",
    "        loss = criterion(outputs, labels_train)\n",
    "        loss.backward()\n",
    "        optimizer.step()\n",
    "    for epoch in range(0, epochs, 50):\n",
    "        print('h: {} | epoch: {}, loss: {}'.format(h, epoch, loss.item()))  \n",
    "    outputs_train = model(inputs_train)\n",
    "    train_loss = criterion(inputs_train, labels_train)\n",
    "    train_losses.append(train_loss)\n",
    "    outputs_test = model(inputs_test)\n",
    "    test_loss = criterion(inputs_test, labels_test)\n",
    "    test_losses.append(test_loss)"
   ]
  },
  {
   "cell_type": "code",
   "execution_count": 88,
   "metadata": {
    "scrolled": true
   },
   "outputs": [
    {
     "name": "stdout",
     "output_type": "stream",
     "text": [
      "[[ 8.7539015 ]\n",
      " [ 3.192394  ]\n",
      " [ 4.0467696 ]\n",
      " [ 5.9258676 ]\n",
      " [ 7.9749913 ]\n",
      " [ 0.69172513]\n",
      " [ 8.885546  ]\n",
      " [ 4.986133  ]\n",
      " [ 6.382226  ]\n",
      " [ 6.765833  ]\n",
      " [ 3.4695497 ]\n",
      " [ 3.3048356 ]\n",
      " [ 7.5898333 ]\n",
      " [ 3.9317024 ]\n",
      " [ 4.751627  ]\n",
      " [ 3.1399674 ]\n",
      " [ 7.976969  ]\n",
      " [ 9.1871605 ]\n",
      " [ 7.0144515 ]\n",
      " [ 4.0340247 ]\n",
      " [ 1.5261338 ]\n",
      " [ 0.4044057 ]\n",
      " [ 5.652167  ]\n",
      " [ 3.5422895 ]\n",
      " [ 1.1344388 ]\n",
      " [ 4.050249  ]\n",
      " [ 4.7123847 ]\n",
      " [ 8.141877  ]\n",
      " [ 5.1618915 ]\n",
      " [ 7.043793  ]\n",
      " [ 1.3338617 ]\n",
      " [ 6.218323  ]\n",
      " [ 5.645574  ]\n",
      " [ 8.6246605 ]\n",
      " [ 2.8904545 ]\n",
      " [ 2.991771  ]\n",
      " [-0.14754122]\n",
      " [ 8.495579  ]\n",
      " [ 7.468     ]\n",
      " [ 6.676128  ]\n",
      " [ 7.2093954 ]\n",
      " [ 6.7428727 ]\n",
      " [ 5.8969035 ]\n",
      " [ 6.5638833 ]\n",
      " [ 7.1408744 ]\n",
      " [ 7.649406  ]\n",
      " [-0.489692  ]\n",
      " [ 7.3398128 ]\n",
      " [ 8.109075  ]\n",
      " [ 4.0968757 ]\n",
      " [ 5.9285083 ]\n",
      " [ 3.0169647 ]\n",
      " [-0.29273298]\n",
      " [ 6.4108987 ]\n",
      " [10.7415285 ]\n",
      " [ 2.9186628 ]\n",
      " [ 6.2976894 ]\n",
      " [ 4.6437025 ]\n",
      " [ 9.000072  ]\n",
      " [ 7.213867  ]\n",
      " [ 0.4004282 ]\n",
      " [ 5.5308995 ]\n",
      " [ 7.5880337 ]\n",
      " [ 4.4137907 ]\n",
      " [ 6.3791623 ]\n",
      " [ 4.8796277 ]\n",
      " [ 5.3575377 ]\n",
      " [ 4.239911  ]\n",
      " [ 2.2270331 ]\n",
      " [ 8.423212  ]\n",
      " [ 4.23417   ]\n",
      " [ 7.5220494 ]\n",
      " [-0.74597967]\n",
      " [ 4.767444  ]\n",
      " [ 4.449732  ]\n",
      " [ 2.5372407 ]\n",
      " [10.531816  ]\n",
      " [ 1.4076599 ]\n",
      " [ 1.4617537 ]\n",
      " [ 7.1491866 ]\n",
      " [ 3.8980424 ]\n",
      " [ 7.389014  ]\n",
      " [ 5.962543  ]\n",
      " [ 5.9848022 ]\n",
      " [ 6.2718954 ]\n",
      " [ 2.7796586 ]\n",
      " [ 6.623958  ]\n",
      " [ 7.2183695 ]\n",
      " [ 6.729954  ]\n",
      " [ 2.0963774 ]\n",
      " [ 3.7127788 ]\n",
      " [ 5.3208423 ]\n",
      " [ 4.5069933 ]\n",
      " [ 8.885689  ]\n",
      " [ 6.0944867 ]\n",
      " [ 7.891578  ]\n",
      " [ 4.4427295 ]\n",
      " [ 7.7127705 ]\n",
      " [ 3.7842357 ]\n",
      " [ 4.152737  ]\n",
      " [ 7.995958  ]\n",
      " [ 4.9454145 ]\n",
      " [ 7.8892922 ]\n",
      " [ 6.1021304 ]\n",
      " [ 3.7155435 ]\n",
      " [ 3.6456983 ]\n",
      " [ 6.8462353 ]\n",
      " [ 1.6732657 ]\n",
      " [ 5.7276177 ]\n",
      " [ 5.275248  ]\n",
      " [ 1.8527844 ]\n",
      " [ 4.8227687 ]\n",
      " [ 6.227079  ]\n",
      " [-1.1723667 ]\n",
      " [ 2.42606   ]\n",
      " [ 5.4127946 ]\n",
      " [ 2.4732199 ]\n",
      " [ 7.638247  ]\n",
      " [ 9.492426  ]\n",
      " [ 3.5948439 ]\n",
      " [ 5.837859  ]\n",
      " [ 6.147436  ]\n",
      " [ 8.586309  ]\n",
      " [ 8.14631   ]\n",
      " [ 1.3975075 ]\n",
      " [ 5.1250024 ]\n",
      " [ 6.49415   ]\n",
      " [ 7.3567047 ]\n",
      " [ 5.3645453 ]\n",
      " [ 5.042375  ]\n",
      " [-0.32053733]\n",
      " [10.803041  ]\n",
      " [ 5.8191385 ]\n",
      " [ 1.9663929 ]\n",
      " [ 1.5059766 ]\n",
      " [11.70886   ]\n",
      " [ 7.154663  ]\n",
      " [ 5.723823  ]\n",
      " [ 6.5892215 ]\n",
      " [ 7.9856653 ]\n",
      " [ 2.199932  ]\n",
      " [ 4.470142  ]\n",
      " [ 3.8270535 ]\n",
      " [ 4.1948733 ]\n",
      " [ 7.718161  ]\n",
      " [ 5.2191396 ]\n",
      " [ 0.6251503 ]\n",
      " [ 7.2197003 ]\n",
      " [ 8.877563  ]\n",
      " [11.054623  ]\n",
      " [11.776944  ]\n",
      " [ 5.421904  ]\n",
      " [ 6.096419  ]\n",
      " [ 5.759776  ]\n",
      " [ 9.160889  ]\n",
      " [ 4.412237  ]\n",
      " [ 8.984709  ]\n",
      " [ 2.838991  ]\n",
      " [ 4.0196924 ]\n",
      " [ 6.844085  ]]\n"
     ]
    }
   ],
   "source": [
    "with torch.no_grad(): \n",
    "    if torch.cuda.is_available():\n",
    "        predicted = model(Variable(torch.from_numpy(x_train).cuda())).cpu().data.numpy()\n",
    "    else:\n",
    "        predicted = model(Variable(torch.from_numpy(x_train))).data.numpy()\n",
    "    print(predicted)"
   ]
  },
  {
   "cell_type": "code",
   "execution_count": 89,
   "metadata": {},
   "outputs": [
    {
     "data": {
      "image/png": "[encoded data removed]",
      "text/plain": [
       "<Figure size 432x288 with 1 Axes>"
      ]
     },
     "metadata": {
      "needs_background": "light"
     },
     "output_type": "display_data"
    }
   ],
   "source": [
    "plt.clf()\n",
    "plt.plot(x_train, y_train, 'go', label='True data', alpha=0.5)\n",
    "plt.plot(x_train, predicted, '--', label='Predictions', alpha=0.5)\n",
    "plt.legend(loc='best')\n",
    "plt.show()"
   ]
  },
  {
   "cell_type": "code",
   "execution_count": null,
   "metadata": {},
   "outputs": [],
   "source": []
  },
  {
   "cell_type": "code",
   "execution_count": 90,
   "metadata": {},
   "outputs": [
    {
     "data": {
      "text/plain": [
       "(0.0, 100.0)"
      ]
     },
     "execution_count": 90,
     "metadata": {},
     "output_type": "execute_result"
    },
    {
     "data": {
      "image/png": "[encoded data removed]",
      "text/plain": [
       "<Figure size 432x288 with 1 Axes>"
      ]
     },
     "metadata": {
      "needs_background": "light"
     },
     "output_type": "display_data"
    }
   ],
   "source": [
    "plt.plot(hs, train_losses, label='Train Loss')\n",
    "plt.plot(hs, test_losses, label='Test loss')\n",
    "plt.legend(loc='best')\n",
    "plt.xlim(0, 100)"
   ]
  },
  {
   "cell_type": "code",
   "execution_count": 91,
   "metadata": {},
   "outputs": [
    {
     "data": {
      "text/plain": [
       "(0.0, 100.0)"
      ]
     },
     "execution_count": 91,
     "metadata": {},
     "output_type": "execute_result"
    },
    {
     "data": {
      "image/png": "[encoded data removed]",
      "text/plain": [
       "<Figure size 432x288 with 1 Axes>"
      ]
     },
     "metadata": {
      "needs_background": "light"
     },
     "output_type": "display_data"
    }
   ],
   "source": [
    "plt.plot(hs, train_losses)\n",
    "plt.title('Train Loss')\n",
    "plt.xlim(0, 100)"
   ]
  },
  {
   "cell_type": "code",
   "execution_count": 92,
   "metadata": {},
   "outputs": [
    {
     "data": {
      "text/plain": [
       "(0.0, 100.0)"
      ]
     },
     "execution_count": 92,
     "metadata": {},
     "output_type": "execute_result"
    },
    {
     "data": {
      "image/png": "[encoded data removed]",
      "text/plain": [
       "<Figure size 432x288 with 1 Axes>"
      ]
     },
     "metadata": {
      "needs_background": "light"
     },
     "output_type": "display_data"
    }
   ],
   "source": [
    "plt.plot(hs, test_losses)\n",
    "plt.title('Test Loss')\n",
    "plt.xlim(0, 100)"
   ]
  },
  {
   "cell_type": "code",
   "execution_count": null,
   "metadata": {},
   "outputs": [],
   "source": []
  },
  {
   "cell_type": "code",
   "execution_count": null,
   "metadata": {},
   "outputs": [],
   "source": []
  },
  {
   "cell_type": "code",
   "execution_count": 51,
   "metadata": {},
   "outputs": [
    {
     "data": {
      "text/plain": [
       "[]"
      ]
     },
     "execution_count": 51,
     "metadata": {},
     "output_type": "execute_result"
    }
   ],
   "source": []
  },
  {
   "cell_type": "code",
   "execution_count": null,
   "metadata": {},
   "outputs": [],
   "source": []
  },
  {
   "cell_type": "code",
   "execution_count": null,
   "metadata": {},
   "outputs": [],
   "source": []
  }
 ],
 "metadata": {
  "kernelspec": {
   "display_name": "Python 3",
   "language": "python",
   "name": "python3"
  },
  "language_info": {
   "codemirror_mode": {
    "name": "ipython",
    "version": 3
   },
   "file_extension": ".py",
   "mimetype": "text/x-python",
   "name": "python",
   "nbconvert_exporter": "python",
   "pygments_lexer": "ipython3",
   "version": "3.8.3"
  }
 },
 "nbformat": 4,
 "nbformat_minor": 2
}
