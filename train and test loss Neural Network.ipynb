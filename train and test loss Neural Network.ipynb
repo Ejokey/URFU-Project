{
 "cells": [
  {
   "cell_type": "markdown",
   "metadata": {},
   "source": [
    "# Exercise 2"
   ]
  },
  {
   "cell_type": "markdown",
   "metadata": {},
   "source": [
    "## Instructions \n",
    "\n",
    "1. Generate train and test data.\n",
    "2. Define a class NN of one-hidden neural net. The __init__ function takes 3 parameters (inputsize, hiddensize, outputsize).\n",
    "\n",
    "2. Define a list hidden_size = [2, ...., 33, ....128] with a step 5. Be sure that list contains 33, which corresponds to the case of interpolation threshold, i.e. the number of parameters equals to the number of training points.\n",
    "3. \n",
    "\n",
    "for h in hidden_size:\n",
    "    define model(inputsize, hiddensize, outputsize)\n",
    "    for e in epochs:\n",
    "        forward step: output = model(input)\n",
    "        compute loss \n",
    "        backpropagate loss (use backward)\n",
    "        \n",
    "    get train loss (after training): train_out = model(input)\n",
    "    train_loss = criterion(train_out, labels)\n",
    "    get test_loss: test_out = model(input)\n",
    "    test_loss = criterion(test_out, labels)\n",
    "       \n",
    "4. Plot saved list of train and test losses, x axis reveals each h, y axis is loss values.\n",
    "     "
   ]
  },
  {
   "cell_type": "code",
   "execution_count": 47,
   "metadata": {},
   "outputs": [],
   "source": [
    "import numpy as np\n",
    "from sklearn.linear_model import LinearRegression\n",
    "from sklearn.metrics import mean_squared_error\n",
    "from scipy.stats import multivariate_normal\n",
    "%matplotlib inline\n",
    "import matplotlib\n",
    "import matplotlib.pyplot as plt\n",
    "import csv\n",
    "import torch\n",
    "from torch.autograd import Variable\n",
    "import torch.nn as nn\n",
    "from sklearn import datasets\n",
    "from sklearn.model_selection import train_test_split\n",
    "\n",
    "np.random.seed(1234)"
   ]
  },
  {
   "cell_type": "code",
   "execution_count": 48,
   "metadata": {},
   "outputs": [],
   "source": [
    "x_values = np.random.normal(size = 200)\n",
    "x_vals = np.array(x_values, dtype=np.float32)\n",
    "r = np.random.normal(0, 3, size = 200)\n",
    "\n",
    "y_values = [3*i + 5 for i in x_values] + r\n",
    "y_vals = np.array(y_values, dtype=np.float32)\n"
   ]
  },
  {
   "cell_type": "code",
   "execution_count": 49,
   "metadata": {},
   "outputs": [],
   "source": [
    "x_train, x_test, y_train, y_test = (train_test_split(x_vals, y_vals, test_size=0.2))"
   ]
  },
  {
   "cell_type": "code",
   "execution_count": 50,
   "metadata": {},
   "outputs": [],
   "source": [
    "x_train = (x_train).reshape(-1, 1)\n",
    "x_test = (x_test).reshape(-1, 1)\n",
    "y_train = (y_train).reshape(-1, 1)\n",
    "y_test = (y_test).reshape(-1, 1)"
   ]
  },
  {
   "cell_type": "code",
   "execution_count": 51,
   "metadata": {},
   "outputs": [
    {
     "data": {
      "text/plain": [
       "(160, 1)"
      ]
     },
     "execution_count": 51,
     "metadata": {},
     "output_type": "execute_result"
    }
   ],
   "source": [
    "x_train.shape"
   ]
  },
  {
   "cell_type": "code",
   "execution_count": 52,
   "metadata": {},
   "outputs": [
    {
     "name": "stdout",
     "output_type": "stream",
     "text": [
      "(160, 1)\n",
      "(160, 1)\n"
     ]
    }
   ],
   "source": [
    "print(x_train.shape)\n",
    "print(y_train.shape)"
   ]
  },
  {
   "cell_type": "code",
   "execution_count": 53,
   "metadata": {},
   "outputs": [
    {
     "data": {
      "text/plain": [
       "<matplotlib.collections.PathCollection at 0x23ef8a89820>"
      ]
     },
     "execution_count": 53,
     "metadata": {},
     "output_type": "execute_result"
    },
    {
     "data": {
      "image/png": "[encoded data removed]",
      "text/plain": [
       "<Figure size 432x288 with 1 Axes>"
      ]
     },
     "metadata": {
      "needs_background": "light"
     },
     "output_type": "display_data"
    }
   ],
   "source": [
    "plt.scatter(x_train, y_train)"
   ]
  },
  {
   "cell_type": "code",
   "execution_count": 54,
   "metadata": {},
   "outputs": [],
   "source": [
    "class NN(torch.nn.Module):\n",
    "    def __init__(self, inputSize, hiddenSize, outputSize):\n",
    "        super(NN, self).__init__()\n",
    "        self.linear = nn.Sequential(torch.nn.Linear(inputSize, hiddenSize),\n",
    "                                    torch.nn.ReLU(),\n",
    "                                    torch.nn.Linear(hiddenSize, outputSize))\n",
    "                                    \n",
    "\n",
    "    def forward(self, x):\n",
    "        out = self.linear(x)\n",
    "        return out"
   ]
  },
  {
   "cell_type": "code",
   "execution_count": 55,
   "metadata": {},
   "outputs": [],
   "source": [
    "inputDim = 1\n",
    "hidden_sizes = 128\n",
    "outputDim = 1      \n",
    "learningRate = 0.001 \n",
    "epochs = 101\n",
    "\n"
   ]
  },
  {
   "cell_type": "code",
   "execution_count": 56,
   "metadata": {
    "scrolled": true
   },
   "outputs": [],
   "source": [
    "criterion = torch.nn.MSELoss() "
   ]
  },
  {
   "cell_type": "code",
   "execution_count": 57,
   "metadata": {},
   "outputs": [
    {
     "name": "stdout",
     "output_type": "stream",
     "text": [
      "h: 2 | epoch: 0, loss: 39.749481201171875\n",
      "h: 2 | epoch: 50, loss: 33.10276412963867\n",
      "h: 2 | epoch: 100, loss: 25.694034576416016\n",
      "h: 3 | epoch: 0, loss: 49.285980224609375\n",
      "h: 3 | epoch: 50, loss: 42.67597198486328\n",
      "h: 3 | epoch: 100, loss: 37.54210662841797\n",
      "h: 4 | epoch: 0, loss: 42.0932731628418\n",
      "h: 4 | epoch: 50, loss: 34.796119689941406\n",
      "h: 4 | epoch: 100, loss: 28.930383682250977\n",
      "h: 5 | epoch: 0, loss: 41.90587615966797\n",
      "h: 5 | epoch: 50, loss: 33.908355712890625\n",
      "h: 5 | epoch: 100, loss: 25.971105575561523\n",
      "h: 6 | epoch: 0, loss: 43.07893753051758\n",
      "h: 6 | epoch: 50, loss: 35.747737884521484\n",
      "h: 6 | epoch: 100, loss: 30.045312881469727\n",
      "h: 7 | epoch: 0, loss: 43.983558654785156\n",
      "h: 7 | epoch: 50, loss: 33.915565490722656\n",
      "h: 7 | epoch: 100, loss: 24.225343704223633\n",
      "h: 8 | epoch: 0, loss: 43.304832458496094\n",
      "h: 8 | epoch: 50, loss: 24.87833595275879\n",
      "h: 8 | epoch: 100, loss: 13.530160903930664\n",
      "h: 9 | epoch: 0, loss: 42.72873306274414\n",
      "h: 9 | epoch: 50, loss: 37.228912353515625\n",
      "h: 9 | epoch: 100, loss: 32.83176803588867\n",
      "h: 10 | epoch: 0, loss: 45.453277587890625\n",
      "h: 10 | epoch: 50, loss: 31.64272117614746\n",
      "h: 10 | epoch: 100, loss: 19.33909797668457\n",
      "h: 11 | epoch: 0, loss: 49.42003631591797\n",
      "h: 11 | epoch: 50, loss: 29.269969940185547\n",
      "h: 11 | epoch: 100, loss: 16.709857940673828\n",
      "h: 12 | epoch: 0, loss: 42.37208557128906\n",
      "h: 12 | epoch: 50, loss: 26.0952205657959\n",
      "h: 12 | epoch: 100, loss: 15.104597091674805\n",
      "h: 13 | epoch: 0, loss: 47.474273681640625\n",
      "h: 13 | epoch: 50, loss: 19.992462158203125\n",
      "h: 13 | epoch: 100, loss: 10.896400451660156\n",
      "h: 14 | epoch: 0, loss: 48.56116485595703\n",
      "h: 14 | epoch: 50, loss: 26.268951416015625\n",
      "h: 14 | epoch: 100, loss: 14.238119125366211\n",
      "h: 15 | epoch: 0, loss: 45.25288009643555\n",
      "h: 15 | epoch: 50, loss: 26.405506134033203\n",
      "h: 15 | epoch: 100, loss: 15.754800796508789\n",
      "h: 16 | epoch: 0, loss: 48.729705810546875\n",
      "h: 16 | epoch: 50, loss: 22.331167221069336\n",
      "h: 16 | epoch: 100, loss: 11.783551216125488\n",
      "h: 17 | epoch: 0, loss: 51.4661750793457\n",
      "h: 17 | epoch: 50, loss: 22.65011215209961\n",
      "h: 17 | epoch: 100, loss: 11.550630569458008\n",
      "h: 18 | epoch: 0, loss: 46.07927703857422\n",
      "h: 18 | epoch: 50, loss: 21.91115951538086\n",
      "h: 18 | epoch: 100, loss: 11.86562442779541\n",
      "h: 19 | epoch: 0, loss: 47.850364685058594\n",
      "h: 19 | epoch: 50, loss: 29.436737060546875\n",
      "h: 19 | epoch: 100, loss: 18.03508758544922\n",
      "h: 20 | epoch: 0, loss: 48.45240783691406\n",
      "h: 20 | epoch: 50, loss: 34.78268814086914\n",
      "h: 20 | epoch: 100, loss: 24.302202224731445\n",
      "h: 21 | epoch: 0, loss: 52.759979248046875\n",
      "h: 21 | epoch: 50, loss: 32.3543586730957\n",
      "h: 21 | epoch: 100, loss: 22.508686065673828\n",
      "h: 22 | epoch: 0, loss: 53.073699951171875\n",
      "h: 22 | epoch: 50, loss: 17.431310653686523\n",
      "h: 22 | epoch: 100, loss: 10.177660942077637\n",
      "h: 23 | epoch: 0, loss: 49.14771270751953\n",
      "h: 23 | epoch: 50, loss: 22.832561492919922\n",
      "h: 23 | epoch: 100, loss: 12.312481880187988\n",
      "h: 24 | epoch: 0, loss: 40.97333908081055\n",
      "h: 24 | epoch: 50, loss: 17.55794906616211\n",
      "h: 24 | epoch: 100, loss: 10.48207950592041\n",
      "h: 25 | epoch: 0, loss: 42.58053207397461\n",
      "h: 25 | epoch: 50, loss: 24.7293643951416\n",
      "h: 25 | epoch: 100, loss: 13.84770393371582\n",
      "h: 26 | epoch: 0, loss: 51.2291374206543\n",
      "h: 26 | epoch: 50, loss: 18.111038208007812\n",
      "h: 26 | epoch: 100, loss: 10.186975479125977\n",
      "h: 27 | epoch: 0, loss: 45.504173278808594\n",
      "h: 27 | epoch: 50, loss: 26.700469970703125\n",
      "h: 27 | epoch: 100, loss: 16.138134002685547\n",
      "h: 28 | epoch: 0, loss: 44.00398635864258\n",
      "h: 28 | epoch: 50, loss: 15.496577262878418\n",
      "h: 28 | epoch: 100, loss: 9.808302879333496\n",
      "h: 29 | epoch: 0, loss: 42.336021423339844\n",
      "h: 29 | epoch: 50, loss: 17.575286865234375\n",
      "h: 29 | epoch: 100, loss: 10.907388687133789\n",
      "h: 30 | epoch: 0, loss: 43.15427017211914\n",
      "h: 30 | epoch: 50, loss: 14.378766059875488\n",
      "h: 30 | epoch: 100, loss: 9.509346008300781\n",
      "h: 31 | epoch: 0, loss: 46.044822692871094\n",
      "h: 31 | epoch: 50, loss: 20.311893463134766\n",
      "h: 31 | epoch: 100, loss: 11.319631576538086\n",
      "h: 32 | epoch: 0, loss: 40.561038970947266\n",
      "h: 32 | epoch: 50, loss: 17.982505798339844\n",
      "h: 32 | epoch: 100, loss: 10.597482681274414\n",
      "h: 33 | epoch: 0, loss: 45.44074630737305\n",
      "h: 33 | epoch: 50, loss: 20.431501388549805\n",
      "h: 33 | epoch: 100, loss: 11.262754440307617\n",
      "h: 34 | epoch: 0, loss: 47.59597396850586\n",
      "h: 34 | epoch: 50, loss: 17.233932495117188\n",
      "h: 34 | epoch: 100, loss: 10.459442138671875\n",
      "h: 35 | epoch: 0, loss: 44.39238739013672\n",
      "h: 35 | epoch: 50, loss: 25.017559051513672\n",
      "h: 35 | epoch: 100, loss: 14.576008796691895\n",
      "h: 36 | epoch: 0, loss: 52.17106246948242\n",
      "h: 36 | epoch: 50, loss: 17.66680908203125\n",
      "h: 36 | epoch: 100, loss: 10.099759101867676\n",
      "h: 37 | epoch: 0, loss: 46.754188537597656\n",
      "h: 37 | epoch: 50, loss: 12.335601806640625\n",
      "h: 37 | epoch: 100, loss: 9.084870338439941\n",
      "h: 38 | epoch: 0, loss: 48.94640350341797\n",
      "h: 38 | epoch: 50, loss: 17.634441375732422\n",
      "h: 38 | epoch: 100, loss: 10.680634498596191\n",
      "h: 39 | epoch: 0, loss: 39.53028106689453\n",
      "h: 39 | epoch: 50, loss: 11.91929817199707\n",
      "h: 39 | epoch: 100, loss: 9.149381637573242\n",
      "h: 40 | epoch: 0, loss: 45.15095138549805\n",
      "h: 40 | epoch: 50, loss: 12.3933687210083\n",
      "h: 40 | epoch: 100, loss: 9.03146743774414\n",
      "h: 41 | epoch: 0, loss: 44.49372482299805\n",
      "h: 41 | epoch: 50, loss: 14.075533866882324\n",
      "h: 41 | epoch: 100, loss: 9.902204513549805\n",
      "h: 42 | epoch: 0, loss: 45.47172164916992\n",
      "h: 42 | epoch: 50, loss: 14.6060152053833\n",
      "h: 42 | epoch: 100, loss: 9.974456787109375\n",
      "h: 43 | epoch: 0, loss: 48.27716064453125\n",
      "h: 43 | epoch: 50, loss: 12.10091781616211\n",
      "h: 43 | epoch: 100, loss: 9.22693157196045\n",
      "h: 44 | epoch: 0, loss: 48.71901321411133\n",
      "h: 44 | epoch: 50, loss: 13.919445991516113\n",
      "h: 44 | epoch: 100, loss: 9.58780288696289\n",
      "h: 45 | epoch: 0, loss: 45.67264175415039\n",
      "h: 45 | epoch: 50, loss: 14.27038860321045\n",
      "h: 45 | epoch: 100, loss: 9.836893081665039\n",
      "h: 46 | epoch: 0, loss: 48.03901290893555\n",
      "h: 46 | epoch: 50, loss: 13.281753540039062\n",
      "h: 46 | epoch: 100, loss: 9.396449089050293\n",
      "h: 47 | epoch: 0, loss: 44.067115783691406\n",
      "h: 47 | epoch: 50, loss: 14.537625312805176\n",
      "h: 47 | epoch: 100, loss: 9.605840682983398\n",
      "h: 48 | epoch: 0, loss: 41.891212463378906\n",
      "h: 48 | epoch: 50, loss: 13.211326599121094\n",
      "h: 48 | epoch: 100, loss: 9.448087692260742\n",
      "h: 49 | epoch: 0, loss: 47.79928207397461\n",
      "h: 49 | epoch: 50, loss: 18.565196990966797\n",
      "h: 49 | epoch: 100, loss: 10.864664077758789\n",
      "h: 50 | epoch: 0, loss: 41.877140045166016\n",
      "h: 50 | epoch: 50, loss: 15.183331489562988\n",
      "h: 50 | epoch: 100, loss: 10.253173828125\n",
      "h: 51 | epoch: 0, loss: 48.149940490722656\n",
      "h: 51 | epoch: 50, loss: 14.845538139343262\n",
      "h: 51 | epoch: 100, loss: 10.14680290222168\n",
      "h: 52 | epoch: 0, loss: 40.35106658935547\n",
      "h: 52 | epoch: 50, loss: 13.635721206665039\n",
      "h: 52 | epoch: 100, loss: 9.536680221557617\n",
      "h: 53 | epoch: 0, loss: 50.46904373168945\n",
      "h: 53 | epoch: 50, loss: 10.109390258789062\n",
      "h: 53 | epoch: 100, loss: 8.881072044372559\n",
      "h: 54 | epoch: 0, loss: 39.752567291259766\n",
      "h: 54 | epoch: 50, loss: 14.451141357421875\n",
      "h: 54 | epoch: 100, loss: 9.81859302520752\n",
      "h: 55 | epoch: 0, loss: 46.86033248901367\n",
      "h: 55 | epoch: 50, loss: 13.298052787780762\n",
      "h: 55 | epoch: 100, loss: 9.391965866088867\n",
      "h: 56 | epoch: 0, loss: 43.30710220336914\n",
      "h: 56 | epoch: 50, loss: 11.617547988891602\n",
      "h: 56 | epoch: 100, loss: 9.331169128417969\n",
      "h: 57 | epoch: 0, loss: 45.27768325805664\n",
      "h: 57 | epoch: 50, loss: 12.34457015991211\n",
      "h: 57 | epoch: 100, loss: 9.168401718139648\n",
      "h: 58 | epoch: 0, loss: 42.788150787353516\n",
      "h: 58 | epoch: 50, loss: 14.54650592803955\n",
      "h: 58 | epoch: 100, loss: 9.847753524780273\n",
      "h: 59 | epoch: 0, loss: 52.12324142456055\n",
      "h: 59 | epoch: 50, loss: 16.92887306213379\n",
      "h: 59 | epoch: 100, loss: 9.965593338012695\n",
      "h: 60 | epoch: 0, loss: 39.35950469970703\n",
      "h: 60 | epoch: 50, loss: 10.565263748168945\n",
      "h: 60 | epoch: 100, loss: 9.028779983520508\n",
      "h: 61 | epoch: 0, loss: 37.8218879699707\n",
      "h: 61 | epoch: 50, loss: 10.947240829467773\n",
      "h: 61 | epoch: 100, loss: 9.323634147644043\n",
      "h: 62 | epoch: 0, loss: 39.61758041381836\n",
      "h: 62 | epoch: 50, loss: 10.500604629516602\n",
      "h: 62 | epoch: 100, loss: 8.956557273864746\n",
      "h: 63 | epoch: 0, loss: 49.4171028137207\n",
      "h: 63 | epoch: 50, loss: 15.2349853515625\n",
      "h: 63 | epoch: 100, loss: 10.09442138671875\n",
      "h: 64 | epoch: 0, loss: 40.24341583251953\n",
      "h: 64 | epoch: 50, loss: 13.215130805969238\n",
      "h: 64 | epoch: 100, loss: 9.514887809753418\n",
      "h: 65 | epoch: 0, loss: 45.466495513916016\n",
      "h: 65 | epoch: 50, loss: 12.07783031463623\n",
      "h: 65 | epoch: 100, loss: 9.194681167602539\n",
      "h: 66 | epoch: 0, loss: 40.47687911987305\n"
     ]
    },
    {
     "name": "stdout",
     "output_type": "stream",
     "text": [
      "h: 66 | epoch: 50, loss: 10.521360397338867\n",
      "h: 66 | epoch: 100, loss: 9.056192398071289\n",
      "h: 67 | epoch: 0, loss: 38.77117919921875\n",
      "h: 67 | epoch: 50, loss: 12.27008056640625\n",
      "h: 67 | epoch: 100, loss: 9.270468711853027\n",
      "h: 68 | epoch: 0, loss: 48.041622161865234\n",
      "h: 68 | epoch: 50, loss: 11.378994941711426\n",
      "h: 68 | epoch: 100, loss: 9.144538879394531\n",
      "h: 69 | epoch: 0, loss: 41.86155700683594\n",
      "h: 69 | epoch: 50, loss: 11.503110885620117\n",
      "h: 69 | epoch: 100, loss: 9.076763153076172\n",
      "h: 70 | epoch: 0, loss: 44.203125\n",
      "h: 70 | epoch: 50, loss: 11.84961986541748\n",
      "h: 70 | epoch: 100, loss: 9.049824714660645\n",
      "h: 71 | epoch: 0, loss: 48.3348274230957\n",
      "h: 71 | epoch: 50, loss: 20.339101791381836\n",
      "h: 71 | epoch: 100, loss: 11.603263854980469\n",
      "h: 72 | epoch: 0, loss: 44.68568801879883\n",
      "h: 72 | epoch: 50, loss: 11.410049438476562\n",
      "h: 72 | epoch: 100, loss: 9.53844928741455\n",
      "h: 73 | epoch: 0, loss: 41.95696258544922\n",
      "h: 73 | epoch: 50, loss: 10.548555374145508\n",
      "h: 73 | epoch: 100, loss: 9.1932373046875\n",
      "h: 74 | epoch: 0, loss: 45.500938415527344\n",
      "h: 74 | epoch: 50, loss: 11.307317733764648\n",
      "h: 74 | epoch: 100, loss: 9.164332389831543\n",
      "h: 75 | epoch: 0, loss: 40.47669219970703\n",
      "h: 75 | epoch: 50, loss: 9.739614486694336\n",
      "h: 75 | epoch: 100, loss: 8.95122241973877\n",
      "h: 76 | epoch: 0, loss: 45.258636474609375\n",
      "h: 76 | epoch: 50, loss: 10.460264205932617\n",
      "h: 76 | epoch: 100, loss: 9.090269088745117\n",
      "h: 77 | epoch: 0, loss: 43.57601547241211\n",
      "h: 77 | epoch: 50, loss: 11.498993873596191\n",
      "h: 77 | epoch: 100, loss: 9.166145324707031\n",
      "h: 78 | epoch: 0, loss: 44.15447235107422\n",
      "h: 78 | epoch: 50, loss: 10.956270217895508\n",
      "h: 78 | epoch: 100, loss: 9.0654935836792\n",
      "h: 79 | epoch: 0, loss: 48.35620880126953\n",
      "h: 79 | epoch: 50, loss: 10.783403396606445\n",
      "h: 79 | epoch: 100, loss: 8.96061897277832\n",
      "h: 80 | epoch: 0, loss: 48.703857421875\n",
      "h: 80 | epoch: 50, loss: 11.043100357055664\n",
      "h: 80 | epoch: 100, loss: 9.125914573669434\n",
      "h: 81 | epoch: 0, loss: 44.07425308227539\n",
      "h: 81 | epoch: 50, loss: 10.68642520904541\n",
      "h: 81 | epoch: 100, loss: 9.077704429626465\n",
      "h: 82 | epoch: 0, loss: 44.292625427246094\n",
      "h: 82 | epoch: 50, loss: 10.613336563110352\n",
      "h: 82 | epoch: 100, loss: 8.996374130249023\n",
      "h: 83 | epoch: 0, loss: 44.95128631591797\n",
      "h: 83 | epoch: 50, loss: 11.271692276000977\n",
      "h: 83 | epoch: 100, loss: 9.092714309692383\n",
      "h: 84 | epoch: 0, loss: 43.824195861816406\n",
      "h: 84 | epoch: 50, loss: 10.123434066772461\n",
      "h: 84 | epoch: 100, loss: 8.860647201538086\n",
      "h: 85 | epoch: 0, loss: 45.558048248291016\n",
      "h: 85 | epoch: 50, loss: 11.731809616088867\n",
      "h: 85 | epoch: 100, loss: 9.58753776550293\n",
      "h: 86 | epoch: 0, loss: 44.117454528808594\n",
      "h: 86 | epoch: 50, loss: 10.87888240814209\n",
      "h: 86 | epoch: 100, loss: 8.856895446777344\n",
      "h: 87 | epoch: 0, loss: 42.74550247192383\n",
      "h: 87 | epoch: 50, loss: 9.886871337890625\n",
      "h: 87 | epoch: 100, loss: 8.980070114135742\n",
      "h: 88 | epoch: 0, loss: 44.62601852416992\n",
      "h: 88 | epoch: 50, loss: 9.491613388061523\n",
      "h: 88 | epoch: 100, loss: 8.752187728881836\n",
      "h: 89 | epoch: 0, loss: 47.13838577270508\n",
      "h: 89 | epoch: 50, loss: 11.903566360473633\n",
      "h: 89 | epoch: 100, loss: 9.280708312988281\n",
      "h: 90 | epoch: 0, loss: 42.07080078125\n",
      "h: 90 | epoch: 50, loss: 10.95409870147705\n",
      "h: 90 | epoch: 100, loss: 9.327760696411133\n",
      "h: 91 | epoch: 0, loss: 47.56511688232422\n",
      "h: 91 | epoch: 50, loss: 10.075578689575195\n",
      "h: 91 | epoch: 100, loss: 8.82721996307373\n",
      "h: 92 | epoch: 0, loss: 40.913326263427734\n",
      "h: 92 | epoch: 50, loss: 11.779947280883789\n",
      "h: 92 | epoch: 100, loss: 9.153976440429688\n",
      "h: 93 | epoch: 0, loss: 44.595191955566406\n",
      "h: 93 | epoch: 50, loss: 9.957242965698242\n",
      "h: 93 | epoch: 100, loss: 9.000840187072754\n",
      "h: 94 | epoch: 0, loss: 42.37718963623047\n",
      "h: 94 | epoch: 50, loss: 10.728944778442383\n",
      "h: 94 | epoch: 100, loss: 8.995166778564453\n",
      "h: 95 | epoch: 0, loss: 43.81135940551758\n",
      "h: 95 | epoch: 50, loss: 9.44505786895752\n",
      "h: 95 | epoch: 100, loss: 8.984251022338867\n",
      "h: 96 | epoch: 0, loss: 43.3508186340332\n",
      "h: 96 | epoch: 50, loss: 10.139747619628906\n",
      "h: 96 | epoch: 100, loss: 8.969423294067383\n",
      "h: 97 | epoch: 0, loss: 43.954795837402344\n",
      "h: 97 | epoch: 50, loss: 10.18433952331543\n",
      "h: 97 | epoch: 100, loss: 8.940275192260742\n",
      "h: 98 | epoch: 0, loss: 49.99000930786133\n",
      "h: 98 | epoch: 50, loss: 9.582196235656738\n",
      "h: 98 | epoch: 100, loss: 8.866769790649414\n",
      "h: 99 | epoch: 0, loss: 46.37706756591797\n",
      "h: 99 | epoch: 50, loss: 9.415485382080078\n",
      "h: 99 | epoch: 100, loss: 8.902922630310059\n",
      "h: 100 | epoch: 0, loss: 39.95379638671875\n",
      "h: 100 | epoch: 50, loss: 10.054703712463379\n",
      "h: 100 | epoch: 100, loss: 8.917590141296387\n",
      "h: 101 | epoch: 0, loss: 48.25716781616211\n",
      "h: 101 | epoch: 50, loss: 10.971940040588379\n",
      "h: 101 | epoch: 100, loss: 9.060896873474121\n",
      "h: 102 | epoch: 0, loss: 48.72048568725586\n",
      "h: 102 | epoch: 50, loss: 10.926046371459961\n",
      "h: 102 | epoch: 100, loss: 8.973738670349121\n",
      "h: 103 | epoch: 0, loss: 45.04120635986328\n",
      "h: 103 | epoch: 50, loss: 10.371063232421875\n",
      "h: 103 | epoch: 100, loss: 9.042135238647461\n",
      "h: 104 | epoch: 0, loss: 47.654380798339844\n",
      "h: 104 | epoch: 50, loss: 10.327970504760742\n",
      "h: 104 | epoch: 100, loss: 9.170418739318848\n",
      "h: 105 | epoch: 0, loss: 42.08998489379883\n",
      "h: 105 | epoch: 50, loss: 9.487425804138184\n",
      "h: 105 | epoch: 100, loss: 8.880658149719238\n",
      "h: 106 | epoch: 0, loss: 43.274757385253906\n",
      "h: 106 | epoch: 50, loss: 9.730377197265625\n",
      "h: 106 | epoch: 100, loss: 8.884503364562988\n",
      "h: 107 | epoch: 0, loss: 47.26795959472656\n",
      "h: 107 | epoch: 50, loss: 9.50553035736084\n",
      "h: 107 | epoch: 100, loss: 8.920279502868652\n",
      "h: 108 | epoch: 0, loss: 41.01250457763672\n",
      "h: 108 | epoch: 50, loss: 10.246944427490234\n",
      "h: 108 | epoch: 100, loss: 9.006487846374512\n",
      "h: 109 | epoch: 0, loss: 45.93928527832031\n",
      "h: 109 | epoch: 50, loss: 9.970887184143066\n",
      "h: 109 | epoch: 100, loss: 8.976923942565918\n",
      "h: 110 | epoch: 0, loss: 41.95698165893555\n",
      "h: 110 | epoch: 50, loss: 9.228734970092773\n",
      "h: 110 | epoch: 100, loss: 8.765619277954102\n",
      "h: 111 | epoch: 0, loss: 45.82142639160156\n",
      "h: 111 | epoch: 50, loss: 9.579916000366211\n",
      "h: 111 | epoch: 100, loss: 8.817220687866211\n",
      "h: 112 | epoch: 0, loss: 40.615047454833984\n",
      "h: 112 | epoch: 50, loss: 9.262199401855469\n",
      "h: 112 | epoch: 100, loss: 8.889707565307617\n",
      "h: 113 | epoch: 0, loss: 47.00862503051758\n",
      "h: 113 | epoch: 50, loss: 9.055376052856445\n",
      "h: 113 | epoch: 100, loss: 8.679280281066895\n",
      "h: 114 | epoch: 0, loss: 44.74220657348633\n",
      "h: 114 | epoch: 50, loss: 9.410493850708008\n",
      "h: 114 | epoch: 100, loss: 8.746082305908203\n",
      "h: 115 | epoch: 0, loss: 44.17961120605469\n",
      "h: 115 | epoch: 50, loss: 9.538020133972168\n",
      "h: 115 | epoch: 100, loss: 8.871503829956055\n",
      "h: 116 | epoch: 0, loss: 43.725284576416016\n",
      "h: 116 | epoch: 50, loss: 9.41081714630127\n",
      "h: 116 | epoch: 100, loss: 8.935741424560547\n",
      "h: 117 | epoch: 0, loss: 44.372802734375\n",
      "h: 117 | epoch: 50, loss: 9.267940521240234\n",
      "h: 117 | epoch: 100, loss: 8.81611442565918\n",
      "h: 118 | epoch: 0, loss: 46.05839157104492\n",
      "h: 118 | epoch: 50, loss: 10.162134170532227\n",
      "h: 118 | epoch: 100, loss: 8.752012252807617\n",
      "h: 119 | epoch: 0, loss: 48.91259765625\n",
      "h: 119 | epoch: 50, loss: 10.294044494628906\n",
      "h: 119 | epoch: 100, loss: 9.043157577514648\n",
      "h: 120 | epoch: 0, loss: 45.64247131347656\n",
      "h: 120 | epoch: 50, loss: 9.348484992980957\n",
      "h: 120 | epoch: 100, loss: 8.837247848510742\n",
      "h: 121 | epoch: 0, loss: 42.35247039794922\n",
      "h: 121 | epoch: 50, loss: 9.840934753417969\n",
      "h: 121 | epoch: 100, loss: 9.111224174499512\n",
      "h: 122 | epoch: 0, loss: 48.08202362060547\n",
      "h: 122 | epoch: 50, loss: 9.352198600769043\n",
      "h: 122 | epoch: 100, loss: 8.78557014465332\n",
      "h: 123 | epoch: 0, loss: 46.744178771972656\n",
      "h: 123 | epoch: 50, loss: 9.322344779968262\n",
      "h: 123 | epoch: 100, loss: 8.804818153381348\n",
      "h: 124 | epoch: 0, loss: 40.07499313354492\n",
      "h: 124 | epoch: 50, loss: 9.366559028625488\n",
      "h: 124 | epoch: 100, loss: 8.930492401123047\n",
      "h: 125 | epoch: 0, loss: 42.032012939453125\n",
      "h: 125 | epoch: 50, loss: 9.466174125671387\n",
      "h: 125 | epoch: 100, loss: 9.038972854614258\n",
      "h: 126 | epoch: 0, loss: 46.748294830322266\n",
      "h: 126 | epoch: 50, loss: 9.55729866027832\n",
      "h: 126 | epoch: 100, loss: 8.959331512451172\n",
      "h: 127 | epoch: 0, loss: 51.81389236450195\n",
      "h: 127 | epoch: 50, loss: 9.083545684814453\n",
      "h: 127 | epoch: 100, loss: 8.723379135131836\n"
     ]
    }
   ],
   "source": [
    "#!!! Note that training in the code below done outside of epoch loop.\n",
    "hs = []\n",
    "train_losses = []\n",
    "test_losses = []\n",
    "for h in range(2, hidden_sizes, 1):\n",
    "    hs.append(h)\n",
    "    model = NN(inputDim, h, outputDim)\n",
    "    optimizer = torch.optim.SGD(model.parameters(), lr=learningRate)\n",
    "    for epoch in range(epochs):\n",
    "        if torch.cuda.is_available():\n",
    "            inputs_train = Variable(torch.from_numpy(x_train).cuda())\n",
    "            labels_train = Variable(torch.from_numpy(y_train).cuda())\n",
    "        else:\n",
    "            inputs_train = Variable(torch.from_numpy(x_train))\n",
    "            labels_train = Variable(torch.from_numpy(y_train))\n",
    "        if torch.cuda.is_available():\n",
    "            inputs_test = Variable(torch.from_numpy(x_test).cuda())\n",
    "            labels_test = Variable(torch.from_numpy(y_test).cuda())\n",
    "        else:\n",
    "            inputs_test = Variable(torch.from_numpy(x_test))\n",
    "            labels_test = Variable(torch.from_numpy(y_test))\n",
    "        optimizer.zero_grad()\n",
    "        outputs = model(inputs_train)\n",
    "        loss = criterion(outputs, labels_train)\n",
    "        loss.backward()\n",
    "        optimizer.step()\n",
    "        if epoch % 50 == 0:\n",
    "            print('h: {} | epoch: {}, loss: {}'.format(h, epoch, loss.item()))  \n",
    "    outputs_train = model(inputs_train)\n",
    "    train_loss = criterion(outputs_train, labels_train)\n",
    "    train_losses.append(train_loss)\n",
    "    outputs_test = model(inputs_test)\n",
    "    test_loss = criterion(outputs_test, labels_test)\n",
    "    test_losses.append(test_loss)"
   ]
  },
  {
   "cell_type": "code",
   "execution_count": 58,
   "metadata": {
    "scrolled": true
   },
   "outputs": [
    {
     "name": "stdout",
     "output_type": "stream",
     "text": [
      "[[ 8.979451 ]\n",
      " [ 2.7448204]\n",
      " [ 3.5728662]\n",
      " [ 5.5663147]\n",
      " [ 7.9801974]\n",
      " [ 1.5967078]\n",
      " [ 9.149739 ]\n",
      " [ 4.562558 ]\n",
      " [ 6.05204  ]\n",
      " [ 6.4847717]\n",
      " [ 3.0065126]\n",
      " [ 2.8475819]\n",
      " [ 7.4902   ]\n",
      " [ 3.4567156]\n",
      " [ 4.3167286]\n",
      " [ 2.6975138]\n",
      " [ 7.9827304]\n",
      " [ 9.556645 ]\n",
      " [ 6.78835  ]\n",
      " [ 3.5601387]\n",
      " [ 1.7585151]\n",
      " [ 1.5435033]\n",
      " [ 5.2746563]\n",
      " [ 3.0769193]\n",
      " [ 1.6783106]\n",
      " [ 3.576362 ]\n",
      " [ 4.275288 ]\n",
      " [ 8.1937895]\n",
      " [ 4.7484546]\n",
      " [ 6.824016 ]\n",
      " [ 1.7150693]\n",
      " [ 5.8746314]\n",
      " [ 5.267602 ]\n",
      " [ 8.8125105]\n",
      " [ 2.4783924]\n",
      " [ 2.5646079]\n",
      " [ 1.4719015]\n",
      " [ 8.64584  ]\n",
      " [ 7.3419113]\n",
      " [ 6.3784504]\n",
      " [ 7.025908 ]\n",
      " [ 6.457316 ]\n",
      " [ 5.5355053]\n",
      " [ 6.252343 ]\n",
      " [ 6.9420214]\n",
      " [ 7.563334 ]\n",
      " [ 1.4353464]\n",
      " [ 7.1853447]\n",
      " [ 8.151936 ]\n",
      " [ 3.623198 ]\n",
      " [ 5.5691233]\n",
      " [ 2.5869825]\n",
      " [ 1.4556153]\n",
      " [ 6.083512 ]\n",
      " [11.669928 ]\n",
      " [ 2.502377 ]\n",
      " [ 5.9591384]\n",
      " [ 4.2027597]\n",
      " [ 9.302322 ]\n",
      " [ 7.031375 ]\n",
      " [ 1.5427129]\n",
      " [ 5.1455555]\n",
      " [ 7.488001 ]\n",
      " [ 3.9611123]\n",
      " [ 6.0486994]\n",
      " [ 4.4516144]\n",
      " [ 4.957412 ]\n",
      " [ 3.774615 ]\n",
      " [ 1.9799528]\n",
      " [ 8.552472 ]\n",
      " [ 3.768397 ]\n",
      " [ 7.407939 ]\n",
      " [ 1.4196441]\n",
      " [ 4.3334312]\n",
      " [ 3.9987829]\n",
      " [ 2.1780639]\n",
      " [11.384795 ]\n",
      " [ 1.7291737]\n",
      " [ 1.7419105]\n",
      " [ 6.952158 ]\n",
      " [ 3.4226475]\n",
      " [ 7.245494 ]\n",
      " [ 5.6050124]\n",
      " [ 5.628239 ]\n",
      " [ 5.9316654]\n",
      " [ 2.3841858]\n",
      " [ 6.318778 ]\n",
      " [ 7.0368795]\n",
      " [ 6.441868 ]\n",
      " [ 1.9286484]\n",
      " [ 3.240665 ]\n",
      " [ 4.9173746]\n",
      " [ 4.0588007]\n",
      " [ 9.149922 ]\n",
      " [ 5.7429247]\n",
      " [ 7.8733606]\n",
      " [ 3.9914439]\n",
      " [ 7.6443386]\n",
      " [ 3.309575 ]\n",
      " [ 3.680209 ]\n",
      " [ 8.007053 ]\n",
      " [ 4.5201387]\n",
      " [ 7.870433 ]\n",
      " [ 5.751055 ]\n",
      " [ 3.2433314]\n",
      " [ 3.1756458]\n",
      " [ 6.5830135]\n",
      " [ 1.8002834]\n",
      " [ 5.3553915]\n",
      " [ 4.8685837]\n",
      " [ 1.8518184]\n",
      " [ 4.391855 ]\n",
      " [ 5.8839464]\n",
      " [ 1.392314 ]\n",
      " [ 2.0871398]\n",
      " [ 5.0177097]\n",
      " [ 2.1232862]\n",
      " [ 7.5495625]\n",
      " [ 9.970251 ]\n",
      " [ 3.1271994]\n",
      " [ 5.472698 ]\n",
      " [ 5.7992396]\n",
      " [ 8.76299  ]\n",
      " [ 8.199404 ]\n",
      " [ 1.727154 ]\n",
      " [ 4.709363 ]\n",
      " [ 6.1755123]\n",
      " [ 7.2059956]\n",
      " [ 4.9650583]\n",
      " [ 4.6217985]\n",
      " [ 1.4525205]\n",
      " [11.753563 ]\n",
      " [ 5.453013 ]\n",
      " [ 1.8842788]\n",
      " [ 1.7533162]\n",
      " [12.998155 ]\n",
      " [ 6.9588923]\n",
      " [ 5.351331 ]\n",
      " [ 6.2802606]\n",
      " [ 7.99387  ]\n",
      " [ 1.969309 ]\n",
      " [ 4.0201755]\n",
      " [ 3.3509064]\n",
      " [ 3.7258403]\n",
      " [ 7.6512437]\n",
      " [ 4.809123 ]\n",
      " [ 1.5844363]\n",
      " [ 7.038506 ]\n",
      " [ 9.139413 ]\n",
      " [12.09562  ]\n",
      " [13.0933075]\n",
      " [ 5.027689 ]\n",
      " [ 5.74498  ]\n",
      " [ 5.3898053]\n",
      " [ 9.521043 ]\n",
      " [ 3.959457 ]\n",
      " [ 9.281409 ]\n",
      " [ 2.4346344]\n",
      " [ 3.545878 ]\n",
      " [ 6.580373 ]]\n"
     ]
    }
   ],
   "source": [
    "with torch.no_grad(): \n",
    "    if torch.cuda.is_available():\n",
    "        predicted = model(Variable(torch.from_numpy(x_train).cuda())).cpu().data.numpy()\n",
    "    else:\n",
    "        predicted = model(Variable(torch.from_numpy(x_train))).data.numpy()\n",
    "    print(predicted)"
   ]
  },
  {
   "cell_type": "code",
   "execution_count": 60,
   "metadata": {},
   "outputs": [
    {
     "data": {
      "image/png": "[encoded data removed]",
      "text/plain": [
       "<Figure size 432x288 with 1 Axes>"
      ]
     },
     "metadata": {
      "needs_background": "light"
     },
     "output_type": "display_data"
    }
   ],
   "source": [
    "plt.clf()\n",
    "plt.plot(x_train, y_train, 'go', label='True data', alpha=0.5)\n",
    "plt.plot(x_train, predicted, '--', label='Predictions', alpha=0.5)\n",
    "plt.legend(loc='best')\n",
    "plt.show()"
   ]
  },
  {
   "cell_type": "code",
   "execution_count": null,
   "metadata": {},
   "outputs": [],
   "source": []
  },
  {
   "cell_type": "code",
   "execution_count": 61,
   "metadata": {},
   "outputs": [
    {
     "data": {
      "text/plain": [
       "(0.0, 100.0)"
      ]
     },
     "execution_count": 61,
     "metadata": {},
     "output_type": "execute_result"
    },
    {
     "data": {
      "image/png": "[encoded data removed]",
      "text/plain": [
       "<Figure size 432x288 with 1 Axes>"
      ]
     },
     "metadata": {
      "needs_background": "light"
     },
     "output_type": "display_data"
    }
   ],
   "source": [
    "plt.plot(hs, train_losses, label='Train Loss')\n",
    "plt.plot(hs, test_losses, label='Test loss')\n",
    "plt.legend(loc='best')\n",
    "plt.xlim(0, 100)"
   ]
  },
  {
   "cell_type": "code",
   "execution_count": 62,
   "metadata": {},
   "outputs": [
    {
     "data": {
      "text/plain": [
       "(0.0, 100.0)"
      ]
     },
     "execution_count": 62,
     "metadata": {},
     "output_type": "execute_result"
    },
    {
     "data": {
      "image/png": "[encoded data removed]",
      "text/plain": [
       "<Figure size 432x288 with 1 Axes>"
      ]
     },
     "metadata": {
      "needs_background": "light"
     },
     "output_type": "display_data"
    }
   ],
   "source": [
    "plt.plot(hs, train_losses)\n",
    "plt.title('Train Loss')\n",
    "plt.xlim(0, 100)"
   ]
  },
  {
   "cell_type": "code",
   "execution_count": 63,
   "metadata": {},
   "outputs": [
    {
     "data": {
      "text/plain": [
       "(0.0, 100.0)"
      ]
     },
     "execution_count": 63,
     "metadata": {},
     "output_type": "execute_result"
    },
    {
     "data": {
      "image/png": "[encoded data removed]",
      "text/plain": [
       "<Figure size 432x288 with 1 Axes>"
      ]
     },
     "metadata": {
      "needs_background": "light"
     },
     "output_type": "display_data"
    }
   ],
   "source": [
    "plt.plot(hs, test_losses)\n",
    "plt.title('Test Loss')\n",
    "plt.xlim(0, 100)"
   ]
  },
  {
   "cell_type": "code",
   "execution_count": null,
   "metadata": {},
   "outputs": [],
   "source": []
  },
  {
   "cell_type": "code",
   "execution_count": null,
   "metadata": {},
   "outputs": [],
   "source": []
  },
  {
   "cell_type": "code",
   "execution_count": null,
   "metadata": {},
   "outputs": [],
   "source": []
  },
  {
   "cell_type": "code",
   "execution_count": null,
   "metadata": {},
   "outputs": [],
   "source": []
  },
  {
   "cell_type": "code",
   "execution_count": null,
   "metadata": {},
   "outputs": [],
   "source": []
  }
 ],
 "metadata": {
  "kernelspec": {
   "display_name": "Python 3",
   "language": "python",
   "name": "python3"
  },
  "language_info": {
   "codemirror_mode": {
    "name": "ipython",
    "version": 3
   },
   "file_extension": ".py",
   "mimetype": "text/x-python",
   "name": "python",
   "nbconvert_exporter": "python",
   "pygments_lexer": "ipython3",
   "version": "3.8.3"
  }
 },
 "nbformat": 4,
 "nbformat_minor": 2
}
