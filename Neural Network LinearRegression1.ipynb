{
 "cells": [
  {
   "cell_type": "markdown",
   "metadata": {},
   "source": [
    "# Exercise 2"
   ]
  },
  {
   "cell_type": "code",
   "execution_count": 65,
   "metadata": {},
   "outputs": [],
   "source": [
    "import numpy as np\n",
    "from sklearn.linear_model import LinearRegression\n",
    "from sklearn.metrics import mean_squared_error\n",
    "from scipy.stats import multivariate_normal\n",
    "%matplotlib inline\n",
    "import matplotlib\n",
    "import matplotlib.pyplot as plt\n",
    "import csv\n",
    "import torch\n",
    "from torch.autograd import Variable\n",
    "import torch.nn as nn\n",
    "from sklearn import datasets\n",
    "\n",
    "np.random.seed(1234)"
   ]
  },
  {
   "cell_type": "code",
   "execution_count": 66,
   "metadata": {},
   "outputs": [],
   "source": [
    "x_values = np.random.normal(size = 200)\n",
    "x_train = np.array(x_values, dtype=np.float32)\n",
    "x_train = x_train.reshape(-1, 1)\n",
    "r = np.random.normal(0, 3, size = 200)\n",
    "\n",
    "y_values = [3*i + 5 for i in x_values] + r\n",
    "y_train = np.array(y_values, dtype=np.float32)\n",
    "y_train = y_train.reshape(-1, 1)"
   ]
  },
  {
   "cell_type": "code",
   "execution_count": null,
   "metadata": {},
   "outputs": [],
   "source": []
  },
  {
   "cell_type": "code",
   "execution_count": 67,
   "metadata": {},
   "outputs": [
    {
     "name": "stdout",
     "output_type": "stream",
     "text": [
      "(200, 1)\n",
      "(200, 1)\n"
     ]
    }
   ],
   "source": [
    "print(x_train.shape)\n",
    "print(y_train.shape)"
   ]
  },
  {
   "cell_type": "code",
   "execution_count": 68,
   "metadata": {},
   "outputs": [
    {
     "data": {
      "text/plain": [
       "<matplotlib.collections.PathCollection at 0x223a92af9d0>"
      ]
     },
     "execution_count": 68,
     "metadata": {},
     "output_type": "execute_result"
    },
    {
     "data": {
      "image/png": "[encoded data removed]",
      "text/plain": [
       "<Figure size 432x288 with 1 Axes>"
      ]
     },
     "metadata": {
      "needs_background": "light"
     },
     "output_type": "display_data"
    }
   ],
   "source": [
    "plt.scatter(x_train, y_train)"
   ]
  },
  {
   "cell_type": "code",
   "execution_count": 69,
   "metadata": {},
   "outputs": [],
   "source": [
    "class linearRegression(torch.nn.Module):\n",
    "    def __init__(self, inputSize, hiddenSize, outputSize):\n",
    "        super(linearRegression, self).__init__()\n",
    "        self.linear = nn.Sequential(torch.nn.Linear(inputSize, hiddenSize),\n",
    "                                    torch.nn.Linear(hiddenSize, outputSize))\n",
    "                                    \n",
    "\n",
    "    def forward(self, x):\n",
    "        out = self.linear(x)\n",
    "        return out"
   ]
  },
  {
   "cell_type": "code",
   "execution_count": 70,
   "metadata": {},
   "outputs": [],
   "source": [
    "inputDim = 1\n",
    "hidden_sizes = 128\n",
    "outputDim = 1      \n",
    "learningRate = 0.01 \n",
    "epochs = 100\n",
    "\n",
    "model = linearRegression(inputDim, hidden_sizes, outputDim)\n",
    "if torch.cuda.is_available():\n",
    "    model.cuda()"
   ]
  },
  {
   "cell_type": "code",
   "execution_count": 71,
   "metadata": {
    "scrolled": true
   },
   "outputs": [],
   "source": [
    "criterion = torch.nn.MSELoss() \n",
    "optimizer = torch.optim.SGD(model.parameters(), lr=learningRate)"
   ]
  },
  {
   "cell_type": "code",
   "execution_count": 72,
   "metadata": {},
   "outputs": [
    {
     "name": "stdout",
     "output_type": "stream",
     "text": [
      "tensor(43.9202, grad_fn=<MseLossBackward>)\n",
      "epoch 99, loss 43.9201545715332\n",
      "tensor(37.1758, grad_fn=<MseLossBackward>)\n",
      "epoch 99, loss 37.175758361816406\n",
      "tensor(47.5523, grad_fn=<MseLossBackward>)\n",
      "epoch 99, loss 47.552303314208984\n",
      "tensor(44.6813, grad_fn=<MseLossBackward>)\n",
      "epoch 99, loss 44.6812858581543\n",
      "tensor(47.0410, grad_fn=<MseLossBackward>)\n",
      "epoch 99, loss 47.04100036621094\n",
      "tensor(37.3937, grad_fn=<MseLossBackward>)\n",
      "epoch 99, loss 37.393714904785156\n",
      "tensor(43.1932, grad_fn=<MseLossBackward>)\n",
      "epoch 99, loss 43.193206787109375\n",
      "tensor(45.9719, grad_fn=<MseLossBackward>)\n",
      "epoch 99, loss 45.97187423706055\n",
      "tensor(44.5319, grad_fn=<MseLossBackward>)\n",
      "epoch 99, loss 44.53193664550781\n",
      "tensor(45.6454, grad_fn=<MseLossBackward>)\n",
      "epoch 99, loss 45.64540100097656\n",
      "tensor(49.6409, grad_fn=<MseLossBackward>)\n",
      "epoch 99, loss 49.64088821411133\n",
      "tensor(48.2351, grad_fn=<MseLossBackward>)\n",
      "epoch 99, loss 48.23514175415039\n",
      "tensor(46.6169, grad_fn=<MseLossBackward>)\n",
      "epoch 99, loss 46.61687088012695\n",
      "tensor(48.6374, grad_fn=<MseLossBackward>)\n",
      "epoch 99, loss 48.63740539550781\n",
      "tensor(40.1209, grad_fn=<MseLossBackward>)\n",
      "epoch 99, loss 40.12092590332031\n",
      "tensor(47.1170, grad_fn=<MseLossBackward>)\n",
      "epoch 99, loss 47.117008209228516\n",
      "tensor(44.9124, grad_fn=<MseLossBackward>)\n",
      "epoch 99, loss 44.912437438964844\n",
      "tensor(41.5905, grad_fn=<MseLossBackward>)\n",
      "epoch 99, loss 41.59050369262695\n",
      "tensor(39.6982, grad_fn=<MseLossBackward>)\n",
      "epoch 99, loss 39.69816207885742\n",
      "tensor(39.7687, grad_fn=<MseLossBackward>)\n",
      "epoch 99, loss 39.768653869628906\n",
      "tensor(46.2449, grad_fn=<MseLossBackward>)\n",
      "epoch 99, loss 46.24492645263672\n",
      "tensor(41.6753, grad_fn=<MseLossBackward>)\n",
      "epoch 99, loss 41.6753044128418\n",
      "tensor(46.4109, grad_fn=<MseLossBackward>)\n",
      "epoch 99, loss 46.410850524902344\n",
      "tensor(43.0394, grad_fn=<MseLossBackward>)\n",
      "epoch 99, loss 43.03941345214844\n",
      "tensor(50.5254, grad_fn=<MseLossBackward>)\n",
      "epoch 99, loss 50.52542495727539\n",
      "tensor(44.2235, grad_fn=<MseLossBackward>)\n",
      "epoch 99, loss 44.22347640991211\n"
     ]
    }
   ],
   "source": [
    "for p in range(2, hidden_sizes, 5):\n",
    "    model = linearRegression(inputDim, p, outputDim)\n",
    "    for epoch in range(epochs):\n",
    "        if torch.cuda.is_available():\n",
    "            inputs = Variable(torch.from_numpy(x_train).cuda())\n",
    "            labels = Variable(torch.from_numpy(y_train).cuda())\n",
    "        else:\n",
    "            inputs = Variable(torch.from_numpy(x_train))\n",
    "            labels = Variable(torch.from_numpy(y_train))\n",
    "    optimizer.zero_grad()\n",
    "    outputs = model(inputs)\n",
    "    loss = criterion(outputs, labels)\n",
    "    print(loss)\n",
    "    loss.backward()\n",
    "    optimizer.step()\n",
    "\n",
    "    print('epoch {}, loss {}'.format(epoch, loss.item()))"
   ]
  },
  {
   "cell_type": "code",
   "execution_count": 73,
   "metadata": {
    "scrolled": true
   },
   "outputs": [
    {
     "name": "stdout",
     "output_type": "stream",
     "text": [
      "[[-0.0378762 ]\n",
      " [ 0.00581262]\n",
      " [-0.06313883]\n",
      " [-0.01727003]\n",
      " [-0.00654939]\n",
      " [-0.04880169]\n",
      " [-0.04807705]\n",
      " [-0.0087586 ]\n",
      " [-0.02589917]\n",
      " [ 0.033452  ]\n",
      " [-0.05571005]\n",
      " [-0.05155548]\n",
      " [-0.05054043]\n",
      " [ 0.02763274]\n",
      " [-0.01670697]\n",
      " [-0.02554235]\n",
      " [-0.03614217]\n",
      " [-0.03308418]\n",
      " [-0.06020734]\n",
      " [ 0.01516661]\n",
      " [-0.02016103]\n",
      " [-0.00824752]\n",
      " [-0.03056987]\n",
      " [-0.0400313 ]\n",
      " [-0.06012827]\n",
      " [-0.01315308]\n",
      " [-0.04324055]\n",
      " [ 0.02226552]\n",
      " [-0.0206745 ]\n",
      " [-0.05331686]\n",
      " [-0.01503128]\n",
      " [-0.03435467]\n",
      " [-0.0530175 ]\n",
      " [-0.05297431]\n",
      " [-0.04818553]\n",
      " [-0.02227804]\n",
      " [-0.02876422]\n",
      " [-0.01700351]\n",
      " [-0.04760632]\n",
      " [-0.08832216]\n",
      " [-0.02748924]\n",
      " [-0.01060024]\n",
      " [-0.02643648]\n",
      " [ 0.02904466]\n",
      " [-0.03199875]\n",
      " [-0.00190899]\n",
      " [-0.02189165]\n",
      " [-0.02596733]\n",
      " [-0.04533929]\n",
      " [-0.03114401]\n",
      " [-0.04758875]\n",
      " [ 0.01250982]\n",
      " [ 0.01135787]\n",
      " [-0.02283451]\n",
      " [-0.01107863]\n",
      " [-0.02168608]\n",
      " [-0.0347905 ]\n",
      " [-0.02455339]\n",
      " [-0.04035453]\n",
      " [-0.06610727]\n",
      " [ 0.00011674]\n",
      " [-0.02363798]\n",
      " [-0.03358027]\n",
      " [-0.02000722]\n",
      " [-0.05265543]\n",
      " [ 0.03759819]\n",
      " [-0.07885179]\n",
      " [ 0.00454214]\n",
      " [-0.03105508]\n",
      " [-0.04400705]\n",
      " [-0.00484511]\n",
      " [-0.03762978]\n",
      " [-0.04399411]\n",
      " [-0.03924468]\n",
      " [-0.00114429]\n",
      " [-0.07825363]\n",
      " [-0.03145134]\n",
      " [ 0.00480577]\n",
      " [-0.04209541]\n",
      " [-0.02652508]\n",
      " [-0.03769115]\n",
      " [ 0.06816402]\n",
      " [-0.06020591]\n",
      " [-0.02949789]\n",
      " [-0.02981061]\n",
      " [-0.01418361]\n",
      " [-0.04565348]\n",
      " [-0.05137081]\n",
      " [-0.03260431]\n",
      " [-0.06206866]\n",
      " [-0.02758497]\n",
      " [-0.01497543]\n",
      " [ 0.00152573]\n",
      " [-0.01011992]\n",
      " [-0.04694706]\n",
      " [-0.02333307]\n",
      " [-0.01642609]\n",
      " [-0.03937033]\n",
      " [ 0.00260681]\n",
      " [-0.01203427]\n",
      " [-0.03313971]\n",
      " [-0.04037547]\n",
      " [-0.03872132]\n",
      " [-0.03298438]\n",
      " [-0.03821397]\n",
      " [-0.06131952]\n",
      " [-0.0049589 ]\n",
      " [-0.01318696]\n",
      " [-0.05766901]\n",
      " [ 0.00818139]\n",
      " [-0.04849458]\n",
      " [ 0.01947176]\n",
      " [-0.01364034]\n",
      " [-0.04517502]\n",
      " [-0.02012727]\n",
      " [-0.02069902]\n",
      " [-0.04337461]\n",
      " [ 0.0223043 ]\n",
      " [-0.02672371]\n",
      " [-0.0358634 ]\n",
      " [-0.01895776]\n",
      " [-0.00925305]\n",
      " [-0.0075402 ]\n",
      " [-0.03695166]\n",
      " [ 0.01926917]\n",
      " [-0.03583354]\n",
      " [-0.01288983]\n",
      " [-0.01762834]\n",
      " [-0.04372799]\n",
      " [-0.04332134]\n",
      " [-0.03178227]\n",
      " [-0.02946101]\n",
      " [-0.04693487]\n",
      " [-0.07524957]\n",
      " [-0.0422965 ]\n",
      " [-0.00020418]\n",
      " [ 0.02931499]\n",
      " [-0.07621437]\n",
      " [ 0.02011904]\n",
      " [-0.05729604]\n",
      " [-0.04644357]\n",
      " [-0.01550511]\n",
      " [-0.0439503 ]\n",
      " [-0.0031392 ]\n",
      " [-0.05641375]\n",
      " [-0.01170686]\n",
      " [-0.04390684]\n",
      " [-0.05135155]\n",
      " [-0.02228767]\n",
      " [-0.08766004]\n",
      " [-0.03852554]\n",
      " [-0.04642157]\n",
      " [-0.01302925]\n",
      " [-0.02399668]\n",
      " [-0.06117019]\n",
      " [-0.00433531]\n",
      " [ 0.030323  ]\n",
      " [-0.01672211]\n",
      " [-0.00218335]\n",
      " [-0.03426957]\n",
      " [-0.03959365]\n",
      " [-0.00593847]\n",
      " [-0.01707157]\n",
      " [-0.00140858]\n",
      " [-0.00289431]\n",
      " [-0.03142568]\n",
      " [-0.04201116]\n",
      " [-0.03038785]\n",
      " [-0.05051827]\n",
      " [-0.05145536]\n",
      " [-0.02357849]\n",
      " [-0.01101661]\n",
      " [-0.00083169]\n",
      " [ 0.00707668]\n",
      " [-0.02915764]\n",
      " [-0.01962566]\n",
      " [-0.08129825]\n",
      " [-0.02870005]\n",
      " [ 0.01155379]\n",
      " [-0.06288341]\n",
      " [ 0.03095987]\n",
      " [ 0.009927  ]\n",
      " [-0.0350413 ]\n",
      " [-0.02509901]\n",
      " [-0.05892572]\n",
      " [ 0.01260856]\n",
      " [ 0.00593221]\n",
      " [-0.00993228]\n",
      " [-0.01459333]\n",
      " [ 0.0119839 ]\n",
      " [-0.03098971]\n",
      " [-0.00990537]\n",
      " [ 0.01322746]\n",
      " [-0.0019241 ]\n",
      " [-0.05450946]\n",
      " [-0.0141454 ]\n",
      " [-0.02125195]\n",
      " [-0.04885407]\n",
      " [-0.03306538]\n",
      " [ 0.00214821]]\n"
     ]
    }
   ],
   "source": [
    "with torch.no_grad(): \n",
    "    if torch.cuda.is_available():\n",
    "        predicted = model(Variable(torch.from_numpy(x_train).cuda())).cpu().data.numpy()\n",
    "    else:\n",
    "        predicted = model(Variable(torch.from_numpy(x_train))).data.numpy()\n",
    "    print(predicted)"
   ]
  },
  {
   "cell_type": "code",
   "execution_count": 74,
   "metadata": {},
   "outputs": [
    {
     "data": {
      "image/png": "[encoded data removed]",
      "text/plain": [
       "<Figure size 432x288 with 1 Axes>"
      ]
     },
     "metadata": {
      "needs_background": "light"
     },
     "output_type": "display_data"
    }
   ],
   "source": [
    "plt.clf()\n",
    "plt.plot(x_train, y_train, 'go', label='True data', alpha=0.5)\n",
    "plt.plot(x_train, predicted, '--', label='Predictions', alpha=0.5)\n",
    "plt.legend(loc='best')\n",
    "plt.show()"
   ]
  },
  {
   "cell_type": "code",
   "execution_count": null,
   "metadata": {},
   "outputs": [],
   "source": []
  },
  {
   "cell_type": "code",
   "execution_count": null,
   "metadata": {},
   "outputs": [],
   "source": []
  },
  {
   "cell_type": "code",
   "execution_count": null,
   "metadata": {},
   "outputs": [],
   "source": []
  },
  {
   "cell_type": "code",
   "execution_count": null,
   "metadata": {},
   "outputs": [],
   "source": []
  },
  {
   "cell_type": "code",
   "execution_count": null,
   "metadata": {},
   "outputs": [],
   "source": []
  },
  {
   "cell_type": "code",
   "execution_count": null,
   "metadata": {},
   "outputs": [],
   "source": []
  }
 ],
 "metadata": {
  "kernelspec": {
   "display_name": "Python 3",
   "language": "python",
   "name": "python3"
  },
  "language_info": {
   "codemirror_mode": {
    "name": "ipython",
    "version": 3
   },
   "file_extension": ".py",
   "mimetype": "text/x-python",
   "name": "python",
   "nbconvert_exporter": "python",
   "pygments_lexer": "ipython3",
   "version": "3.8.3"
  }
 },
 "nbformat": 4,
 "nbformat_minor": 2
}
