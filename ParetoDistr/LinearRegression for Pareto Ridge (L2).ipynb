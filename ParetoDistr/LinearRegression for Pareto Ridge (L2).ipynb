{
 "cells": [
  {
   "cell_type": "markdown",
   "metadata": {},
   "source": [
    "# Exercise 2"
   ]
  },
  {
   "cell_type": "code",
   "execution_count": 1,
   "metadata": {},
   "outputs": [],
   "source": [
    "import numpy as np\n",
    "from sklearn.linear_model import LinearRegression\n",
    "from sklearn.linear_model import Ridge\n",
    "from sklearn.metrics import mean_squared_error\n",
    "from scipy.stats import genpareto\n",
    "%matplotlib inline\n",
    "import matplotlib\n",
    "import matplotlib.pyplot as plt\n",
    "import csv\n",
    "\n",
    "np.random.seed(1234)"
   ]
  },
  {
   "cell_type": "code",
   "execution_count": 2,
   "metadata": {},
   "outputs": [],
   "source": [
    "def make_data(n, p, mean=0, cov=1):\n",
    "    mean_vector = np.full((p,), mean)\n",
    "    \n",
    "    cov_diag = np.full((p,), cov)\n",
    "    cov_matrix = np.diagflat(cov_diag)\n",
    "   \n",
    "    a, m = 3., 2. \n",
    "    observations_x = ((np.random.pareto(a, n*p) + 1) * m).reshape(n, p)\n",
    "    \n",
    "    observations_y = np.random.randn(n)\n",
    "    \n",
    "    \n",
    "    return observations_x, observations_y"
   ]
  },
  {
   "cell_type": "code",
   "execution_count": 3,
   "metadata": {},
   "outputs": [],
   "source": [
    "def linear_regression(train_X, train_Y, test_X, test_Y):\n",
    "    regression_model = Ridge(alpha=1)\n",
    "    regression_model.fit(train_X, train_Y)\n",
    "\n",
    "    train_results = regression_model.predict(train_X)\n",
    "    test_results = regression_model.predict(test_X)\n",
    "\n",
    "    train_error = mean_squared_error(train_Y, train_results)\n",
    "    test_error = mean_squared_error(test_Y, test_results)\n",
    "    parameters_norm = np.linalg.norm(regression_model.coef_)\n",
    "    \n",
    "    return train_error, test_error, parameters_norm"
   ]
  },
  {
   "cell_type": "code",
   "execution_count": 4,
   "metadata": {},
   "outputs": [],
   "source": [
    "def test_regression(train_X, train_Y, test_X, test_Y, p):\n",
    "    train_X = train_X[:,:p]\n",
    "    test_X = test_X[:,:p]\n",
    "    \n",
    "    train_error, test_error, parameters_norm = linear_regression(train_X, train_Y, test_X, test_Y)\n",
    "    \n",
    "    return train_error, test_error, parameters_norm"
   ]
  },
  {
   "cell_type": "code",
   "execution_count": 5,
   "metadata": {},
   "outputs": [
    {
     "data": {
      "image/png": "[encoded data removed]",
      "text/plain": [
       "<Figure size 432x288 with 1 Axes>"
      ]
     },
     "metadata": {
      "needs_background": "light"
     },
     "output_type": "display_data"
    }
   ],
   "source": [
    "a, m = 3., 2.\n",
    "observations_x = ((np.random.pareto(a, 1000) + 1) * m)\n",
    "count, bins, _ = plt.hist(observations_x, 100, density=True)\n",
    "fit = a*m**a / bins**(a+1)\n",
    "plt.plot(bins, max(count)*fit/max(fit), linewidth=2, color='r')\n",
    "plt.show()"
   ]
  },
  {
   "cell_type": "code",
   "execution_count": 6,
   "metadata": {},
   "outputs": [
    {
     "name": "stdout",
     "output_type": "stream",
     "text": [
      "p: 1 | train loss: 0.93665; test loss: 0.81130; norm: 0.04447\n",
      "p: 51 | train loss: 0.68048; test loss: 1.57902; norm: 0.45220\n",
      "p: 101 | train loss: 0.46078; test loss: 2.36274; norm: 0.64794\n",
      "p: 151 | train loss: 0.17126; test loss: 4.29451; norm: 1.06869\n",
      "p: 201 | train loss: 0.02088; test loss: 8.10738; norm: 1.86726\n",
      "p: 251 | train loss: 0.00027; test loss: 4.18731; norm: 1.23821\n",
      "p: 301 | train loss: 0.00004; test loss: 2.60836; norm: 0.84247\n",
      "p: 351 | train loss: 0.00001; test loss: 1.85458; norm: 0.68239\n",
      "p: 401 | train loss: 0.00001; test loss: 1.74660; norm: 0.59364\n",
      "p: 451 | train loss: 0.00000; test loss: 1.37551; norm: 0.54277\n",
      "p: 501 | train loss: 0.00000; test loss: 1.26408; norm: 0.49203\n",
      "p: 551 | train loss: 0.00000; test loss: 1.06484; norm: 0.45413\n",
      "p: 601 | train loss: 0.00000; test loss: 1.00810; norm: 0.42072\n",
      "p: 651 | train loss: 0.00000; test loss: 1.00700; norm: 0.39735\n",
      "p: 701 | train loss: 0.00000; test loss: 1.02057; norm: 0.38132\n",
      "p: 751 | train loss: 0.00000; test loss: 1.00225; norm: 0.36380\n",
      "p: 801 | train loss: 0.00000; test loss: 0.91573; norm: 0.35028\n",
      "p: 851 | train loss: 0.00000; test loss: 0.90711; norm: 0.33339\n",
      "p: 901 | train loss: 0.00000; test loss: 0.88954; norm: 0.31755\n",
      "p: 951 | train loss: 0.00000; test loss: 0.88052; norm: 0.30809\n"
     ]
    }
   ],
   "source": [
    "n_train = 200\n",
    "n_test = 100\n",
    "max_features = 1000\n",
    "\n",
    "train_X, train_Y = make_data(n_train, max_features, mean=0, cov=1)\n",
    "test_X, test_Y = make_data(n_test, max_features, mean=0, cov=1)\n",
    "\n",
    "ps = []\n",
    "train_errors = []\n",
    "test_errors = []\n",
    "parameters_norms = []\n",
    "with open('linear_regression_results.csv', 'w', newline='') as fout:\n",
    "    writer = csv.DictWriter(fout, fieldnames=['# parameters', 'train loss', 'test loss', 'parameters norm'])\n",
    "    writer.writeheader()\n",
    "    for p in range(1, max_features, 50):\n",
    "        train_error, test_error, parameters_norm = test_regression(train_X, train_Y, test_X, test_Y, p)\n",
    "        ps.append(p)\n",
    "        train_errors.append(train_error)\n",
    "        test_errors.append(test_error)\n",
    "        parameters_norms.append(parameters_norm)\n",
    "\n",
    "        print('p: {} | train loss: {:.5f}; test loss: {:.5f}; norm: {:.5f}'.format(p, train_error, test_error, parameters_norm))\n",
    "\n",
    "        writer.writerow({\n",
    "            '# parameters': p,\n",
    "            'train loss': train_error,\n",
    "            'test loss': test_error,\n",
    "            'parameters norm': parameters_norm\n",
    "        })"
   ]
  },
  {
   "cell_type": "code",
   "execution_count": 7,
   "metadata": {},
   "outputs": [
    {
     "data": {
      "image/png": "[encoded data removed]",
      "text/plain": [
       "<Figure size 432x288 with 1 Axes>"
      ]
     },
     "metadata": {
      "needs_background": "light"
     },
     "output_type": "display_data"
    }
   ],
   "source": [
    "fig, ax = plt.subplots()\n",
    "ax.plot(ps, train_errors)\n",
    "plt.plot(ps, test_errors)\n",
    "\n",
    "ax.set(xlabel='Number of Features (p)', ylabel='Mean Squared Loss',\n",
    "       title='Train Loss')\n",
    "ax.grid()"
   ]
  },
  {
   "cell_type": "code",
   "execution_count": 14,
   "metadata": {},
   "outputs": [
    {
     "data": {
      "text/plain": [
       "(0.0, 30.0)"
      ]
     },
     "execution_count": 14,
     "metadata": {},
     "output_type": "execute_result"
    },
    {
     "data": {
      "image/png": "[encoded data removed]",
      "text/plain": [
       "<Figure size 432x288 with 1 Axes>"
      ]
     },
     "metadata": {
      "needs_background": "light"
     },
     "output_type": "display_data"
    }
   ],
   "source": [
    "plt.xlabel('Number of Features (p)')\n",
    "plt.ylabel('Mean Squared Loss')\n",
    "plt.title('Test Loss')\n",
    "plt.plot(ps, test_errors)\n",
    "plt.ylim(0, 30)"
   ]
  },
  {
   "cell_type": "code",
   "execution_count": 15,
   "metadata": {},
   "outputs": [
    {
     "data": {
      "text/plain": [
       "(0.0, 5.0)"
      ]
     },
     "execution_count": 15,
     "metadata": {},
     "output_type": "execute_result"
    },
    {
     "data": {
      "image/png": "[encoded data removed]",
      "text/plain": [
       "<Figure size 432x288 with 1 Axes>"
      ]
     },
     "metadata": {
      "needs_background": "light"
     },
     "output_type": "display_data"
    }
   ],
   "source": [
    "plt.xlabel('Number of Features (p)')\n",
    "plt.ylabel('Norm')\n",
    "plt.title('Norm of Model’s Parameter Vector')\n",
    "plt.plot(ps, parameters_norms)\n",
    "plt.ylim(0, 5)"
   ]
  },
  {
   "cell_type": "code",
   "execution_count": null,
   "metadata": {},
   "outputs": [],
   "source": []
  }
 ],
 "metadata": {
  "kernelspec": {
   "display_name": "Python 3",
   "language": "python",
   "name": "python3"
  },
  "language_info": {
   "codemirror_mode": {
    "name": "ipython",
    "version": 3
   },
   "file_extension": ".py",
   "mimetype": "text/x-python",
   "name": "python",
   "nbconvert_exporter": "python",
   "pygments_lexer": "ipython3",
   "version": "3.8.3"
  }
 },
 "nbformat": 4,
 "nbformat_minor": 2
}
