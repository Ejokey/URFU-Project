{
 "cells": [
  {
   "cell_type": "markdown",
   "metadata": {},
   "source": [
    "# Exercise 2"
   ]
  },
  {
   "cell_type": "code",
   "execution_count": 27,
   "metadata": {},
   "outputs": [],
   "source": [
    "import numpy as np\n",
    "from sklearn.linear_model import LinearRegression\n",
    "from sklearn.metrics import mean_squared_error\n",
    "from scipy.stats import multivariate_normal\n",
    "%matplotlib inline\n",
    "import matplotlib\n",
    "import matplotlib.pyplot as plt\n",
    "import csv\n",
    "\n",
    "np.random.seed(1234)"
   ]
  },
  {
   "cell_type": "code",
   "execution_count": 46,
   "metadata": {},
   "outputs": [],
   "source": [
    "def make_data(n, p, mean=0, cov=1):\n",
    "    mean_vector = np.full((p,), mean)\n",
    "    \n",
    "    cov_diag = np.full((p,), cov)\n",
    "    cov_matrix = np.diagflat(cov_diag)\n",
    "    \n",
    "    observations_x = (np.linspace(0, 1, num = n*p)).reshape(n, p)\n",
    "    w = (np.random.normal(0, 0.1, n*p)).reshape(n, p)\n",
    "    y = w * observations_x + 6\n",
    "    r = np.random.multivariate_normal(mean_vector, cov_matrix, n)    \n",
    "    observations_y = y + r\n",
    "    \n",
    "    return observations_x, observations_y"
   ]
  },
  {
   "cell_type": "code",
   "execution_count": 47,
   "metadata": {},
   "outputs": [],
   "source": [
    "def linear_regression(train_X, train_Y, test_X, test_Y):\n",
    "    regression_model = LinearRegression().fit(train_X, train_Y)\n",
    "\n",
    "    train_results = regression_model.predict(train_X)\n",
    "    test_results = regression_model.predict(test_X)\n",
    "\n",
    "    train_error = mean_squared_error(train_Y, train_results)\n",
    "    test_error = mean_squared_error(test_Y, test_results)\n",
    "    parameters_norm = np.linalg.norm(regression_model.coef_)\n",
    "    \n",
    "    return train_error, test_error, parameters_norm"
   ]
  },
  {
   "cell_type": "code",
   "execution_count": 48,
   "metadata": {},
   "outputs": [],
   "source": [
    "def test_regression(train_X, train_Y, test_X, test_Y, p):\n",
    "    train_X = train_X[:,:p]\n",
    "    test_X = test_X[:,:p]\n",
    "    \n",
    "    train_error, test_error, parameters_norm = linear_regression(train_X, train_Y, test_X, test_Y)\n",
    "    \n",
    "    return train_error, test_error, parameters_norm"
   ]
  },
  {
   "cell_type": "code",
   "execution_count": 49,
   "metadata": {},
   "outputs": [
    {
     "name": "stdout",
     "output_type": "stream",
     "text": [
      "p: 1 | train loss: 0.99415; test loss: 1.02087; norm: 7.99170\n",
      "p: 51 | train loss: 0.99449; test loss: 2904122835436469760.00000; norm: 2400340828344507.00000\n",
      "p: 101 | train loss: 0.99438; test loss: 156248815825909776384.00000; norm: 1947310743703311.00000\n",
      "p: 151 | train loss: 1.02270; test loss: 269187471369410248704.00000; norm: 4717762634082532.00000\n",
      "p: 201 | train loss: 1.03039; test loss: 3074350724406539452416.00000; norm: 4394027234175443.00000\n",
      "p: 251 | train loss: 1.24235; test loss: 1594496807580517531648.00000; norm: 3389821627604610.00000\n",
      "p: 301 | train loss: 1.07476; test loss: 10536984319329818378240.00000; norm: 3634333757446075.50000\n",
      "p: 351 | train loss: 1.03188; test loss: 351126974564478943232.00000; norm: 580151778586835.87500\n",
      "p: 401 | train loss: 1.06285; test loss: 1474312481082359676928.00000; norm: 1789130210939783.00000\n",
      "p: 451 | train loss: 1.62305; test loss: 699487981314115502080.00000; norm: 626656004730403.75000\n",
      "p: 501 | train loss: 1.15362; test loss: 469026556585954836480.00000; norm: 500871696727576.87500\n",
      "p: 551 | train loss: 1.03325; test loss: 621368815079078363136.00000; norm: 499651350794012.75000\n",
      "p: 601 | train loss: 1.19427; test loss: 914044113108120240128.00000; norm: 880475927204408.50000\n",
      "p: 651 | train loss: 1.70505; test loss: 745496940233592012800.00000; norm: 489402709206085.93750\n",
      "p: 701 | train loss: 1.05098; test loss: 711825649052236513280.00000; norm: 409199126024003.37500\n",
      "p: 751 | train loss: 2.08686; test loss: 632816457276824748032.00000; norm: 366579881282737.93750\n",
      "p: 801 | train loss: 1.10627; test loss: 1378463367949974503424.00000; norm: 506330682127438.75000\n",
      "p: 851 | train loss: 3.36003; test loss: 1392689509567073615872.00000; norm: 446039180498751.31250\n",
      "p: 901 | train loss: 2.37085; test loss: 11660046896633688883200.00000; norm: 1076091766749295.62500\n",
      "p: 951 | train loss: 1.43095; test loss: 851848831322691076096.00000; norm: 357897834348960.00000\n"
     ]
    }
   ],
   "source": [
    "n_train = 200\n",
    "n_test = 100\n",
    "max_features = 1000\n",
    "\n",
    "train_X, train_Y = make_data(n_train, max_features, mean=0, cov=1)\n",
    "test_X, test_Y = make_data(n_test, max_features, mean=0, cov=1)\n",
    "\n",
    "ps = []\n",
    "train_errors = []\n",
    "test_errors = []\n",
    "parameters_norms = []\n",
    "with open('linear_regression_results.csv', 'w', newline='') as fout:\n",
    "    writer = csv.DictWriter(fout, fieldnames=['# parameters', 'train loss', 'test loss', 'parameters norm'])\n",
    "    writer.writeheader()\n",
    "    for p in range(1, max_features, 50):\n",
    "        train_error, test_error, parameters_norm = test_regression(train_X, train_Y, test_X, test_Y, p)\n",
    "        ps.append(p)\n",
    "        train_errors.append(train_error)\n",
    "        test_errors.append(test_error)\n",
    "        parameters_norms.append(parameters_norm)\n",
    "\n",
    "        print('p: {} | train loss: {:.5f}; test loss: {:.5f}; norm: {:.5f}'.format(p, train_error, test_error, parameters_norm))\n",
    "\n",
    "        writer.writerow({\n",
    "            '# parameters': p,\n",
    "            'train loss': train_error,\n",
    "            'test loss': test_error,\n",
    "            'parameters norm': parameters_norm\n",
    "        })"
   ]
  },
  {
   "cell_type": "code",
   "execution_count": 50,
   "metadata": {},
   "outputs": [
    {
     "data": {
      "image/png": "[encoded data removed]",
      "text/plain": [
       "<Figure size 432x288 with 1 Axes>"
      ]
     },
     "metadata": {
      "needs_background": "light"
     },
     "output_type": "display_data"
    }
   ],
   "source": [
    "fig, ax = plt.subplots()\n",
    "plt.plot(ps, test_errors)\n",
    "ax.plot(ps, train_errors)\n",
    "\n",
    "ax.set(xlabel='Number of Features (p)', ylabel='Mean Squared Loss',\n",
    "       title='Test and Train Loss')\n",
    "ax.grid()"
   ]
  },
  {
   "cell_type": "code",
   "execution_count": 13,
   "metadata": {},
   "outputs": [
    {
     "data": {
      "text/plain": [
       "(0.0, 30.0)"
      ]
     },
     "execution_count": 13,
     "metadata": {},
     "output_type": "execute_result"
    },
    {
     "data": {
      "image/png": "[encoded data removed]",
      "text/plain": [
       "<Figure size 432x288 with 1 Axes>"
      ]
     },
     "metadata": {
      "needs_background": "light"
     },
     "output_type": "display_data"
    }
   ],
   "source": [
    "plt.xlabel('Number of Features (p)')\n",
    "plt.ylabel('Mean Squared Loss')\n",
    "plt.title('Test Loss')\n",
    "plt.plot(ps, test_errors)\n",
    "plt.ylim(0, 30)"
   ]
  },
  {
   "cell_type": "code",
   "execution_count": 142,
   "metadata": {},
   "outputs": [
    {
     "data": {
      "text/plain": [
       "(0.0, 5.0)"
      ]
     },
     "execution_count": 142,
     "metadata": {},
     "output_type": "execute_result"
    },
    {
     "data": {
      "image/png": "[encoded data removed]",
      "text/plain": [
       "<Figure size 432x288 with 1 Axes>"
      ]
     },
     "metadata": {
      "needs_background": "light"
     },
     "output_type": "display_data"
    }
   ],
   "source": [
    "plt.xlabel('Number of Features (p)')\n",
    "plt.ylabel('Norm')\n",
    "plt.title('Norm of Model’s Parameter Vector')\n",
    "plt.plot(ps, parameters_norms)\n",
    "plt.ylim(0, 5)"
   ]
  },
  {
   "cell_type": "code",
   "execution_count": null,
   "metadata": {},
   "outputs": [],
   "source": []
  },
  {
   "cell_type": "code",
   "execution_count": null,
   "metadata": {},
   "outputs": [],
   "source": []
  }
 ],
 "metadata": {
  "kernelspec": {
   "display_name": "Python 3",
   "language": "python",
   "name": "python3"
  },
  "language_info": {
   "codemirror_mode": {
    "name": "ipython",
    "version": 3
   },
   "file_extension": ".py",
   "mimetype": "text/x-python",
   "name": "python",
   "nbconvert_exporter": "python",
   "pygments_lexer": "ipython3",
   "version": "3.8.3"
  }
 },
 "nbformat": 4,
 "nbformat_minor": 2
}
