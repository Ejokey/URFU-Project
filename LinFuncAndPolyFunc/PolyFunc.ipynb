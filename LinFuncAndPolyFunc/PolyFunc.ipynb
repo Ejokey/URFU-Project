{
 "cells": [
  {
   "cell_type": "markdown",
   "metadata": {},
   "source": [
    "# Exercise 2"
   ]
  },
  {
   "cell_type": "code",
   "execution_count": 15,
   "metadata": {},
   "outputs": [],
   "source": [
    "import numpy as np\n",
    "from sklearn.linear_model import LinearRegression\n",
    "from sklearn.metrics import mean_squared_error\n",
    "from scipy.stats import multivariate_normal\n",
    "%matplotlib inline\n",
    "import matplotlib\n",
    "import matplotlib.pyplot as plt\n",
    "import csv\n",
    "\n",
    "np.random.seed(1234)"
   ]
  },
  {
   "cell_type": "code",
   "execution_count": 49,
   "metadata": {},
   "outputs": [],
   "source": [
    "def make_data(n, p, mean=0, cov=1):\n",
    "    mean_vector = np.full((p,), mean)\n",
    "    \n",
    "    cov_diag = np.full((p,), cov)\n",
    "    cov_matrix = np.diagflat(cov_diag)\n",
    "    \n",
    "    observations_x = np.random.multivariate_normal(mean_vector, cov_matrix, n)\n",
    "    k = 1\n",
    "    p = 101\n",
    "    y = ((3/10)**(k+p))*(observations_x**p)\n",
    "    #y = 1.6 * observations_x + 6\n",
    "    #a, m = 3., 2.\n",
    "    #r = ((np.random.pareto(a, n*p) + 1) * m).reshape(n, p)\n",
    "    #r = np.random.multivariate_normal(mean_vector, cov_matrix, n)\n",
    "    #r = ((np.random.weibull(p, n*p))).reshape(n, p)          \n",
    "    observations_y = y #+ r\n",
    "    #print(r.shape)\n",
    "    #print(observations_y.shape)\n",
    "    \n",
    "    return observations_x, observations_y"
   ]
  },
  {
   "cell_type": "code",
   "execution_count": null,
   "metadata": {},
   "outputs": [],
   "source": []
  },
  {
   "cell_type": "code",
   "execution_count": 50,
   "metadata": {},
   "outputs": [],
   "source": [
    "def linear_regression(train_X, train_Y, test_X, test_Y):\n",
    "    regression_model = LinearRegression().fit(train_X, train_Y)\n",
    "\n",
    "    train_results = regression_model.predict(train_X)\n",
    "    test_results = regression_model.predict(test_X)\n",
    "\n",
    "    train_error = mean_squared_error(train_Y, train_results)\n",
    "    test_error = mean_squared_error(test_Y, test_results)\n",
    "    parameters_norm = np.linalg.norm(regression_model.coef_)\n",
    "    \n",
    "    return train_error, test_error, parameters_norm"
   ]
  },
  {
   "cell_type": "code",
   "execution_count": 51,
   "metadata": {},
   "outputs": [],
   "source": [
    "def test_regression(train_X, train_Y, test_X, test_Y, p):\n",
    "    train_X = train_X[:,:p]\n",
    "    test_X = test_X[:,:p]\n",
    "    \n",
    "    train_error, test_error, parameters_norm = linear_regression(train_X, train_Y, test_X, test_Y)\n",
    "    \n",
    "    return train_error, test_error, parameters_norm"
   ]
  },
  {
   "cell_type": "code",
   "execution_count": 52,
   "metadata": {},
   "outputs": [
    {
     "name": "stdout",
     "output_type": "stream",
     "text": [
      "p: 1 | train loss: 133827652744056092147843072.00000; test loss: 3644012223804148620984320.00000; norm: 25917981762553.40234\n",
      "p: 51 | train loss: 86786865434559215233400832.00000; test loss: 83168600590411967359877120.00000; norm: 269415596308754.25000\n",
      "p: 101 | train loss: 47309513333931857382735872.00000; test loss: 290206519517272246579101696.00000; norm: 522909219570660.87500\n",
      "p: 151 | train loss: 0.13457; test loss: 131410273323888994264555716608.00000; norm: 10705096280040538.00000\n",
      "p: 201 | train loss: 0.00163; test loss: 772110138369899113104801792.00000; norm: 843064598360115.62500\n",
      "p: 251 | train loss: 0.00111; test loss: 279696860975003008122224640.00000; norm: 538402683317056.93750\n",
      "p: 301 | train loss: 0.00200; test loss: 153993180537186285174915072.00000; norm: 410770821958796.93750\n",
      "p: 351 | train loss: 0.00107; test loss: 108907475958534449049632768.00000; norm: 346143098948419.06250\n",
      "p: 401 | train loss: 0.00122; test loss: 95994038885509728273694720.00000; norm: 311315671275552.68750\n",
      "p: 451 | train loss: 0.00096; test loss: 98799145008354229890318336.00000; norm: 305747679556471.75000\n",
      "p: 501 | train loss: 0.00103; test loss: 75491060991323629011599360.00000; norm: 275319944684150.53125\n",
      "p: 551 | train loss: 0.00098; test loss: 56918046566104591369240576.00000; norm: 248912939476938.03125\n",
      "p: 601 | train loss: 0.00111; test loss: 50481929549604926611521536.00000; norm: 234815308208857.21875\n",
      "p: 651 | train loss: 0.00066; test loss: 45815238462233577340796928.00000; norm: 221134362409786.84375\n",
      "p: 701 | train loss: 0.00077; test loss: 42848831586732638071685120.00000; norm: 206070296578851.84375\n",
      "p: 751 | train loss: 0.00070; test loss: 39567505333142691063529472.00000; norm: 197813941590116.37500\n",
      "p: 801 | train loss: 0.00061; test loss: 35567194191390391568171008.00000; norm: 187667937663355.96875\n",
      "p: 851 | train loss: 0.00090; test loss: 31613149095063547681964032.00000; norm: 179580560381352.81250\n",
      "p: 901 | train loss: 0.00117; test loss: 29167313213114481383571456.00000; norm: 175801302004669.90625\n",
      "p: 951 | train loss: 0.00093; test loss: 31008395368997263075442688.00000; norm: 174353672063379.96875\n"
     ]
    }
   ],
   "source": [
    "n_train = 150\n",
    "n_test = 100\n",
    "max_features = 1000\n",
    "\n",
    "train_X, train_Y = make_data(n_train, max_features, mean=0, cov=1)\n",
    "test_X, test_Y = make_data(n_test, max_features, mean=0, cov=1)\n",
    "\n",
    "ps = []\n",
    "train_errors = []\n",
    "test_errors = []\n",
    "parameters_norms = []\n",
    "with open('linear_regression_results.csv', 'w', newline='') as fout:\n",
    "    writer = csv.DictWriter(fout, fieldnames=['# parameters', 'train loss', 'test loss', 'parameters norm'])\n",
    "    writer.writeheader()\n",
    "    for p in range(1, max_features, 50):\n",
    "        train_error, test_error, parameters_norm = test_regression(train_X, train_Y, test_X, test_Y, p)\n",
    "        ps.append(p)\n",
    "        train_errors.append(train_error)\n",
    "        test_errors.append(test_error)\n",
    "        parameters_norms.append(parameters_norm)\n",
    "\n",
    "        print('p: {} | train loss: {:.5f}; test loss: {:.5f}; norm: {:.5f}'.format(p, train_error, test_error, parameters_norm))\n",
    "\n",
    "        writer.writerow({\n",
    "            '# parameters': p,\n",
    "            'train loss': train_error,\n",
    "            'test loss': test_error,\n",
    "            'parameters norm': parameters_norm\n",
    "        })"
   ]
  },
  {
   "cell_type": "code",
   "execution_count": null,
   "metadata": {},
   "outputs": [],
   "source": []
  },
  {
   "cell_type": "code",
   "execution_count": 53,
   "metadata": {},
   "outputs": [
    {
     "data": {
      "image/png": "[encoded data removed]",
      "text/plain": [
       "<Figure size 432x288 with 1 Axes>"
      ]
     },
     "metadata": {
      "needs_background": "light"
     },
     "output_type": "display_data"
    }
   ],
   "source": [
    "fig, ax = plt.subplots()\n",
    "plt.plot(ps, test_errors)\n",
    "ax.plot(ps, train_errors)\n",
    "\n",
    "ax.set(xlabel='Number of Features (p)', ylabel='Mean Squared Loss',\n",
    "       title='Test and Train Loss')\n",
    "ax.grid()"
   ]
  },
  {
   "cell_type": "code",
   "execution_count": 48,
   "metadata": {},
   "outputs": [
    {
     "data": {
      "text/plain": [
       "(0.0, 30.0)"
      ]
     },
     "execution_count": 48,
     "metadata": {},
     "output_type": "execute_result"
    },
    {
     "data": {
      "image/png": "[encoded data removed]",
      "text/plain": [
       "<Figure size 432x288 with 1 Axes>"
      ]
     },
     "metadata": {
      "needs_background": "light"
     },
     "output_type": "display_data"
    }
   ],
   "source": [
    "plt.xlabel('Number of Features (p)')\n",
    "plt.ylabel('Mean Squared Loss')\n",
    "plt.title('Test Loss')\n",
    "plt.plot(ps, test_errors)\n",
    "plt.ylim(0, 30)"
   ]
  },
  {
   "cell_type": "code",
   "execution_count": 42,
   "metadata": {},
   "outputs": [
    {
     "data": {
      "text/plain": [
       "(0.0, 150.0)"
      ]
     },
     "execution_count": 42,
     "metadata": {},
     "output_type": "execute_result"
    },
    {
     "data": {
      "image/png": "[encoded data removed]",
      "text/plain": [
       "<Figure size 432x288 with 1 Axes>"
      ]
     },
     "metadata": {
      "needs_background": "light"
     },
     "output_type": "display_data"
    }
   ],
   "source": [
    "plt.xlabel('Number of Features (p)')\n",
    "plt.ylabel('Norm')\n",
    "plt.title('Norm of Model’s Parameter Vector')\n",
    "plt.plot(ps, parameters_norms)\n",
    "plt.ylim(0, 150)"
   ]
  },
  {
   "cell_type": "code",
   "execution_count": null,
   "metadata": {},
   "outputs": [],
   "source": []
  },
  {
   "cell_type": "code",
   "execution_count": null,
   "metadata": {},
   "outputs": [],
   "source": []
  }
 ],
 "metadata": {
  "kernelspec": {
   "display_name": "Python 3",
   "language": "python",
   "name": "python3"
  },
  "language_info": {
   "codemirror_mode": {
    "name": "ipython",
    "version": 3
   },
   "file_extension": ".py",
   "mimetype": "text/x-python",
   "name": "python",
   "nbconvert_exporter": "python",
   "pygments_lexer": "ipython3",
   "version": "3.8.3"
  }
 },
 "nbformat": 4,
 "nbformat_minor": 2
}
