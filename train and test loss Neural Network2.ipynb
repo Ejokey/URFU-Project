{
 "cells": [
  {
   "cell_type": "markdown",
   "metadata": {},
   "source": [
    "# Exercise 2"
   ]
  },
  {
   "cell_type": "markdown",
   "metadata": {},
   "source": [
    "## Instructions \n",
    "\n",
    "1. Generate train and test data.\n",
    "2. Define a class NN of one-hidden neural net. The __init__ function takes 3 parameters (inputsize, hiddensize, outputsize).\n",
    "\n",
    "2. Define a list hidden_size = [2, ...., 33, ....128] with a step 5. Be sure that list contains 33, which corresponds to the case of interpolation threshold, i.e. the number of parameters equals to the number of training points.\n",
    "3. \n",
    "\n",
    "for h in hidden_size:\n",
    "    define model(inputsize, hiddensize, outputsize)\n",
    "    for e in epochs:\n",
    "        forward step: output = model(input)\n",
    "        compute loss \n",
    "        backpropagate loss (use backward)\n",
    "        \n",
    "    get train loss (after training): train_out = model(input)\n",
    "    train_loss = criterion(train_out, labels)\n",
    "    get test_loss: test_out = model(input)\n",
    "    test_loss = criterion(test_out, labels)\n",
    "       \n",
    "4. Plot saved list of train and test losses, x axis reveals each h, y axis is loss values.\n",
    "     "
   ]
  },
  {
   "cell_type": "code",
   "execution_count": 1,
   "metadata": {},
   "outputs": [],
   "source": [
    "import numpy as np\n",
    "from sklearn.linear_model import LinearRegression\n",
    "from sklearn.metrics import mean_squared_error\n",
    "from scipy.stats import multivariate_normal\n",
    "%matplotlib inline\n",
    "import matplotlib\n",
    "import matplotlib.pyplot as plt\n",
    "import csv\n",
    "import torch\n",
    "from torch.autograd import Variable\n",
    "import torch.nn as nn\n",
    "from sklearn import datasets\n",
    "from sklearn.model_selection import train_test_split\n",
    "\n",
    "np.random.seed(1234)"
   ]
  },
  {
   "cell_type": "code",
   "execution_count": 2,
   "metadata": {},
   "outputs": [],
   "source": [
    "x_values = np.random.normal(size = 200)\n",
    "x_vals = np.array(x_values, dtype=np.float32)\n",
    "r = np.random.normal(0, 3, size = 200)\n",
    "\n",
    "y_values = [3*i + 5 for i in x_values] + r\n",
    "y_vals = np.array(y_values, dtype=np.float32)\n"
   ]
  },
  {
   "cell_type": "code",
   "execution_count": 3,
   "metadata": {},
   "outputs": [],
   "source": [
    "x_train, x_test, y_train, y_test = (train_test_split(x_vals, y_vals, test_size=0.2))"
   ]
  },
  {
   "cell_type": "code",
   "execution_count": 4,
   "metadata": {},
   "outputs": [],
   "source": [
    "x_train = (x_train).reshape(-1, 1)\n",
    "x_test = (x_test).reshape(-1, 1)\n",
    "y_train = (y_train).reshape(-1, 1)\n",
    "y_test = (y_test).reshape(-1, 1)"
   ]
  },
  {
   "cell_type": "code",
   "execution_count": 5,
   "metadata": {},
   "outputs": [
    {
     "data": {
      "text/plain": [
       "(200,)"
      ]
     },
     "execution_count": 5,
     "metadata": {},
     "output_type": "execute_result"
    }
   ],
   "source": [
    "x_vals.shape"
   ]
  },
  {
   "cell_type": "code",
   "execution_count": 6,
   "metadata": {},
   "outputs": [
    {
     "name": "stdout",
     "output_type": "stream",
     "text": [
      "(160, 1)\n",
      "(160, 1)\n"
     ]
    }
   ],
   "source": [
    "print(x_train.shape)\n",
    "print(y_train.shape)"
   ]
  },
  {
   "cell_type": "code",
   "execution_count": 7,
   "metadata": {},
   "outputs": [
    {
     "data": {
      "text/plain": [
       "<matplotlib.collections.PathCollection at 0x1d10462faf0>"
      ]
     },
     "execution_count": 7,
     "metadata": {},
     "output_type": "execute_result"
    },
    {
     "data": {
      "image/png": "[encoded data removed]",
      "text/plain": [
       "<Figure size 432x288 with 1 Axes>"
      ]
     },
     "metadata": {
      "needs_background": "light"
     },
     "output_type": "display_data"
    }
   ],
   "source": [
    "plt.scatter(x_train, y_train)"
   ]
  },
  {
   "cell_type": "code",
   "execution_count": 8,
   "metadata": {},
   "outputs": [],
   "source": [
    "class NN(torch.nn.Module):\n",
    "    def __init__(self, inputSize, hiddenSize, outputSize):\n",
    "        super(NN, self).__init__()\n",
    "        self.linear = nn.Sequential(torch.nn.Linear(inputSize, hiddenSize),\n",
    "                                    torch.nn.ReLU(),\n",
    "                                    torch.nn.Linear(hiddenSize, outputSize))\n",
    "                                    \n",
    "\n",
    "    def forward(self, x):\n",
    "        out = self.linear(x)\n",
    "        return out"
   ]
  },
  {
   "cell_type": "code",
   "execution_count": 9,
   "metadata": {},
   "outputs": [],
   "source": [
    "inputDim = 1\n",
    "hidden_sizes = 100\n",
    "outputDim = 1      \n",
    "learningRate = 0.001 \n",
    "epochs = 101\n",
    "\n"
   ]
  },
  {
   "cell_type": "code",
   "execution_count": 10,
   "metadata": {
    "scrolled": true
   },
   "outputs": [],
   "source": [
    "criterion = torch.nn.MSELoss() "
   ]
  },
  {
   "cell_type": "code",
   "execution_count": 11,
   "metadata": {},
   "outputs": [
    {
     "name": "stdout",
     "output_type": "stream",
     "text": [
      "h: 2 | epoch: 0, loss: 42.692405700683594\n",
      "h: 2 | epoch: 50, loss: 37.56977844238281\n",
      "h: 2 | epoch: 100, loss: 33.569862365722656\n",
      "h: 3 | epoch: 0, loss: 47.175601959228516\n",
      "h: 3 | epoch: 50, loss: 37.92622756958008\n",
      "h: 3 | epoch: 100, loss: 27.14520835876465\n",
      "h: 4 | epoch: 0, loss: 43.05925750732422\n",
      "h: 4 | epoch: 50, loss: 32.77583694458008\n",
      "h: 4 | epoch: 100, loss: 21.795927047729492\n",
      "h: 5 | epoch: 0, loss: 39.309425354003906\n",
      "h: 5 | epoch: 50, loss: 27.603479385375977\n",
      "h: 5 | epoch: 100, loss: 16.787166595458984\n",
      "h: 6 | epoch: 0, loss: 46.93109893798828\n",
      "h: 6 | epoch: 50, loss: 35.50210189819336\n",
      "h: 6 | epoch: 100, loss: 25.832366943359375\n",
      "h: 7 | epoch: 0, loss: 44.62360763549805\n",
      "h: 7 | epoch: 50, loss: 37.476104736328125\n",
      "h: 7 | epoch: 100, loss: 32.044132232666016\n",
      "h: 8 | epoch: 0, loss: 54.7021598815918\n",
      "h: 8 | epoch: 50, loss: 30.691415786743164\n",
      "h: 8 | epoch: 100, loss: 16.555774688720703\n",
      "h: 9 | epoch: 0, loss: 44.711265563964844\n",
      "h: 9 | epoch: 50, loss: 29.72262191772461\n",
      "h: 9 | epoch: 100, loss: 17.629852294921875\n",
      "h: 10 | epoch: 0, loss: 42.20893859863281\n",
      "h: 10 | epoch: 50, loss: 21.064197540283203\n",
      "h: 10 | epoch: 100, loss: 11.499334335327148\n",
      "h: 11 | epoch: 0, loss: 40.030006408691406\n",
      "h: 11 | epoch: 50, loss: 28.602041244506836\n",
      "h: 11 | epoch: 100, loss: 18.581697463989258\n",
      "h: 12 | epoch: 0, loss: 48.82886505126953\n",
      "h: 12 | epoch: 50, loss: 32.317440032958984\n",
      "h: 12 | epoch: 100, loss: 20.34466552734375\n",
      "h: 13 | epoch: 0, loss: 43.4271354675293\n",
      "h: 13 | epoch: 50, loss: 26.56597328186035\n",
      "h: 13 | epoch: 100, loss: 14.959134101867676\n",
      "h: 14 | epoch: 0, loss: 47.04804992675781\n",
      "h: 14 | epoch: 50, loss: 30.885940551757812\n",
      "h: 14 | epoch: 100, loss: 18.997154235839844\n",
      "h: 15 | epoch: 0, loss: 43.189842224121094\n",
      "h: 15 | epoch: 50, loss: 24.154129028320312\n",
      "h: 15 | epoch: 100, loss: 14.069833755493164\n",
      "h: 16 | epoch: 0, loss: 51.33898162841797\n",
      "h: 16 | epoch: 50, loss: 28.438512802124023\n",
      "h: 16 | epoch: 100, loss: 16.513551712036133\n",
      "h: 17 | epoch: 0, loss: 40.403564453125\n",
      "h: 17 | epoch: 50, loss: 21.847461700439453\n",
      "h: 17 | epoch: 100, loss: 12.433109283447266\n",
      "h: 18 | epoch: 0, loss: 38.36183166503906\n",
      "h: 18 | epoch: 50, loss: 22.327865600585938\n",
      "h: 18 | epoch: 100, loss: 13.047128677368164\n",
      "h: 19 | epoch: 0, loss: 40.346229553222656\n",
      "h: 19 | epoch: 50, loss: 17.423999786376953\n",
      "h: 19 | epoch: 100, loss: 10.285085678100586\n",
      "h: 20 | epoch: 0, loss: 41.33156967163086\n",
      "h: 20 | epoch: 50, loss: 25.67758560180664\n",
      "h: 20 | epoch: 100, loss: 15.167282104492188\n",
      "h: 21 | epoch: 0, loss: 47.456478118896484\n",
      "h: 21 | epoch: 50, loss: 23.170827865600586\n",
      "h: 21 | epoch: 100, loss: 12.507482528686523\n",
      "h: 22 | epoch: 0, loss: 45.44122314453125\n",
      "h: 22 | epoch: 50, loss: 20.173744201660156\n",
      "h: 22 | epoch: 100, loss: 11.478384017944336\n",
      "h: 23 | epoch: 0, loss: 43.18981170654297\n",
      "h: 23 | epoch: 50, loss: 18.351093292236328\n",
      "h: 23 | epoch: 100, loss: 10.785261154174805\n",
      "h: 24 | epoch: 0, loss: 48.988895416259766\n",
      "h: 24 | epoch: 50, loss: 30.110973358154297\n",
      "h: 24 | epoch: 100, loss: 19.22381591796875\n",
      "h: 25 | epoch: 0, loss: 43.53534698486328\n",
      "h: 25 | epoch: 50, loss: 17.416955947875977\n",
      "h: 25 | epoch: 100, loss: 10.311270713806152\n",
      "h: 26 | epoch: 0, loss: 45.54734420776367\n",
      "h: 26 | epoch: 50, loss: 21.428363800048828\n",
      "h: 26 | epoch: 100, loss: 11.857993125915527\n",
      "h: 27 | epoch: 0, loss: 43.562583923339844\n",
      "h: 27 | epoch: 50, loss: 18.920940399169922\n",
      "h: 27 | epoch: 100, loss: 10.88560676574707\n",
      "h: 28 | epoch: 0, loss: 46.502262115478516\n",
      "h: 28 | epoch: 50, loss: 21.59295082092285\n",
      "h: 28 | epoch: 100, loss: 11.909581184387207\n",
      "h: 29 | epoch: 0, loss: 40.46867370605469\n",
      "h: 29 | epoch: 50, loss: 17.520442962646484\n",
      "h: 29 | epoch: 100, loss: 10.531627655029297\n",
      "h: 30 | epoch: 0, loss: 41.3867301940918\n",
      "h: 30 | epoch: 50, loss: 15.004693984985352\n",
      "h: 30 | epoch: 100, loss: 9.688232421875\n",
      "h: 31 | epoch: 0, loss: 41.5959587097168\n",
      "h: 31 | epoch: 50, loss: 11.755105972290039\n",
      "h: 31 | epoch: 100, loss: 9.19847583770752\n",
      "h: 32 | epoch: 0, loss: 44.67940902709961\n",
      "h: 32 | epoch: 50, loss: 18.05694007873535\n",
      "h: 32 | epoch: 100, loss: 10.403982162475586\n",
      "h: 33 | epoch: 0, loss: 44.4575080871582\n",
      "h: 33 | epoch: 50, loss: 15.114484786987305\n",
      "h: 33 | epoch: 100, loss: 9.656742095947266\n",
      "h: 34 | epoch: 0, loss: 42.001617431640625\n",
      "h: 34 | epoch: 50, loss: 12.635663986206055\n",
      "h: 34 | epoch: 100, loss: 9.343159675598145\n",
      "h: 35 | epoch: 0, loss: 46.65827941894531\n",
      "h: 35 | epoch: 50, loss: 15.725237846374512\n",
      "h: 35 | epoch: 100, loss: 9.57075023651123\n",
      "h: 36 | epoch: 0, loss: 43.694942474365234\n",
      "h: 36 | epoch: 50, loss: 20.38954734802246\n",
      "h: 36 | epoch: 100, loss: 12.533941268920898\n",
      "h: 37 | epoch: 0, loss: 46.650230407714844\n",
      "h: 37 | epoch: 50, loss: 14.454206466674805\n",
      "h: 37 | epoch: 100, loss: 9.459997177124023\n",
      "h: 38 | epoch: 0, loss: 47.07789611816406\n",
      "h: 38 | epoch: 50, loss: 17.46393394470215\n",
      "h: 38 | epoch: 100, loss: 10.286579132080078\n",
      "h: 39 | epoch: 0, loss: 42.189048767089844\n",
      "h: 39 | epoch: 50, loss: 16.677480697631836\n",
      "h: 39 | epoch: 100, loss: 10.491363525390625\n",
      "h: 40 | epoch: 0, loss: 44.6309814453125\n",
      "h: 40 | epoch: 50, loss: 20.408035278320312\n",
      "h: 40 | epoch: 100, loss: 11.590700149536133\n",
      "h: 41 | epoch: 0, loss: 47.67168426513672\n",
      "h: 41 | epoch: 50, loss: 14.966023445129395\n",
      "h: 41 | epoch: 100, loss: 9.551939010620117\n",
      "h: 42 | epoch: 0, loss: 49.074729919433594\n",
      "h: 42 | epoch: 50, loss: 15.870267868041992\n",
      "h: 42 | epoch: 100, loss: 10.207864761352539\n",
      "h: 43 | epoch: 0, loss: 39.23119354248047\n",
      "h: 43 | epoch: 50, loss: 12.366941452026367\n",
      "h: 43 | epoch: 100, loss: 9.198081016540527\n",
      "h: 44 | epoch: 0, loss: 43.92165756225586\n",
      "h: 44 | epoch: 50, loss: 15.39411735534668\n",
      "h: 44 | epoch: 100, loss: 9.92422866821289\n",
      "h: 45 | epoch: 0, loss: 45.52960205078125\n",
      "h: 45 | epoch: 50, loss: 15.078079223632812\n",
      "h: 45 | epoch: 100, loss: 9.48473072052002\n",
      "h: 46 | epoch: 0, loss: 44.9237174987793\n",
      "h: 46 | epoch: 50, loss: 11.384479522705078\n",
      "h: 46 | epoch: 100, loss: 9.099241256713867\n",
      "h: 47 | epoch: 0, loss: 45.49205780029297\n",
      "h: 47 | epoch: 50, loss: 14.117059707641602\n",
      "h: 47 | epoch: 100, loss: 9.419897079467773\n",
      "h: 48 | epoch: 0, loss: 47.735694885253906\n",
      "h: 48 | epoch: 50, loss: 15.268220901489258\n",
      "h: 48 | epoch: 100, loss: 10.005773544311523\n",
      "h: 49 | epoch: 0, loss: 42.54115676879883\n",
      "h: 49 | epoch: 50, loss: 13.388465881347656\n",
      "h: 49 | epoch: 100, loss: 9.402510643005371\n",
      "h: 50 | epoch: 0, loss: 42.77724075317383\n",
      "h: 50 | epoch: 50, loss: 17.893503189086914\n",
      "h: 50 | epoch: 100, loss: 11.134187698364258\n",
      "h: 51 | epoch: 0, loss: 50.22038650512695\n",
      "h: 51 | epoch: 50, loss: 15.691835403442383\n",
      "h: 51 | epoch: 100, loss: 10.261395454406738\n",
      "h: 52 | epoch: 0, loss: 43.3081169128418\n",
      "h: 52 | epoch: 50, loss: 11.657658576965332\n",
      "h: 52 | epoch: 100, loss: 8.944158554077148\n",
      "h: 53 | epoch: 0, loss: 42.16139602661133\n",
      "h: 53 | epoch: 50, loss: 10.872953414916992\n",
      "h: 53 | epoch: 100, loss: 9.116243362426758\n",
      "h: 54 | epoch: 0, loss: 41.3625602722168\n",
      "h: 54 | epoch: 50, loss: 12.194761276245117\n",
      "h: 54 | epoch: 100, loss: 9.44363021850586\n",
      "h: 55 | epoch: 0, loss: 41.7354621887207\n",
      "h: 55 | epoch: 50, loss: 11.956388473510742\n",
      "h: 55 | epoch: 100, loss: 9.096192359924316\n",
      "h: 56 | epoch: 0, loss: 46.095726013183594\n",
      "h: 56 | epoch: 50, loss: 13.477241516113281\n",
      "h: 56 | epoch: 100, loss: 9.605294227600098\n",
      "h: 57 | epoch: 0, loss: 48.28480911254883\n",
      "h: 57 | epoch: 50, loss: 16.318395614624023\n",
      "h: 57 | epoch: 100, loss: 9.965494155883789\n",
      "h: 58 | epoch: 0, loss: 42.05298614501953\n",
      "h: 58 | epoch: 50, loss: 15.142619132995605\n",
      "h: 58 | epoch: 100, loss: 10.24382495880127\n",
      "h: 59 | epoch: 0, loss: 49.369972229003906\n",
      "h: 59 | epoch: 50, loss: 12.45124340057373\n",
      "h: 59 | epoch: 100, loss: 9.48738956451416\n",
      "h: 60 | epoch: 0, loss: 46.85770034790039\n",
      "h: 60 | epoch: 50, loss: 12.832128524780273\n",
      "h: 60 | epoch: 100, loss: 9.320721626281738\n",
      "h: 61 | epoch: 0, loss: 47.298912048339844\n",
      "h: 61 | epoch: 50, loss: 13.770681381225586\n",
      "h: 61 | epoch: 100, loss: 9.380921363830566\n",
      "h: 62 | epoch: 0, loss: 46.774784088134766\n",
      "h: 62 | epoch: 50, loss: 13.981229782104492\n",
      "h: 62 | epoch: 100, loss: 9.417889595031738\n",
      "h: 63 | epoch: 0, loss: 45.242164611816406\n",
      "h: 63 | epoch: 50, loss: 11.827317237854004\n",
      "h: 63 | epoch: 100, loss: 8.93016242980957\n",
      "h: 64 | epoch: 0, loss: 39.0213623046875\n",
      "h: 64 | epoch: 50, loss: 11.927103042602539\n",
      "h: 64 | epoch: 100, loss: 9.36563777923584\n",
      "h: 65 | epoch: 0, loss: 52.41935348510742\n",
      "h: 65 | epoch: 50, loss: 14.265167236328125\n"
     ]
    },
    {
     "name": "stdout",
     "output_type": "stream",
     "text": [
      "h: 65 | epoch: 100, loss: 9.84877872467041\n",
      "h: 66 | epoch: 0, loss: 43.08460998535156\n",
      "h: 66 | epoch: 50, loss: 10.921083450317383\n",
      "h: 66 | epoch: 100, loss: 9.077835083007812\n",
      "h: 67 | epoch: 0, loss: 39.3473014831543\n",
      "h: 67 | epoch: 50, loss: 12.135701179504395\n",
      "h: 67 | epoch: 100, loss: 9.38120174407959\n",
      "h: 68 | epoch: 0, loss: 45.60858917236328\n",
      "h: 68 | epoch: 50, loss: 11.141528129577637\n",
      "h: 68 | epoch: 100, loss: 9.220061302185059\n",
      "h: 69 | epoch: 0, loss: 51.569847106933594\n",
      "h: 69 | epoch: 50, loss: 12.544759750366211\n",
      "h: 69 | epoch: 100, loss: 9.083520889282227\n",
      "h: 70 | epoch: 0, loss: 37.625144958496094\n",
      "h: 70 | epoch: 50, loss: 10.363115310668945\n",
      "h: 70 | epoch: 100, loss: 8.899171829223633\n",
      "h: 71 | epoch: 0, loss: 49.20394515991211\n",
      "h: 71 | epoch: 50, loss: 11.180685043334961\n",
      "h: 71 | epoch: 100, loss: 9.004403114318848\n",
      "h: 72 | epoch: 0, loss: 50.1841926574707\n",
      "h: 72 | epoch: 50, loss: 10.242948532104492\n",
      "h: 72 | epoch: 100, loss: 8.776250839233398\n",
      "h: 73 | epoch: 0, loss: 43.54648971557617\n",
      "h: 73 | epoch: 50, loss: 13.19585132598877\n",
      "h: 73 | epoch: 100, loss: 9.757211685180664\n",
      "h: 74 | epoch: 0, loss: 51.49909591674805\n",
      "h: 74 | epoch: 50, loss: 10.79792308807373\n",
      "h: 74 | epoch: 100, loss: 9.127199172973633\n",
      "h: 75 | epoch: 0, loss: 44.240386962890625\n",
      "h: 75 | epoch: 50, loss: 12.001012802124023\n",
      "h: 75 | epoch: 100, loss: 9.663174629211426\n",
      "h: 76 | epoch: 0, loss: 40.78350830078125\n",
      "h: 76 | epoch: 50, loss: 10.933782577514648\n",
      "h: 76 | epoch: 100, loss: 9.264244079589844\n",
      "h: 77 | epoch: 0, loss: 46.03909683227539\n",
      "h: 77 | epoch: 50, loss: 12.739435195922852\n",
      "h: 77 | epoch: 100, loss: 9.473540306091309\n",
      "h: 78 | epoch: 0, loss: 49.36959457397461\n",
      "h: 78 | epoch: 50, loss: 10.901774406433105\n",
      "h: 78 | epoch: 100, loss: 9.035179138183594\n",
      "h: 79 | epoch: 0, loss: 42.52649688720703\n",
      "h: 79 | epoch: 50, loss: 11.67054557800293\n",
      "h: 79 | epoch: 100, loss: 9.126651763916016\n",
      "h: 80 | epoch: 0, loss: 45.27707290649414\n",
      "h: 80 | epoch: 50, loss: 11.525303840637207\n",
      "h: 80 | epoch: 100, loss: 9.185586929321289\n",
      "h: 81 | epoch: 0, loss: 49.32225799560547\n",
      "h: 81 | epoch: 50, loss: 11.115592956542969\n",
      "h: 81 | epoch: 100, loss: 9.307391166687012\n",
      "h: 82 | epoch: 0, loss: 48.62665557861328\n",
      "h: 82 | epoch: 50, loss: 10.258524894714355\n",
      "h: 82 | epoch: 100, loss: 8.89864444732666\n",
      "h: 83 | epoch: 0, loss: 41.775901794433594\n",
      "h: 83 | epoch: 50, loss: 10.362695693969727\n",
      "h: 83 | epoch: 100, loss: 9.011631965637207\n",
      "h: 84 | epoch: 0, loss: 37.4041748046875\n",
      "h: 84 | epoch: 50, loss: 9.181507110595703\n",
      "h: 84 | epoch: 100, loss: 8.675268173217773\n",
      "h: 85 | epoch: 0, loss: 49.11983871459961\n",
      "h: 85 | epoch: 50, loss: 9.676871299743652\n",
      "h: 85 | epoch: 100, loss: 8.971393585205078\n",
      "h: 86 | epoch: 0, loss: 44.94141387939453\n",
      "h: 86 | epoch: 50, loss: 10.60727596282959\n",
      "h: 86 | epoch: 100, loss: 9.110489845275879\n",
      "h: 87 | epoch: 0, loss: 43.12519073486328\n",
      "h: 87 | epoch: 50, loss: 11.451717376708984\n",
      "h: 87 | epoch: 100, loss: 9.25462818145752\n",
      "h: 88 | epoch: 0, loss: 44.0981559753418\n",
      "h: 88 | epoch: 50, loss: 9.580110549926758\n",
      "h: 88 | epoch: 100, loss: 8.709663391113281\n",
      "h: 89 | epoch: 0, loss: 42.150142669677734\n",
      "h: 89 | epoch: 50, loss: 11.046424865722656\n",
      "h: 89 | epoch: 100, loss: 9.33750057220459\n",
      "h: 90 | epoch: 0, loss: 41.042701721191406\n",
      "h: 90 | epoch: 50, loss: 9.835562705993652\n",
      "h: 90 | epoch: 100, loss: 9.21016788482666\n",
      "h: 91 | epoch: 0, loss: 40.557186126708984\n",
      "h: 91 | epoch: 50, loss: 9.621660232543945\n",
      "h: 91 | epoch: 100, loss: 8.841553688049316\n",
      "h: 92 | epoch: 0, loss: 42.58907699584961\n",
      "h: 92 | epoch: 50, loss: 11.730098724365234\n",
      "h: 92 | epoch: 100, loss: 9.219780921936035\n",
      "h: 93 | epoch: 0, loss: 43.180938720703125\n",
      "h: 93 | epoch: 50, loss: 9.707669258117676\n",
      "h: 93 | epoch: 100, loss: 8.891000747680664\n",
      "h: 94 | epoch: 0, loss: 50.926780700683594\n",
      "h: 94 | epoch: 50, loss: 10.037774085998535\n",
      "h: 94 | epoch: 100, loss: 8.856851577758789\n",
      "h: 95 | epoch: 0, loss: 47.61774826049805\n",
      "h: 95 | epoch: 50, loss: 9.398311614990234\n",
      "h: 95 | epoch: 100, loss: 9.048728942871094\n",
      "h: 96 | epoch: 0, loss: 44.67230224609375\n",
      "h: 96 | epoch: 50, loss: 10.599431037902832\n",
      "h: 96 | epoch: 100, loss: 8.904086112976074\n",
      "h: 97 | epoch: 0, loss: 43.617897033691406\n",
      "h: 97 | epoch: 50, loss: 9.786885261535645\n",
      "h: 97 | epoch: 100, loss: 8.909326553344727\n",
      "h: 98 | epoch: 0, loss: 39.650230407714844\n",
      "h: 98 | epoch: 50, loss: 9.83128547668457\n",
      "h: 98 | epoch: 100, loss: 9.002805709838867\n",
      "h: 99 | epoch: 0, loss: 39.39731216430664\n",
      "h: 99 | epoch: 50, loss: 9.642866134643555\n",
      "h: 99 | epoch: 100, loss: 9.014782905578613\n"
     ]
    }
   ],
   "source": [
    "#!!! Note that training in the code below done outside of epoch loop.\n",
    "hs = []\n",
    "train_losses = []\n",
    "test_losses = []\n",
    "for h in range(2, hidden_sizes, 1):\n",
    "    hs.append(h)\n",
    "    model = NN(inputDim, h, outputDim)\n",
    "    optimizer = torch.optim.SGD(model.parameters(), lr=learningRate)\n",
    "    for epoch in range(epochs):\n",
    "        if torch.cuda.is_available():\n",
    "            inputs_train = Variable(torch.from_numpy(x_train).cuda())\n",
    "            labels_train = Variable(torch.from_numpy(y_train).cuda())\n",
    "        else:\n",
    "            inputs_train = Variable(torch.from_numpy(x_train))\n",
    "            labels_train = Variable(torch.from_numpy(y_train))\n",
    "        if torch.cuda.is_available():\n",
    "            inputs_test = Variable(torch.from_numpy(x_test).cuda())\n",
    "            labels_test = Variable(torch.from_numpy(y_test).cuda())\n",
    "        else:\n",
    "            inputs_test = Variable(torch.from_numpy(x_test))\n",
    "            labels_test = Variable(torch.from_numpy(y_test))\n",
    "        optimizer.zero_grad()\n",
    "        outputs = model(inputs_train)\n",
    "        loss = criterion(outputs, labels_train)\n",
    "        loss.backward()\n",
    "        optimizer.step()\n",
    "        if epoch % 50 == 0:\n",
    "            print('h: {} | epoch: {}, loss: {}'.format(h, epoch, loss.item()))  \n",
    "    outputs_train = model(inputs_train)\n",
    "    train_loss = criterion(outputs_train, labels_train)\n",
    "    train_losses.append(train_loss)\n",
    "    outputs_test = model(inputs_test)\n",
    "    test_loss = criterion(outputs_test, labels_test)\n",
    "    test_losses.append(test_loss)"
   ]
  },
  {
   "cell_type": "code",
   "execution_count": 12,
   "metadata": {
    "scrolled": true
   },
   "outputs": [
    {
     "name": "stdout",
     "output_type": "stream",
     "text": [
      "[[ 8.902522 ]\n",
      " [ 2.8270493]\n",
      " [ 3.4047832]\n",
      " [ 5.4031477]\n",
      " [ 7.8822446]\n",
      " [ 2.032013 ]\n",
      " [ 9.082644 ]\n",
      " [ 4.3535137]\n",
      " [ 5.9129295]\n",
      " [ 6.3615236]\n",
      " [ 2.9993281]\n",
      " [ 2.8929853]\n",
      " [ 7.38951  ]\n",
      " [ 3.3161597]\n",
      " [ 4.103616 ]\n",
      " [ 2.7963061]\n",
      " [ 7.884774 ]\n",
      " [ 9.498088 ]\n",
      " [ 6.662055 ]\n",
      " [ 3.3949676]\n",
      " [ 2.2277637]\n",
      " [ 1.9760557]\n",
      " [ 5.09418  ]\n",
      " [ 3.0466743]\n",
      " [ 2.1339574]\n",
      " [ 3.4074636]\n",
      " [ 4.0615425]\n",
      " [ 8.094581 ]\n",
      " [ 4.538439 ]\n",
      " [ 6.697992 ]\n",
      " [ 2.1800184]\n",
      " [ 5.7287717]\n",
      " [ 5.086544 ]\n",
      " [ 8.72812  ]\n",
      " [ 2.6718416]\n",
      " [ 2.7185884]\n",
      " [ 1.868836 ]\n",
      " [ 8.5554285]\n",
      " [ 7.233649 ]\n",
      " [ 6.2543545]\n",
      " [ 6.9037743]\n",
      " [ 6.334093 ]\n",
      " [ 5.370906 ]\n",
      " [ 6.1223783]\n",
      " [ 6.8184958]\n",
      " [ 7.4657216]\n",
      " [ 1.8023708]\n",
      " [ 7.069658 ]\n",
      " [ 8.052901 ]\n",
      " [ 3.4454126]\n",
      " [ 5.4060874]\n",
      " [ 2.7302127]\n",
      " [ 1.8406316]\n",
      " [ 5.94576  ]\n",
      " [11.661948 ]\n",
      " [ 2.684857 ]\n",
      " [ 5.817814 ]\n",
      " [ 3.987906 ]\n",
      " [ 9.239342 ]\n",
      " [ 6.9093385]\n",
      " [ 1.9752831]\n",
      " [ 4.953722 ]\n",
      " [ 7.387208 ]\n",
      " [ 3.7441235]\n",
      " [ 5.909482 ]\n",
      " [ 4.239979 ]\n",
      " [ 4.7534313]\n",
      " [ 3.570982 ]\n",
      " [ 2.4336257]\n",
      " [ 8.458635 ]\n",
      " [ 3.5656905]\n",
      " [ 7.3027945]\n",
      " [ 1.752585 ]\n",
      " [ 4.120471 ]\n",
      " [ 3.7806215]\n",
      " [ 2.5382109]\n",
      " [11.368768 ]\n",
      " [ 2.1975694]\n",
      " [ 2.2104342]\n",
      " [ 6.828842 ]\n",
      " [ 3.2902346]\n",
      " [ 7.132601 ]\n",
      " [ 5.4439745]\n",
      " [ 5.468753 ]\n",
      " [ 5.788792 ]\n",
      " [ 2.6207218]\n",
      " [ 6.1930423]\n",
      " [ 6.91494  ]\n",
      " [ 6.318659 ]\n",
      " [ 2.3896017]\n",
      " [ 3.1588707]\n",
      " [ 4.712053 ]\n",
      " [ 3.8412504]\n",
      " [ 9.082839 ]\n",
      " [ 5.590851 ]\n",
      " [ 7.7755337]\n",
      " [ 3.773435 ]\n",
      " [ 7.5467844]\n",
      " [ 3.2091203]\n",
      " [ 3.4918275]\n",
      " [ 7.909067 ]\n",
      " [ 4.310071 ]\n",
      " [ 7.7726097]\n",
      " [ 5.5993605]\n",
      " [ 3.1608152]\n",
      " [ 3.1139832]\n",
      " [ 6.4584837]\n",
      " [ 2.2670574]\n",
      " [ 5.181571 ]\n",
      " [ 4.6606407]\n",
      " [ 2.3139586]\n",
      " [ 4.179399 ]\n",
      " [ 5.7385807]\n",
      " [ 1.6713976]\n",
      " [ 2.500771 ]\n",
      " [ 4.816927 ]\n",
      " [ 2.5166807]\n",
      " [ 7.4514465]\n",
      " [ 9.922677 ]\n",
      " [ 3.080882 ]\n",
      " [ 5.305179 ]\n",
      " [ 5.649793 ]\n",
      " [ 8.676811 ]\n",
      " [ 8.100213 ]\n",
      " [ 2.1951547]\n",
      " [ 4.499118 ]\n",
      " [ 6.0416775]\n",
      " [ 7.0912676]\n",
      " [ 4.761333 ]\n",
      " [ 4.4124203]\n",
      " [ 1.8352302]\n",
      " [11.747946 ]\n",
      " [ 5.284339 ]\n",
      " [ 2.3452692]\n",
      " [ 2.2222857]\n",
      " [13.011794 ]\n",
      " [ 6.835658 ]\n",
      " [ 5.177176 ]\n",
      " [ 6.1522393]\n",
      " [ 7.8959   ]\n",
      " [ 2.4244623]\n",
      " [ 3.8016386]\n",
      " [ 3.2392297]\n",
      " [ 3.529471 ]\n",
      " [ 7.55368  ]\n",
      " [ 4.5994616]\n",
      " [ 2.018937 ]\n",
      " [ 6.9165964]\n",
      " [ 9.071721 ]\n",
      " [12.099658 ]\n",
      " [13.106513 ]\n",
      " [ 4.8274784]\n",
      " [ 5.5930023]\n",
      " [ 5.218259 ]\n",
      " [ 9.461546 ]\n",
      " [ 3.7425551]\n",
      " [ 9.218323 ]\n",
      " [ 2.648097 ]\n",
      " [ 3.3839288]\n",
      " [ 6.455896 ]]\n"
     ]
    }
   ],
   "source": [
    "with torch.no_grad(): \n",
    "    if torch.cuda.is_available():\n",
    "        predicted = model(Variable(torch.from_numpy(x_train).cuda())).cpu().data.numpy()\n",
    "    else:\n",
    "        predicted = model(Variable(torch.from_numpy(x_train))).data.numpy()\n",
    "    print(predicted)"
   ]
  },
  {
   "cell_type": "code",
   "execution_count": 13,
   "metadata": {},
   "outputs": [
    {
     "data": {
      "image/png": "[encoded data removed]",
      "text/plain": [
       "<Figure size 432x288 with 1 Axes>"
      ]
     },
     "metadata": {
      "needs_background": "light"
     },
     "output_type": "display_data"
    }
   ],
   "source": [
    "plt.clf()\n",
    "plt.plot(x_train, y_train, 'go', label='True data', alpha=0.5)\n",
    "plt.plot(x_train, predicted, '--', label='Predictions', alpha=0.5)\n",
    "plt.legend(loc='best')\n",
    "plt.show()"
   ]
  },
  {
   "cell_type": "markdown",
   "metadata": {},
   "source": [
    "### Interpolation threshold.\n",
    "Plot the interpolation threshold (n=p) as a vertical line.\n",
    "The number of parameters is $p = (d+1)*H + (H+1)*K$, where H is a number of neurons in a hidden layer;\n",
    "d is a dimension of input and K is a dimension of output (K=1 in the case of regression).\n",
    "The X-axis on the plot below reveals the size of H.\n",
    "1. What will be the value of H for the case n=p?\n",
    "2. Plot the interpolation threshold. Does it correspond to a test loss pick?"
   ]
  },
  {
   "cell_type": "code",
   "execution_count": 21,
   "metadata": {},
   "outputs": [
    {
     "data": {
      "text/plain": [
       "(0.0, 100.0)"
      ]
     },
     "execution_count": 21,
     "metadata": {},
     "output_type": "execute_result"
    },
    {
     "data": {
      "image/png": "[encoded data removed]",
      "text/plain": [
       "<Figure size 432x288 with 1 Axes>"
      ]
     },
     "metadata": {
      "needs_background": "light"
     },
     "output_type": "display_data"
    }
   ],
   "source": [
    "plt.plot(hs, train_losses, label='Train Loss')\n",
    "plt.plot(hs, test_losses, label='Test loss')\n",
    "plt.axvline(53, color = 'r', linestyle = '--', label = 'Interp. Threshold')\n",
    "plt.legend(loc='best')\n",
    "plt.xlim(0, 100)"
   ]
  },
  {
   "cell_type": "code",
   "execution_count": 15,
   "metadata": {},
   "outputs": [
    {
     "data": {
      "text/plain": [
       "(0.0, 100.0)"
      ]
     },
     "execution_count": 15,
     "metadata": {},
     "output_type": "execute_result"
    },
    {
     "data": {
      "image/png": "[encoded data removed]",
      "text/plain": [
       "<Figure size 432x288 with 1 Axes>"
      ]
     },
     "metadata": {
      "needs_background": "light"
     },
     "output_type": "display_data"
    }
   ],
   "source": [
    "plt.plot(hs, train_losses)\n",
    "plt.title('Train Loss')\n",
    "plt.xlim(0, 100)"
   ]
  },
  {
   "cell_type": "code",
   "execution_count": 16,
   "metadata": {},
   "outputs": [
    {
     "data": {
      "text/plain": [
       "(0.0, 100.0)"
      ]
     },
     "execution_count": 16,
     "metadata": {},
     "output_type": "execute_result"
    },
    {
     "data": {
      "image/png": "[encoded data removed]",
      "text/plain": [
       "<Figure size 432x288 with 1 Axes>"
      ]
     },
     "metadata": {
      "needs_background": "light"
     },
     "output_type": "display_data"
    }
   ],
   "source": [
    "plt.plot(hs, test_losses)\n",
    "plt.title('Test Loss')\n",
    "plt.xlim(0, 100)"
   ]
  },
  {
   "cell_type": "code",
   "execution_count": null,
   "metadata": {},
   "outputs": [],
   "source": []
  },
  {
   "cell_type": "code",
   "execution_count": null,
   "metadata": {},
   "outputs": [],
   "source": []
  },
  {
   "cell_type": "code",
   "execution_count": null,
   "metadata": {},
   "outputs": [],
   "source": []
  },
  {
   "cell_type": "code",
   "execution_count": null,
   "metadata": {},
   "outputs": [],
   "source": []
  },
  {
   "cell_type": "code",
   "execution_count": null,
   "metadata": {},
   "outputs": [],
   "source": []
  }
 ],
 "metadata": {
  "kernelspec": {
   "display_name": "Python 3",
   "language": "python",
   "name": "python3"
  },
  "language_info": {
   "codemirror_mode": {
    "name": "ipython",
    "version": 3
   },
   "file_extension": ".py",
   "mimetype": "text/x-python",
   "name": "python",
   "nbconvert_exporter": "python",
   "pygments_lexer": "ipython3",
   "version": "3.8.3"
  }
 },
 "nbformat": 4,
 "nbformat_minor": 2
}
